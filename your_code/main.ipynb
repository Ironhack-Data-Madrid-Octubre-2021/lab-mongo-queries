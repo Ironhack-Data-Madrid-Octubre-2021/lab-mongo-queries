{
 "cells": [
  {
   "cell_type": "markdown",
   "metadata": {},
   "source": [
    "# Advanced Querying Mongo"
   ]
  },
  {
   "cell_type": "markdown",
   "metadata": {},
   "source": [
    "Importing libraries and setting up connection"
   ]
  },
  {
   "cell_type": "code",
   "execution_count": 4,
   "metadata": {},
   "outputs": [],
   "source": [
    "from pymongo import MongoClient\n",
    "client = MongoClient(\"localhost:27017\")"
   ]
  },
  {
   "cell_type": "code",
   "execution_count": 5,
   "metadata": {},
   "outputs": [],
   "source": [
    "db = client.get_database(\"ironhack\")"
   ]
  },
  {
   "cell_type": "code",
   "execution_count": 6,
   "metadata": {},
   "outputs": [
    {
     "data": {
      "text/plain": [
       "['restaurants', 'companies', 'resaurant']"
      ]
     },
     "execution_count": 6,
     "metadata": {},
     "output_type": "execute_result"
    }
   ],
   "source": [
    "db.list_collection_names()"
   ]
  },
  {
   "cell_type": "code",
   "execution_count": 7,
   "metadata": {},
   "outputs": [],
   "source": [
    "c=db.get_collection(\"companies\")"
   ]
  },
  {
   "cell_type": "markdown",
   "metadata": {},
   "source": [
    "### 1. All the companies whose name match 'Babelgum'. Retrieve only their `name` field."
   ]
  },
  {
   "cell_type": "code",
   "execution_count": 8,
   "metadata": {},
   "outputs": [],
   "source": [
    "Babelgum = list(c.find({\"name\": \"Babelgum\"}))\n"
   ]
  },
  {
   "cell_type": "code",
   "execution_count": 10,
   "metadata": {},
   "outputs": [],
   "source": [
    "#print(Babelgum)"
   ]
  },
  {
   "cell_type": "markdown",
   "metadata": {},
   "source": [
    "### 2. All the companies that have more than 5000 employees. Limit the search to 20 companies and sort them by **number of employees**."
   ]
  },
  {
   "cell_type": "code",
   "execution_count": 11,
   "metadata": {},
   "outputs": [],
   "source": [
    "more_5000 = {\"number_of_employees\":{\"$gt\": 5000}}\n"
   ]
  },
  {
   "cell_type": "code",
   "execution_count": 16,
   "metadata": {},
   "outputs": [],
   "source": [
    "n_employees = list(c.find(more_5000).limit(20))\n"
   ]
  },
  {
   "cell_type": "code",
   "execution_count": 18,
   "metadata": {},
   "outputs": [],
   "source": [
    "#print(n_employees)"
   ]
  },
  {
   "cell_type": "markdown",
   "metadata": {},
   "source": [
    "### 3. All the companies founded between 2000 and 2005, both years included. Retrieve only the `name` and `founded_year` fields."
   ]
  },
  {
   "cell_type": "code",
   "execution_count": 29,
   "metadata": {},
   "outputs": [],
   "source": [
    "proy = {\"name\":1, \"founded_year\":1, \"_id\":0}\n",
    "\n",
    "cond1 = {\"founded_year\":{\"$gte\": 2000}}\n",
    "cond2 = {\"founded_year\":{\"$lte\": 2005}}\n",
    "\n",
    "companies = list(c.find({\"$and\": [cond1,cond2]},proy))\n"
   ]
  },
  {
   "cell_type": "code",
   "execution_count": 32,
   "metadata": {},
   "outputs": [],
   "source": [
    "#print(companies)"
   ]
  },
  {
   "cell_type": "markdown",
   "metadata": {},
   "source": [
    "### 4. All the companies that had a Valuation Amount of more than 100.000.000 and have been founded before 2010. Retrieve only the `name` and `ipo` fields."
   ]
  },
  {
   "cell_type": "code",
   "execution_count": 39,
   "metadata": {},
   "outputs": [],
   "source": [
    "proy = {\"name\":1, \"ipo\":1, \"_id\":0}\n",
    "\n",
    "cond1 = {\"ipo.valuation_amount\":{\"$gt\": 100000000}}\n",
    "cond2 = {\"founded_year\":{\"$lt\": 2010}}\n",
    "\n",
    "companies2 = list(c.find({\"$and\": [cond1,cond2]},proy))"
   ]
  },
  {
   "cell_type": "code",
   "execution_count": 41,
   "metadata": {},
   "outputs": [],
   "source": [
    "#companies2"
   ]
  },
  {
   "cell_type": "markdown",
   "metadata": {},
   "source": [
    "### 5. All the companies that have less than 1000 employees and have been founded before 2005. Order them by the number of employees and limit the search to 10 companies."
   ]
  },
  {
   "cell_type": "code",
   "execution_count": 58,
   "metadata": {},
   "outputs": [],
   "source": [
    "cond1 = {\"number_of_employees\":{\"$lt\": 1000}}\n",
    "cond2 = {\"founded_year\":{\"$lt\": 2005}}\n",
    "\n",
    "companies3 = list(c.find({\"$and\": [cond1,cond2]}).sort(\"number_of_employees\",1).limit(10))\n",
    "\n",
    "# No estoy segura si tengo que añadir \"1\" al sort o si al ordenar por nº de empleados, lo ordena por defecto de forma ascendente."
   ]
  },
  {
   "cell_type": "code",
   "execution_count": 60,
   "metadata": {},
   "outputs": [],
   "source": [
    "#companies3"
   ]
  },
  {
   "cell_type": "markdown",
   "metadata": {},
   "source": [
    "### 6. All the companies that don't include the `partners` field."
   ]
  },
  {
   "cell_type": "code",
   "execution_count": 66,
   "metadata": {},
   "outputs": [],
   "source": [
    "#list(c.find({\"partners\": {\"$nin\": [2,3,4]}})"
   ]
  },
  {
   "cell_type": "code",
   "execution_count": 74,
   "metadata": {},
   "outputs": [],
   "source": [
    "companies4 = list(c.find({\"partners\": {\"$exists\": False}}))"
   ]
  },
  {
   "cell_type": "code",
   "execution_count": 68,
   "metadata": {},
   "outputs": [],
   "source": [
    "#companies4"
   ]
  },
  {
   "cell_type": "code",
   "execution_count": 71,
   "metadata": {},
   "outputs": [
    {
     "data": {
      "text/plain": [
       "18801"
      ]
     },
     "execution_count": 71,
     "metadata": {},
     "output_type": "execute_result"
    }
   ],
   "source": [
    "len(companies4) # The len when exists:True is the same as the lenght of companies. The are not any False values."
   ]
  },
  {
   "cell_type": "markdown",
   "metadata": {},
   "source": [
    "### 7. All the companies that have a null type of value on the `category_code` field."
   ]
  },
  {
   "cell_type": "code",
   "execution_count": 83,
   "metadata": {},
   "outputs": [],
   "source": [
    "companies5 = list(c.find({\"category_code\": {\"$type\": \"null\"}}))"
   ]
  },
  {
   "cell_type": "code",
   "execution_count": 85,
   "metadata": {},
   "outputs": [],
   "source": [
    "#companies5"
   ]
  },
  {
   "cell_type": "markdown",
   "metadata": {},
   "source": [
    "### 8. All the companies that have at least 100 employees but less than 1000. Retrieve only the `name` and `number of employees` fields."
   ]
  },
  {
   "cell_type": "code",
   "execution_count": 87,
   "metadata": {},
   "outputs": [],
   "source": [
    "cond1 = {\"number_of_employees\":{\"$gte\": 100}}\n",
    "cond2 = {\"number_of_employees\":{\"$lte\": 1000}}\n",
    "proy = {\"name\":1, \"number\":1, \"_id\":0}\n",
    "\n",
    "companies6 = list(c.find({\"$and\": [cond1,cond2]}))"
   ]
  },
  {
   "cell_type": "code",
   "execution_count": 89,
   "metadata": {},
   "outputs": [],
   "source": [
    "#companies6"
   ]
  },
  {
   "cell_type": "markdown",
   "metadata": {},
   "source": [
    "### 9. Order all the companies by their IPO price in a descending order."
   ]
  },
  {
   "cell_type": "code",
   "execution_count": 95,
   "metadata": {},
   "outputs": [],
   "source": [
    "companies7 = list(c.find({}).sort(\"ipo\",-1))"
   ]
  },
  {
   "cell_type": "code",
   "execution_count": 97,
   "metadata": {},
   "outputs": [],
   "source": [
    "#companies7"
   ]
  },
  {
   "cell_type": "markdown",
   "metadata": {},
   "source": [
    "### 10. Retrieve the 10 companies with more employees, order by the `number of employees`"
   ]
  },
  {
   "cell_type": "code",
   "execution_count": 99,
   "metadata": {},
   "outputs": [],
   "source": [
    "companies8 = list(c.find({}).sort(\"number_of_employees\",-1).limit(10))"
   ]
  },
  {
   "cell_type": "code",
   "execution_count": 101,
   "metadata": {},
   "outputs": [],
   "source": [
    "#companies8"
   ]
  },
  {
   "cell_type": "markdown",
   "metadata": {},
   "source": [
    "### 11. All the companies founded on the second semester of the year. Limit your search to 1000 companies."
   ]
  },
  {
   "cell_type": "code",
   "execution_count": 102,
   "metadata": {},
   "outputs": [],
   "source": [
    "cond1={\"founded_month\":{\"$gt\":6}}\n",
    "\n",
    "companies9 = list(c.find(cond1).limit(1000))"
   ]
  },
  {
   "cell_type": "code",
   "execution_count": 104,
   "metadata": {},
   "outputs": [],
   "source": [
    "#companies9"
   ]
  },
  {
   "cell_type": "markdown",
   "metadata": {},
   "source": [
    "### 12. All the companies founded before 2000 that have an acquisition amount of more than 10.000.00"
   ]
  },
  {
   "cell_type": "code",
   "execution_count": 105,
   "metadata": {},
   "outputs": [],
   "source": [
    "cond1={\"founded_year\":{\"$lt\":2000}}\n",
    "cond2={\"acquisition.price_amount\":{\"$gt\":1000000}}\n",
    "\n",
    "companies10 = list(c.find({\"$and\": [cond1,cond2]}))\n"
   ]
  },
  {
   "cell_type": "code",
   "execution_count": 106,
   "metadata": {},
   "outputs": [],
   "source": [
    "#companies10"
   ]
  },
  {
   "cell_type": "markdown",
   "metadata": {},
   "source": [
    "### 13. All the companies that have been acquired after 2010, order by the acquisition amount, and retrieve only their `name` and `acquisition` field."
   ]
  },
  {
   "cell_type": "code",
   "execution_count": 111,
   "metadata": {},
   "outputs": [],
   "source": [
    "cond1={\"acquisition.acquired_year\":{\"$gt\":2010}}\n",
    "proy = {\"name\":1, \"acquisition\":1, \"_id\":0}\n",
    "\n",
    "companies11 = list(c.find(cond1,proy).sort(\"acquisition.price_amount\",-1))\n"
   ]
  },
  {
   "cell_type": "markdown",
   "metadata": {},
   "source": [
    "### 14. Order the companies by their `founded year`, retrieving only their `name` and `founded year`."
   ]
  },
  {
   "cell_type": "code",
   "execution_count": 116,
   "metadata": {},
   "outputs": [],
   "source": [
    "proy = {\"founded year\":1, \"name\":1, \"_id\":0}\n",
    "\n",
    "companies12 = list(c.find({},proy).sort(\"founded_year\",1))"
   ]
  },
  {
   "cell_type": "code",
   "execution_count": 118,
   "metadata": {},
   "outputs": [],
   "source": [
    "#companies12"
   ]
  },
  {
   "cell_type": "markdown",
   "metadata": {},
   "source": [
    "### 15. All the companies that have been founded on the first seven days of the month, including the seventh. Sort them by their `acquisition price` in a descending order. Limit the search to 10 documents."
   ]
  },
  {
   "cell_type": "code",
   "execution_count": 122,
   "metadata": {},
   "outputs": [],
   "source": [
    "cond1={\"founded_day\":{\"$lte\":7}}\n",
    "companies13 = list(c.find(cond1).sort(\"acquisition.price_amount\",-1).limit(10))"
   ]
  },
  {
   "cell_type": "code",
   "execution_count": 123,
   "metadata": {},
   "outputs": [],
   "source": [
    "#companies13"
   ]
  },
  {
   "cell_type": "markdown",
   "metadata": {},
   "source": [
    "### 16. All the companies on the 'web' `category` that have more than 4000 employees. Sort them by the amount of employees in ascending order."
   ]
  },
  {
   "cell_type": "code",
   "execution_count": 127,
   "metadata": {},
   "outputs": [],
   "source": [
    "cond1={\"number_of_employees\":{\"$gt\":4000}}\n",
    "cond2={\"category_code\": \"web\"}\n",
    "\n",
    "companies14 = list(c.find({\"$and\": [cond1,cond2]}).sort(\"number_of_employees\",1))\n"
   ]
  },
  {
   "cell_type": "code",
   "execution_count": 129,
   "metadata": {},
   "outputs": [],
   "source": [
    "#companies14"
   ]
  },
  {
   "cell_type": "markdown",
   "metadata": {},
   "source": [
    "### 17. All the companies whose acquisition amount is more than 10.000.000, and currency is 'EUR'."
   ]
  },
  {
   "cell_type": "code",
   "execution_count": 132,
   "metadata": {},
   "outputs": [],
   "source": [
    "cond1={\"acquisition.price_amount\":{\"$gt\":10000000}}\n",
    "cond2={\"acquisition.price_currency_code\": \"EUR\"}\n",
    "\n",
    "companies15 = list(c.find({\"$and\": [cond1,cond2]}))"
   ]
  },
  {
   "cell_type": "code",
   "execution_count": 134,
   "metadata": {},
   "outputs": [],
   "source": [
    "#companies15"
   ]
  },
  {
   "cell_type": "markdown",
   "metadata": {},
   "source": [
    "### 18. All the companies that have been acquired on the first trimester of the year. Limit the search to 10 companies, and retrieve only their `name` and `acquisition` fields."
   ]
  },
  {
   "cell_type": "code",
   "execution_count": 140,
   "metadata": {},
   "outputs": [],
   "source": [
    "cond1={\"acquisition.acquired_month\":{\"$lt\":4}}\n",
    "proy = {\"name\":1, \"acquisition\":1, \"_id\":0}\n",
    "\n",
    "companies16 = list(c.find(cond1,proy).limit(10))\n",
    "\n"
   ]
  },
  {
   "cell_type": "code",
   "execution_count": 142,
   "metadata": {},
   "outputs": [],
   "source": [
    "#companies16"
   ]
  },
  {
   "cell_type": "markdown",
   "metadata": {},
   "source": [
    "# Bonus\n",
    "### 19. All the companies that have been founded between 2000 and 2010, but have not been acquired before 2011."
   ]
  },
  {
   "cell_type": "code",
   "execution_count": 147,
   "metadata": {},
   "outputs": [],
   "source": [
    "proyect = {\"name\": 1, 'founded_year': 1, 'acquisition.acquired_year':1, '_id': 0}\n",
    "cond1 = {'founded_year': {\"$in\": list(range(2000,2011))}}\n",
    "cond2 = {'acquisition.acquired_year': {\"$nin\": list(range(0,2012))}}\n",
    "companies19 = list(c.find({\"$and\": [cond1,cond2]}, proyect).limit(3))"
   ]
  },
  {
   "cell_type": "code",
   "execution_count": 149,
   "metadata": {},
   "outputs": [],
   "source": [
    "#companies19"
   ]
  },
  {
   "cell_type": "markdown",
   "metadata": {},
   "source": [
    "### 20. All the companies that have been 'deadpooled' after the third year."
   ]
  },
  {
   "cell_type": "code",
   "execution_count": 150,
   "metadata": {},
   "outputs": [],
   "source": []
  },
  {
   "cell_type": "code",
   "execution_count": null,
   "metadata": {},
   "outputs": [],
   "source": []
  }
 ],
 "metadata": {
  "kernelspec": {
   "display_name": "Python 3",
   "language": "python",
   "name": "python3"
  },
  "language_info": {
   "codemirror_mode": {
    "name": "ipython",
    "version": 3
   },
   "file_extension": ".py",
   "mimetype": "text/x-python",
   "name": "python",
   "nbconvert_exporter": "python",
   "pygments_lexer": "ipython3",
   "version": "3.8.5"
  }
 },
 "nbformat": 4,
 "nbformat_minor": 2
}
