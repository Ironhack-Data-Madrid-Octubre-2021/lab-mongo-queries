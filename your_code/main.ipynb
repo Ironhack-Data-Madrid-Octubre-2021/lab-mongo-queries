{
 "cells": [
  {
   "cell_type": "markdown",
   "metadata": {},
   "source": [
    "# Advanced Querying Mongo"
   ]
  },
  {
   "cell_type": "code",
   "execution_count": 1,
   "metadata": {},
   "outputs": [
    {
     "name": "stdout",
     "output_type": "stream",
     "text": [
      "Collecting pymongo\n",
      "  Downloading pymongo-3.12.1-cp38-cp38-manylinux2014_x86_64.whl (546 kB)\n",
      "\u001b[K     |████████████████████████████████| 546 kB 912 kB/s eta 0:00:01\n",
      "\u001b[?25hInstalling collected packages: pymongo\n",
      "Successfully installed pymongo-3.12.1\n"
     ]
    }
   ],
   "source": [
    "!pip install pymongo"
   ]
  },
  {
   "cell_type": "markdown",
   "metadata": {},
   "source": [
    "Importing libraries and setting up connection"
   ]
  },
  {
   "cell_type": "code",
   "execution_count": 3,
   "metadata": {},
   "outputs": [],
   "source": [
    "#from pymongo import MongoClient\n",
    "client = MongoClient(\"localhost:27017\")"
   ]
  },
  {
   "cell_type": "code",
   "execution_count": 4,
   "metadata": {},
   "outputs": [
    {
     "data": {
      "text/plain": [
       "MongoClient(host=['localhost:27017'], document_class=dict, tz_aware=False, connect=True)"
      ]
     },
     "execution_count": 4,
     "metadata": {},
     "output_type": "execute_result"
    }
   ],
   "source": [
    "client"
   ]
  },
  {
   "cell_type": "code",
   "execution_count": 5,
   "metadata": {},
   "outputs": [
    {
     "data": {
      "text/plain": [
       "['admin', 'config', 'ironhack', 'local']"
      ]
     },
     "execution_count": 5,
     "metadata": {},
     "output_type": "execute_result"
    }
   ],
   "source": [
    "client.list_database_names()"
   ]
  },
  {
   "cell_type": "code",
   "execution_count": 6,
   "metadata": {},
   "outputs": [],
   "source": [
    "db = client.get_database(\"ironhack\")"
   ]
  },
  {
   "cell_type": "code",
   "execution_count": 7,
   "metadata": {},
   "outputs": [
    {
     "data": {
      "text/plain": [
       "Database(MongoClient(host=['localhost:27017'], document_class=dict, tz_aware=False, connect=True), 'ironhack')"
      ]
     },
     "execution_count": 7,
     "metadata": {},
     "output_type": "execute_result"
    }
   ],
   "source": [
    "db"
   ]
  },
  {
   "cell_type": "code",
   "execution_count": 9,
   "metadata": {},
   "outputs": [
    {
     "data": {
      "text/plain": [
       "['companies']"
      ]
     },
     "execution_count": 9,
     "metadata": {},
     "output_type": "execute_result"
    }
   ],
   "source": [
    "db.list_collection_names()"
   ]
  },
  {
   "cell_type": "code",
   "execution_count": 10,
   "metadata": {},
   "outputs": [],
   "source": [
    "c = db.get_collection(\"companies\")"
   ]
  },
  {
   "cell_type": "code",
   "execution_count": 11,
   "metadata": {},
   "outputs": [
    {
     "data": {
      "text/plain": [
       "Collection(Database(MongoClient(host=['localhost:27017'], document_class=dict, tz_aware=False, connect=True), 'ironhack'), 'companies')"
      ]
     },
     "execution_count": 11,
     "metadata": {},
     "output_type": "execute_result"
    }
   ],
   "source": [
    "c"
   ]
  },
  {
   "cell_type": "code",
   "execution_count": 68,
   "metadata": {},
   "outputs": [
    {
     "data": {
      "text/plain": [
       "dict_keys(['_id', 'name', 'permalink', 'crunchbase_url', 'homepage_url', 'blog_url', 'blog_feed_url', 'twitter_username', 'category_code', 'number_of_employees', 'founded_year', 'founded_month', 'founded_day', 'deadpooled_year', 'tag_list', 'alias_list', 'email_address', 'phone_number', 'description', 'created_at', 'updated_at', 'overview', 'image', 'products', 'relationships', 'competitions', 'providerships', 'total_money_raised', 'funding_rounds', 'investments', 'acquisition', 'acquisitions', 'offices', 'milestones', 'video_embeds', 'screenshots', 'external_links', 'partners'])"
      ]
     },
     "execution_count": 68,
     "metadata": {},
     "output_type": "execute_result"
    }
   ],
   "source": [
    "c.find_one().keys()"
   ]
  },
  {
   "cell_type": "code",
   "execution_count": null,
   "metadata": {},
   "outputs": [],
   "source": []
  },
  {
   "cell_type": "markdown",
   "metadata": {},
   "source": [
    "### 1. All the companies whose name match 'Babelgum'. Retrieve only their `name` field."
   ]
  },
  {
   "cell_type": "code",
   "execution_count": 26,
   "metadata": {},
   "outputs": [],
   "source": [
    "# Your Code\n",
    "#proyec = {\"name\":1, \"_id\":0}\n",
    "#query = {\"name\": \"Babelgum\"}\n",
    "#Babelgum = list(c.find(query,  proyec))\n",
    "#Babelgum"
   ]
  },
  {
   "cell_type": "markdown",
   "metadata": {},
   "source": [
    "### 2. All the companies that have more than 5000 employees. Limit the search to 20 companies and sort them by **number of employees**."
   ]
  },
  {
   "cell_type": "code",
   "execution_count": 25,
   "metadata": {},
   "outputs": [],
   "source": [
    "# Your Code\n",
    "#query = {\"number_of_employees\": {\"$gt\": 5000}}\n",
    "#cosa = list(c.find(query).sort(\"number_of_employees\", -1))\n",
    "#cosa [0:20]"
   ]
  },
  {
   "cell_type": "markdown",
   "metadata": {},
   "source": [
    "### 3. All the companies founded between 2000 and 2005, both years included. Retrieve only the `name` and `founded_year` fields."
   ]
  },
  {
   "cell_type": "code",
   "execution_count": 31,
   "metadata": {},
   "outputs": [],
   "source": [
    "# Your Code\n",
    "#cond1 = {\"founded_year\": {\"$gt\": 1999}}\n",
    "#cond2 = {\"founded_year\": {\"$lt\": 2006}}\n",
    "#proyec = {\"name\":1, \"_id\":0, \"founded_year\":1}\n",
    "#cosa = list(c.find({\"$and\": [cond1,cond2]},proyec))\n",
    "#cosa"
   ]
  },
  {
   "cell_type": "markdown",
   "metadata": {},
   "source": [
    "### 4. All the companies that had a Valuation Amount of more than 100.000.000 and have been founded before 2010. Retrieve only the `name` and `ipo` fields."
   ]
  },
  {
   "cell_type": "code",
   "execution_count": 62,
   "metadata": {},
   "outputs": [],
   "source": [
    "# Your Code\n",
    "#cond1 = {\"founded_year\": {\"$lt\": 2010}}\n",
    "#cond2 = {\"ipo.valuation_amount\": {\"$gt\": 100000000}}\n",
    "#proyec = {\"name\":1, \"_id\":0, \"ipo\":1}\n",
    "#cosa = list(c.find({\"$and\": [cond1,cond2]},proyec))\n",
    "#cosa"
   ]
  },
  {
   "cell_type": "markdown",
   "metadata": {},
   "source": [
    "### 5. All the companies that have less than 1000 employees and have been founded before 2005. Order them by the number of employees and limit the search to 10 companies."
   ]
  },
  {
   "cell_type": "code",
   "execution_count": 42,
   "metadata": {},
   "outputs": [],
   "source": [
    "# Your Code\n",
    "#cond = {\"number_of_employees\": {\"$lt\": 1000}}\n",
    "#cond2 = {\"founded_year\": {\"$lt\": 2005}}\n",
    "#cosa = list(c.find(query).sort(\"number_of_employees\", -1))\n",
    "#cosa [0:10]"
   ]
  },
  {
   "cell_type": "markdown",
   "metadata": {},
   "source": [
    "### 6. All the companies that don't include the `partners` field."
   ]
  },
  {
   "cell_type": "code",
   "execution_count": 44,
   "metadata": {},
   "outputs": [],
   "source": [
    "# Your Code\n",
    "#cond_exi = {\"partners\": {\"$exists\": False}}\n",
    "#cosa = list(c.find(cond_exi))\n",
    "#cosa"
   ]
  },
  {
   "cell_type": "markdown",
   "metadata": {},
   "source": [
    "### 7. All the companies that have a null type of value on the `category_code` field."
   ]
  },
  {
   "cell_type": "code",
   "execution_count": 98,
   "metadata": {},
   "outputs": [],
   "source": [
    "# Your Code\n",
    "#list(c.find({\"category_code\": {\"$in\":[]}}).limit(2))"
   ]
  },
  {
   "cell_type": "markdown",
   "metadata": {},
   "source": [
    "### 8. All the companies that have at least 100 employees but less than 1000. Retrieve only the `name` and `number of employees` fields."
   ]
  },
  {
   "cell_type": "code",
   "execution_count": 50,
   "metadata": {},
   "outputs": [],
   "source": [
    "# Your Code\n",
    "#cond1 = {\"number_of_employees\": {\"$lt\": 1000}}\n",
    "#cond2 = {\"number_of_employees\": {\"$gt\": 99}}\n",
    "#proyec = {\"name\": 1, \"number_of_employees\": 1, \"_id\": 0}\n",
    "#cosa = list(c.find({\"$and\": [cond1,cond2]},proyec))\n",
    "#cosa"
   ]
  },
  {
   "cell_type": "markdown",
   "metadata": {},
   "source": [
    "### 9. Order all the companies by their IPO price in a descending order."
   ]
  },
  {
   "cell_type": "code",
   "execution_count": 60,
   "metadata": {},
   "outputs": [],
   "source": [
    "# Your Code\n",
    "#cond_IPO = {\"ipo.valuation_amount\": {\"$exists\": True}}\n",
    "#proyec = {\"name\": 1, \"ipo.valuation_amount\": 1, \"_id\": 0}\n",
    "#cosa = list(c.find(cond_IPO, proyec).sort(\"ipo.valuation_amount\", -1))\n",
    "#cosa"
   ]
  },
  {
   "cell_type": "markdown",
   "metadata": {},
   "source": [
    "### 10. Retrieve the 10 companies with more employees, order by the `number of employees`"
   ]
  },
  {
   "cell_type": "code",
   "execution_count": 67,
   "metadata": {},
   "outputs": [],
   "source": [
    "# Your Code\n",
    "#proyec = {\"name\": 1, \"number_of_employees\": 1, \"_id\": 0}\n",
    "#cosa = list(c.find({},proyec).sort(\"number_of_employees\", -1))\n",
    "#cosa[:11]"
   ]
  },
  {
   "cell_type": "markdown",
   "metadata": {},
   "source": [
    "### 11. All the companies founded on the second semester of the year. Limit your search to 1000 companies."
   ]
  },
  {
   "cell_type": "code",
   "execution_count": 74,
   "metadata": {},
   "outputs": [],
   "source": [
    "# Your Code\n",
    "#proy11 = {\"founded_month\": 1, \"name\": 1}\n",
    "#list(c.find({\"founded_month\": {\"$in\": [7,8,9,10,11,12]}}, proy11))"
   ]
  },
  {
   "cell_type": "markdown",
   "metadata": {},
   "source": [
    "### 12. All the companies founded before 2000 that have an acquisition amount of more than 10.000.00"
   ]
  },
  {
   "cell_type": "code",
   "execution_count": 75,
   "metadata": {},
   "outputs": [],
   "source": [
    "# Your Code\n",
    "#proy12 = {\"acquisition\": 1, \"name\": 1, \"founded_year\": 1}\n",
    "#cond121 = {\"founded_year\":{\"$lt\": 2000}}\n",
    "#cond122 = {\"acquisition.price_amount\": {\"$gt\": 10000000}}\n",
    "#list(c.find({\"$and\": [cond121,cond122]},proy12).sort(\"acquisition.price_amount\",-1))"
   ]
  },
  {
   "cell_type": "markdown",
   "metadata": {},
   "source": [
    "### 13. All the companies that have been acquired after 2010, order by the acquisition amount, and retrieve only their `name` and `acquisition` field."
   ]
  },
  {
   "cell_type": "code",
   "execution_count": 77,
   "metadata": {},
   "outputs": [],
   "source": [
    "# Your Code\n",
    "#proy13 = {\"acquisition\": 1, \"name\": 1, }\n",
    "#cond131 = {\"acquisition.acquired_year\":{\"$gte\": 2010}}\n",
    "#list(c.find({\"$and\": [cond131]},proy13).sort(\"acquisition.price_amount\",-1))"
   ]
  },
  {
   "cell_type": "markdown",
   "metadata": {},
   "source": [
    "### 14. Order the companies by their `founded year`, retrieving only their `name` and `founded year`."
   ]
  },
  {
   "cell_type": "code",
   "execution_count": 83,
   "metadata": {},
   "outputs": [],
   "source": [
    "# Your Code\n",
    "#proyec = {\"name\": 1, \"founded_year\": 1, \"_id\": 0}\n",
    "#cosa = list(c.find({},proyec).sort(\"founded_year\", -1))\n",
    "#cosa[:11]"
   ]
  },
  {
   "cell_type": "markdown",
   "metadata": {},
   "source": [
    "### 15. All the companies that have been founded on the first seven days of the month, including the seventh. Sort them by their `acquisition price` in a descending order. Limit the search to 10 documents."
   ]
  },
  {
   "cell_type": "code",
   "execution_count": 85,
   "metadata": {},
   "outputs": [],
   "source": [
    "# Your Code\n",
    "#proy15 = {\"founded_day\": 1, \"name\": 1,\"acquisition.price_amount\": 1}\n",
    "#cosa = list(c.find({\"founded_day\": {\"$in\": [1,2,3,4,5,6,7]}}, proy15).sort(\"acquisition.price_amount\",-1))\n",
    "#cosa[:11]"
   ]
  },
  {
   "cell_type": "markdown",
   "metadata": {},
   "source": [
    "### 16. All the companies on the 'web' `category` that have more than 4000 employees. Sort them by the amount of employees in ascending order."
   ]
  },
  {
   "cell_type": "code",
   "execution_count": 88,
   "metadata": {},
   "outputs": [],
   "source": [
    "# Your Code\n",
    "#proy16 = {\"number_of_employees\": 1, \"name\": 1, \"category_code\": 1}\n",
    "#cond161 = {\"number_of_employees\":{\"$lte\": 4000}}\n",
    "#cond162 = {\"category_code\": \"web\"}\n",
    "#list(c.find({\"$and\": [cond161,cond162]},proy16).sort(\"number_of_employees\",1).limit(2))"
   ]
  },
  {
   "cell_type": "markdown",
   "metadata": {},
   "source": [
    "### 17. All the companies whose acquisition amount is more than 10.000.000, and currency is 'EUR'."
   ]
  },
  {
   "cell_type": "code",
   "execution_count": 90,
   "metadata": {},
   "outputs": [],
   "source": [
    "# Your Code\n",
    "#proy17 = {\"acquisition\": 1, \"name\": 1, }\n",
    "#cond171 = {\"acquisition.price_currency_code\": \"EUR\"}\n",
    "#cond172 = {\"acquisition.price_amount\": {\"$gte\": 10000000}}\n",
    "#list(c.find({\"$and\": [cond171,cond172]},proy17).sort(\"number_of_employees\",1).limit(1))"
   ]
  },
  {
   "cell_type": "markdown",
   "metadata": {},
   "source": [
    "### 18. All the companies that have been acquired on the first trimester of the year. Limit the search to 10 companies, and retrieve only their `name` and `acquisition` fields."
   ]
  },
  {
   "cell_type": "code",
   "execution_count": 92,
   "metadata": {},
   "outputs": [],
   "source": [
    "# Your Code\n",
    "#proy18 = {\"acquisition\": 1, \"name\": 1, }\n",
    "#list(c.find({\"acquisition.acquired_month\": {\"$in\": [1,2,3]}}, proy18).limit(1))"
   ]
  },
  {
   "cell_type": "markdown",
   "metadata": {},
   "source": [
    "# Bonus\n",
    "### 19. All the companies that have been founded between 2000 and 2010, but have not been acquired before 2011."
   ]
  },
  {
   "cell_type": "code",
   "execution_count": 99,
   "metadata": {},
   "outputs": [],
   "source": [
    "# Your Code\n",
    "#cond1 = {\"founded_year\": {\"$gt\": 1999}}\n",
    "#cond2 = {\"founded_year\": {\"$lt\": 2011}}\n",
    "#cond3 = {\"acquisition.acquired_year\": {\"$gt\": 2011}}\n",
    "#proyec = {\"name\":1, \"_id\":0, \"acquisition.acquired_year\":1}\n",
    "#cosa = list(c.find({\"$and\": [cond1,cond2,cond3]},proyec))\n",
    "#cosa"
   ]
  },
  {
   "cell_type": "markdown",
   "metadata": {},
   "source": [
    "### 20. All the companies that have been 'deadpooled' after the third year."
   ]
  },
  {
   "cell_type": "code",
   "execution_count": 101,
   "metadata": {},
   "outputs": [
    {
     "ename": "SyntaxError",
     "evalue": "invalid syntax (<ipython-input-101-e0742cafcfcc>, line 2)",
     "output_type": "error",
     "traceback": [
      "\u001b[0;36m  File \u001b[0;32m\"<ipython-input-101-e0742cafcfcc>\"\u001b[0;36m, line \u001b[0;32m2\u001b[0m\n\u001b[0;31m    cosa = c.find({$where: function() { return (deadpooled_year - founded_year >= 3)}})\u001b[0m\n\u001b[0m                   ^\u001b[0m\n\u001b[0;31mSyntaxError\u001b[0m\u001b[0;31m:\u001b[0m invalid syntax\n"
     ]
    }
   ],
   "source": [
    "# Your Code\n",
    "cosa = c.find({$where: function() { return (deadpooled_year - founded_year >= 3)}})\n",
    "cosa"
   ]
  }
 ],
 "metadata": {
  "kernelspec": {
   "display_name": "Python 3",
   "language": "python",
   "name": "python3"
  },
  "language_info": {
   "codemirror_mode": {
    "name": "ipython",
    "version": 3
   },
   "file_extension": ".py",
   "mimetype": "text/x-python",
   "name": "python",
   "nbconvert_exporter": "python",
   "pygments_lexer": "ipython3",
   "version": "3.8.5"
  }
 },
 "nbformat": 4,
 "nbformat_minor": 2
}
