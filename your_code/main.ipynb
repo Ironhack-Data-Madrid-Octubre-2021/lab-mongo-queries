{
 "cells": [
  {
   "cell_type": "markdown",
   "metadata": {},
   "source": [
    "# Advanced Querying Mongo"
   ]
  },
  {
   "cell_type": "markdown",
   "metadata": {},
   "source": [
    "Importing libraries and setting up connection"
   ]
  },
  {
   "cell_type": "code",
   "execution_count": 3,
   "metadata": {},
   "outputs": [],
   "source": [
    "from pymongo import MongoClient\n",
    "client = MongoClient(\"localhost:27017\")\n",
    "db = client.get_database(\"ironhack\")"
   ]
  },
  {
   "cell_type": "code",
   "execution_count": 5,
   "metadata": {},
   "outputs": [],
   "source": [
    "c = db.get_collection(\"companies\")"
   ]
  },
  {
   "cell_type": "code",
   "execution_count": 6,
   "metadata": {},
   "outputs": [
    {
     "data": {
      "text/plain": [
       "Collection(Database(MongoClient(host=['localhost:27017'], document_class=dict, tz_aware=False, connect=True), 'ironhack'), 'companies')"
      ]
     },
     "execution_count": 6,
     "metadata": {},
     "output_type": "execute_result"
    }
   ],
   "source": [
    "c"
   ]
  },
  {
   "cell_type": "markdown",
   "metadata": {},
   "source": [
    "### 1. All the companies whose name match 'Babelgum'. Retrieve only their `name` field."
   ]
  },
  {
   "cell_type": "code",
   "execution_count": 13,
   "metadata": {},
   "outputs": [
    {
     "data": {
      "text/plain": [
       "[{'name': 'Babelgum'}]"
      ]
     },
     "execution_count": 13,
     "metadata": {},
     "output_type": "execute_result"
    }
   ],
   "source": [
    "list(c.find({\"name\": \"Babelgum\"},{'name':1,'_id':0}))"
   ]
  },
  {
   "cell_type": "markdown",
   "metadata": {},
   "source": [
    "### 2. All the companies that have more than 5000 employees. Limit the search to 20 companies and sort them by **number of employees**."
   ]
  },
  {
   "cell_type": "code",
   "execution_count": 17,
   "metadata": {},
   "outputs": [
    {
     "data": {
      "text/plain": [
       "[{'name': 'Siemens', 'number_of_employees': 405000},\n",
       " {'name': 'IBM', 'number_of_employees': 388000},\n",
       " {'name': 'Toyota', 'number_of_employees': 320000},\n",
       " {'name': 'PayPal', 'number_of_employees': 300000},\n",
       " {'name': 'Nippon Telegraph and Telephone Corporation',\n",
       "  'number_of_employees': 227000},\n",
       " {'name': 'Samsung Electronics', 'number_of_employees': 221726},\n",
       " {'name': 'Accenture', 'number_of_employees': 205000},\n",
       " {'name': 'Tata Consultancy Services', 'number_of_employees': 200300},\n",
       " {'name': 'Flextronics International', 'number_of_employees': 200000},\n",
       " {'name': 'Safeway', 'number_of_employees': 186000},\n",
       " {'name': 'Sony', 'number_of_employees': 180500},\n",
       " {'name': 'LG', 'number_of_employees': 177000},\n",
       " {'name': 'Ford', 'number_of_employees': 171000},\n",
       " {'name': 'Boeing', 'number_of_employees': 160000},\n",
       " {'name': 'Digital Equipment Corporation', 'number_of_employees': 140000},\n",
       " {'name': 'Nokia', 'number_of_employees': 125000},\n",
       " {'name': 'MItsubishi Electric', 'number_of_employees': 107000},\n",
       " {'name': 'MItsubishi Electric', 'number_of_employees': 107000},\n",
       " {'name': 'Comcast', 'number_of_employees': 100000},\n",
       " {'name': 'Bertelsmann', 'number_of_employees': 100000}]"
      ]
     },
     "execution_count": 17,
     "metadata": {},
     "output_type": "execute_result"
    }
   ],
   "source": [
    "list(c.find({'number_of_employees': {\"$gt\": 5000}},{'name': 1,'number_of_employees': 1, '_id':0}).sort('number_of_employees', -1).limit(20))"
   ]
  },
  {
   "cell_type": "markdown",
   "metadata": {},
   "source": [
    "### 3. All the companies founded between 2000 and 2005, both years included. Retrieve only the `name` and `founded_year` fields."
   ]
  },
  {
   "cell_type": "code",
   "execution_count": 35,
   "metadata": {},
   "outputs": [
    {
     "data": {
      "text/plain": [
       "[{'name': 'Digg', 'founded_year': 2004},\n",
       " {'name': 'Facebook', 'founded_year': 2004},\n",
       " {'name': 'StumbleUpon', 'founded_year': 2002},\n",
       " {'name': 'Gizmoz', 'founded_year': 2003},\n",
       " {'name': 'Plaxo', 'founded_year': 2002},\n",
       " {'name': 'Technorati', 'founded_year': 2002},\n",
       " {'name': 'AddThis', 'founded_year': 2004},\n",
       " {'name': 'Veoh', 'founded_year': 2004},\n",
       " {'name': 'Meetup', 'founded_year': 2002},\n",
       " {'name': 'SmugMug', 'founded_year': 2002}]"
      ]
     },
     "execution_count": 35,
     "metadata": {},
     "output_type": "execute_result"
    }
   ],
   "source": [
    "list(c.find({\"$and\": [{'founded_year': {\"$gte\": 2000}},{'founded_year': {\"$lte\": 2004}}]},{'name': 1,'founded_year': 1, '_id':0}).limit(10))"
   ]
  },
  {
   "cell_type": "markdown",
   "metadata": {},
   "source": [
    "### 4. All the companies that had a Valuation Amount of more than 100.000.000 and have been founded before 2010. Retrieve only the `name` and `ipo` fields."
   ]
  },
  {
   "cell_type": "code",
   "execution_count": 26,
   "metadata": {},
   "outputs": [
    {
     "data": {
      "text/plain": [
       "[{'name': 'Facebook', 'ipo': {'valuation_amount': 104000000000}},\n",
       " {'name': 'Twitter', 'ipo': {'valuation_amount': 18100000000}},\n",
       " {'name': 'Yelp', 'ipo': {'valuation_amount': 1300000000}},\n",
       " {'name': 'LinkedIn', 'ipo': {'valuation_amount': 9310000000}},\n",
       " {'name': 'Amazon', 'ipo': {'valuation_amount': 100000000000}},\n",
       " {'name': 'Brightcove', 'ipo': {'valuation_amount': 290000000}},\n",
       " {'name': 'KIT digital', 'ipo': {'valuation_amount': 235000000}},\n",
       " {'name': 'Nielsen', 'ipo': {'valuation_amount': 1600000000}},\n",
       " {'name': 'OpenTable', 'ipo': {'valuation_amount': 1050000000}},\n",
       " {'name': 'ChannelAdvisor', 'ipo': {'valuation_amount': 287000000}},\n",
       " {'name': 'Jive Software', 'ipo': {'valuation_amount': 1000000000}},\n",
       " {'name': 'Zillow', 'ipo': {'valuation_amount': 2550000000}},\n",
       " {'name': 'Wix', 'ipo': {'valuation_amount': 750000000}},\n",
       " {'name': 'Shutterfly', 'ipo': {'valuation_amount': 350000000}},\n",
       " {'name': 'TripAdvisor', 'ipo': {'valuation_amount': 3273770000}},\n",
       " {'name': 'Salesforce', 'ipo': {'valuation_amount': 110000000}},\n",
       " {'name': 'HomeAway', 'ipo': {'valuation_amount': 3000000000}},\n",
       " {'name': 'QuinStreet', 'ipo': {'valuation_amount': 140000000}},\n",
       " {'name': 'Rackspace', 'ipo': {'valuation_amount': 5440000000}},\n",
       " {'name': 'BMC Software', 'ipo': {'valuation_amount': 6000000000}}]"
      ]
     },
     "execution_count": 26,
     "metadata": {},
     "output_type": "execute_result"
    }
   ],
   "source": [
    "list(c.find({\"$and\": [{'ipo.valuation_amount': {\"$gt\": 100000000}},{'founded_year': {\"$lt\": 2010}}]},{'name': 1,'ipo.valuation_amount': 1, '_id':0}).limit(20))"
   ]
  },
  {
   "cell_type": "markdown",
   "metadata": {},
   "source": [
    "### 5. All the companies that have less than 1000 employees and have been founded before 2005. Order them by the number of employees and limit the search to 10 companies."
   ]
  },
  {
   "cell_type": "code",
   "execution_count": 22,
   "metadata": {},
   "outputs": [
    {
     "data": {
      "text/plain": [
       "[{'name': 'Fulcrum Analytics',\n",
       "  'number_of_employees': 99,\n",
       "  'founded_year': 1993},\n",
       " {'name': 'PeoplePC', 'number_of_employees': 98, 'founded_year': 1999},\n",
       " {'name': 'Clinnovo Research Labs Pvt Ltd',\n",
       "  'number_of_employees': 95,\n",
       "  'founded_year': 2004},\n",
       " {'name': 'eG Innovations', 'number_of_employees': 95, 'founded_year': 2001},\n",
       " {'name': 'Kineto Wireless', 'number_of_employees': 95, 'founded_year': 2001},\n",
       " {'name': 'Pure Digital Technologies',\n",
       "  'number_of_employees': 95,\n",
       "  'founded_year': 2001},\n",
       " {'name': 'Volagratis', 'number_of_employees': 95, 'founded_year': 2004},\n",
       " {'name': 'picoChip', 'number_of_employees': 92, 'founded_year': 2000},\n",
       " {'name': 'Tableau Software', 'number_of_employees': 92, 'founded_year': 2003},\n",
       " {'name': 'CompareNetworks', 'number_of_employees': 90, 'founded_year': 2000}]"
      ]
     },
     "execution_count": 22,
     "metadata": {},
     "output_type": "execute_result"
    }
   ],
   "source": [
    "list(c.find({\"$and\": [{'founded_year': {\"$lt\": 2005}},{'number_of_employees': {\"$lt\": 100}}]},{'name': 1,'number_of_employees': 1, 'founded_year': 1,'_id':0}).sort('number_of_employees',-1).limit(10))"
   ]
  },
  {
   "cell_type": "markdown",
   "metadata": {},
   "source": [
    "### 6. All the companies that don't include the `partners` field."
   ]
  },
  {
   "cell_type": "code",
   "execution_count": 25,
   "metadata": {},
   "outputs": [
    {
     "data": {
      "text/plain": [
       "[]"
      ]
     },
     "execution_count": 25,
     "metadata": {},
     "output_type": "execute_result"
    }
   ],
   "source": [
    "list(c.find({\"partners\": {\"$exists\": False}}))"
   ]
  },
  {
   "cell_type": "markdown",
   "metadata": {},
   "source": [
    "### 7. All the companies that have a null type of value on the `category_code` field."
   ]
  },
  {
   "cell_type": "code",
   "execution_count": 34,
   "metadata": {},
   "outputs": [
    {
     "data": {
      "text/plain": [
       "[{'_id': ObjectId('52cdef7c4bab8bd6752980f6'), 'name': 'Collective'},\n",
       " {'_id': ObjectId('52cdef7c4bab8bd675298225'), 'name': 'Snimmer'},\n",
       " {'_id': ObjectId('52cdef7c4bab8bd675298226'), 'name': 'KoolIM'},\n",
       " {'_id': ObjectId('52cdef7c4bab8bd675298261'), 'name': 'Level9 Media'},\n",
       " {'_id': ObjectId('52cdef7c4bab8bd675298262'), 'name': 'VidKing'},\n",
       " {'_id': ObjectId('52cdef7c4bab8bd67529826e'), 'name': 'Drigg'},\n",
       " {'_id': ObjectId('52cdef7c4bab8bd675298276'), 'name': 'SpaceTime'},\n",
       " {'_id': ObjectId('52cdef7c4bab8bd675298279'), 'name': 'Touch Clarity'},\n",
       " {'_id': ObjectId('52cdef7c4bab8bd67529827a'), 'name': 'MMDAYS'},\n",
       " {'_id': ObjectId('52cdef7c4bab8bd67529827b'), 'name': 'Inside Group'}]"
      ]
     },
     "execution_count": 34,
     "metadata": {},
     "output_type": "execute_result"
    }
   ],
   "source": [
    "list(c.find({\"category_code\": None},{'name': 1}).limit(10))"
   ]
  },
  {
   "cell_type": "markdown",
   "metadata": {},
   "source": [
    "### 8. All the companies that have at least 100 employees but less than 1000. Retrieve only the `name` and `number of employees` fields."
   ]
  },
  {
   "cell_type": "code",
   "execution_count": 32,
   "metadata": {},
   "outputs": [
    {
     "data": {
      "text/plain": [
       "[{'name': 'AdventNet', 'number_of_employees': 600},\n",
       " {'name': 'AddThis', 'number_of_employees': 120},\n",
       " {'name': 'OpenX', 'number_of_employees': 305},\n",
       " {'name': 'LifeLock', 'number_of_employees': 644},\n",
       " {'name': 'Jajah', 'number_of_employees': 110},\n",
       " {'name': 'Livestream', 'number_of_employees': 120},\n",
       " {'name': 'Ustream', 'number_of_employees': 250},\n",
       " {'name': 'iContact', 'number_of_employees': 300},\n",
       " {'name': 'Yelp', 'number_of_employees': 800},\n",
       " {'name': 'Dailymotion', 'number_of_employees': 120},\n",
       " {'name': 'RockYou', 'number_of_employees': 106},\n",
       " {'name': 'Meebo', 'number_of_employees': 200},\n",
       " {'name': 'Eventbrite', 'number_of_employees': 200},\n",
       " {'name': 'Box', 'number_of_employees': 950},\n",
       " {'name': 'Conduit', 'number_of_employees': 215},\n",
       " {'name': 'Redfin', 'number_of_employees': 100},\n",
       " {'name': 'oDesk', 'number_of_employees': 120},\n",
       " {'name': 'Simply Hired', 'number_of_employees': 100},\n",
       " {'name': 'PhotoBox', 'number_of_employees': 600},\n",
       " {'name': 'Spreadshirt', 'number_of_employees': 230}]"
      ]
     },
     "execution_count": 32,
     "metadata": {},
     "output_type": "execute_result"
    }
   ],
   "source": [
    "list(c.find({\"$and\": [{'number_of_employees': {\"$gte\": 100}},{'number_of_employees': {\"$lt\": 1000}}]},{'name': 1,'number_of_employees': 1, '_id':0}).limit(20))"
   ]
  },
  {
   "cell_type": "markdown",
   "metadata": {},
   "source": [
    "### 9. Order all the companies by their IPO price in a descending order."
   ]
  },
  {
   "cell_type": "code",
   "execution_count": 37,
   "metadata": {},
   "outputs": [
    {
     "data": {
      "text/plain": [
       "[{'name': 'GREE', 'ipo': {'valuation_amount': 108960000000}},\n",
       " {'name': 'Facebook', 'ipo': {'valuation_amount': 104000000000}},\n",
       " {'name': 'Amazon', 'ipo': {'valuation_amount': 100000000000}},\n",
       " {'name': 'Twitter', 'ipo': {'valuation_amount': 18100000000}},\n",
       " {'name': 'Groupon', 'ipo': {'valuation_amount': 12800000000}},\n",
       " {'name': 'Tencent', 'ipo': {'valuation_amount': 11000000000}},\n",
       " {'name': 'Western Digital', 'ipo': {'valuation_amount': 9430000000}},\n",
       " {'name': 'LinkedIn', 'ipo': {'valuation_amount': 9310000000}},\n",
       " {'name': 'BMC Software', 'ipo': {'valuation_amount': 6000000000}},\n",
       " {'name': 'Rackspace', 'ipo': {'valuation_amount': 5440000000}},\n",
       " {'name': 'Baidu', 'ipo': {'valuation_amount': 4000000000}},\n",
       " {'name': 'TripAdvisor', 'ipo': {'valuation_amount': 3273770000}},\n",
       " {'name': 'HomeAway', 'ipo': {'valuation_amount': 3000000000}},\n",
       " {'name': 'Zillow', 'ipo': {'valuation_amount': 2550000000}},\n",
       " {'name': 'Nielsen', 'ipo': {'valuation_amount': 1600000000}},\n",
       " {'name': 'Yelp', 'ipo': {'valuation_amount': 1300000000}},\n",
       " {'name': 'Chegg', 'ipo': {'valuation_amount': 1100000000}},\n",
       " {'name': 'Chegg', 'ipo': {'valuation_amount': 1100000000}},\n",
       " {'name': 'RPX Corporation', 'ipo': {'valuation_amount': 1096000000}},\n",
       " {'name': 'Higher One', 'ipo': {'valuation_amount': 1060000000}}]"
      ]
     },
     "execution_count": 37,
     "metadata": {},
     "output_type": "execute_result"
    }
   ],
   "source": [
    "list(c.find({},{'name': 1,'ipo.valuation_amount': 1, '_id':0}).sort('ipo.valuation_amount',-1).limit(20))"
   ]
  },
  {
   "cell_type": "markdown",
   "metadata": {},
   "source": [
    "### 10. Retrieve the 10 companies with more employees, order by the `number of employees`"
   ]
  },
  {
   "cell_type": "code",
   "execution_count": 39,
   "metadata": {},
   "outputs": [
    {
     "data": {
      "text/plain": [
       "[{'name': 'Siemens', 'number_of_employees': 405000},\n",
       " {'name': 'IBM', 'number_of_employees': 388000},\n",
       " {'name': 'Toyota', 'number_of_employees': 320000},\n",
       " {'name': 'PayPal', 'number_of_employees': 300000},\n",
       " {'name': 'Nippon Telegraph and Telephone Corporation',\n",
       "  'number_of_employees': 227000},\n",
       " {'name': 'Samsung Electronics', 'number_of_employees': 221726},\n",
       " {'name': 'Accenture', 'number_of_employees': 205000},\n",
       " {'name': 'Tata Consultancy Services', 'number_of_employees': 200300},\n",
       " {'name': 'Flextronics International', 'number_of_employees': 200000},\n",
       " {'name': 'Safeway', 'number_of_employees': 186000}]"
      ]
     },
     "execution_count": 39,
     "metadata": {},
     "output_type": "execute_result"
    }
   ],
   "source": [
    "list(c.find({},{'name': 1,'number_of_employees': 1, '_id':0}).sort('number_of_employees',-1).limit(10))\n"
   ]
  },
  {
   "cell_type": "markdown",
   "metadata": {},
   "source": [
    "### 11. All the companies founded on the second semester of the year. Limit your search to 1000 companies."
   ]
  },
  {
   "cell_type": "code",
   "execution_count": 43,
   "metadata": {},
   "outputs": [
    {
     "data": {
      "text/plain": [
       "[{'name': 'Wetpaint', 'founded_month': 10},\n",
       " {'name': 'Zoho', 'founded_month': 9},\n",
       " {'name': 'Digg', 'founded_month': 10},\n",
       " {'name': 'Omnidrive', 'founded_month': 11},\n",
       " {'name': 'eBay', 'founded_month': 9},\n",
       " {'name': 'Joost', 'founded_month': 10},\n",
       " {'name': 'Plaxo', 'founded_month': 11},\n",
       " {'name': 'Powerset', 'founded_month': 10},\n",
       " {'name': 'Kyte', 'founded_month': 12},\n",
       " {'name': 'Thoof', 'founded_month': 12}]"
      ]
     },
     "execution_count": 43,
     "metadata": {},
     "output_type": "execute_result"
    }
   ],
   "source": [
    "list(c.find({'founded_month':{'$gt':6}},{'name':1, '_id':0,'founded_month':1}).limit(10))"
   ]
  },
  {
   "cell_type": "markdown",
   "metadata": {},
   "source": [
    "### 12. All the companies founded before 2000 that have an acquisition amount of more than 10.000.00"
   ]
  },
  {
   "cell_type": "code",
   "execution_count": 46,
   "metadata": {},
   "outputs": [
    {
     "data": {
      "text/plain": [
       "[{'name': 'Postini',\n",
       "  'founded_year': 1999,\n",
       "  'acquisition': {'price_amount': 625000000}},\n",
       " {'name': 'SideStep',\n",
       "  'founded_year': 1999,\n",
       "  'acquisition': {'price_amount': 180000000}},\n",
       " {'name': 'Recipezaar',\n",
       "  'founded_year': 1999,\n",
       "  'acquisition': {'price_amount': 25000000}},\n",
       " {'name': 'Cyworld',\n",
       "  'founded_year': 1999,\n",
       "  'acquisition': {'price_amount': 7140000}},\n",
       " {'name': 'PayPal',\n",
       "  'founded_year': 1998,\n",
       "  'acquisition': {'price_amount': 1500000000}},\n",
       " {'name': 'Snapfish',\n",
       "  'founded_year': 1999,\n",
       "  'acquisition': {'price_amount': 300000000}},\n",
       " {'name': 'Neopets',\n",
       "  'founded_year': 1999,\n",
       "  'acquisition': {'price_amount': 160000000}},\n",
       " {'name': 'Sun Microsystems',\n",
       "  'founded_year': 1982,\n",
       "  'acquisition': {'price_amount': 7400000000}},\n",
       " {'name': 'Zappos',\n",
       "  'founded_year': 1999,\n",
       "  'acquisition': {'price_amount': 1200000000}},\n",
       " {'name': 'Alibaba',\n",
       "  'founded_year': 1999,\n",
       "  'acquisition': {'price_amount': 1000000000}}]"
      ]
     },
     "execution_count": 46,
     "metadata": {},
     "output_type": "execute_result"
    }
   ],
   "source": [
    "list(c.find({\"$and\": [{'founded_year': {\"$lt\": 2000}},{'acquisition.price_amount': {\"$gt\": 10000}}]},{'name': 1,'founded_year': 1, '_id':0, 'acquisition.price_amount':1}).limit(10))"
   ]
  },
  {
   "cell_type": "markdown",
   "metadata": {},
   "source": [
    "### 13. All the companies that have been acquired after 2010, order by the acquisition amount, and retrieve only their `name` and `acquisition` field."
   ]
  },
  {
   "cell_type": "code",
   "execution_count": 49,
   "metadata": {},
   "outputs": [
    {
     "data": {
      "text/plain": [
       "[{'name': 'Wetpaint',\n",
       "  'acquisition': {'price_amount': 30000000,\n",
       "   'price_currency_code': 'USD',\n",
       "   'term_code': 'cash_and_stock',\n",
       "   'source_url': 'http://allthingsd.com/20131216/viggle-tries-to-bulk-up-its-social-tv-business-by-buying-wetpaint/?mod=atdtweet',\n",
       "   'source_description': ' Viggle Tries to Bulk Up Its Social TV Business by Buying Wetpaint',\n",
       "   'acquired_year': 2013,\n",
       "   'acquired_month': 12,\n",
       "   'acquired_day': 16,\n",
       "   'acquiring_company': {'name': 'Viggle', 'permalink': 'viggle'}}},\n",
       " {'name': 'Digg',\n",
       "  'acquisition': {'price_amount': 500000,\n",
       "   'price_currency_code': 'USD',\n",
       "   'term_code': None,\n",
       "   'source_url': 'http://techcrunch.com/2012/07/12/betaworks-acquires-digg/',\n",
       "   'source_description': 'Betaworks Acquires Digg (TechCrunch)',\n",
       "   'acquired_year': 2012,\n",
       "   'acquired_month': 7,\n",
       "   'acquired_day': 12,\n",
       "   'acquiring_company': {'name': 'betaworks', 'permalink': 'betaworks'}}},\n",
       " {'name': 'Geni',\n",
       "  'acquisition': {'price_amount': None,\n",
       "   'price_currency_code': 'USD',\n",
       "   'term_code': None,\n",
       "   'source_url': 'http://techcrunch.com/2012/11/28/all-in-the-family-myheritage-buys-former-yammer-stablemate-geni-com-raises-25m/',\n",
       "   'source_description': 'MyHeritage acquires Geni and $25M to build family tree of the whole world',\n",
       "   'acquired_year': 2012,\n",
       "   'acquired_month': 11,\n",
       "   'acquired_day': 28,\n",
       "   'acquiring_company': {'name': 'MyHeritage', 'permalink': 'myheritage'}}},\n",
       " {'name': 'Kyte',\n",
       "  'acquisition': {'price_amount': None,\n",
       "   'price_currency_code': 'USD',\n",
       "   'term_code': None,\n",
       "   'source_url': 'http://techcrunch.com/2011/01/31/exclusive-kit-digital-acquires-kickapps-kewego-and-kyte-for-77-2-million/',\n",
       "   'source_description': 'KIT digital Acquires KickApps, Kewego AND Kyte For $77.2 Million',\n",
       "   'acquired_year': 2011,\n",
       "   'acquired_month': 1,\n",
       "   'acquired_day': 31,\n",
       "   'acquiring_company': {'name': 'KIT digital', 'permalink': 'kit-digital'}}},\n",
       " {'name': 'Jingle Networks',\n",
       "  'acquisition': {'price_amount': 62500000,\n",
       "   'price_currency_code': 'USD',\n",
       "   'term_code': 'cash_and_stock',\n",
       "   'source_url': 'http://www.masshightech.com/stories/2011/04/11/daily11-Jingle-Networks-bought-for-up-to-625M.html',\n",
       "   'source_description': 'Jingle Networks bought for up to $62.5M',\n",
       "   'acquired_year': 2011,\n",
       "   'acquired_month': 4,\n",
       "   'acquired_day': 11,\n",
       "   'acquiring_company': {'name': 'Marchex', 'permalink': 'marchex'}}}]"
      ]
     },
     "execution_count": 49,
     "metadata": {},
     "output_type": "execute_result"
    }
   ],
   "source": [
    "list(c.find({'acquisition.acquired_year': {\"$gt\": 2010}},{'name': 1, '_id':0, 'acquisition':1}).limit(5))"
   ]
  },
  {
   "cell_type": "markdown",
   "metadata": {},
   "source": [
    "### 14. Order the companies by their `founded year`, retrieving only their `name` and `founded year`."
   ]
  },
  {
   "cell_type": "code",
   "execution_count": 52,
   "metadata": {},
   "outputs": [
    {
     "data": {
      "text/plain": [
       "[{'name': 'Advaliant', 'founded_year': 2013},\n",
       " {'name': 'Fixya', 'founded_year': 2013},\n",
       " {'name': 'iBazar', 'founded_year': 2013},\n",
       " {'name': 'Fluc', 'founded_year': 2013},\n",
       " {'name': 'Wamba', 'founded_year': 2013}]"
      ]
     },
     "execution_count": 52,
     "metadata": {},
     "output_type": "execute_result"
    }
   ],
   "source": [
    "list(c.find({},{'name': 1, '_id':0, 'founded_year':1}).sort('founded_year',-1).limit(5))"
   ]
  },
  {
   "cell_type": "markdown",
   "metadata": {},
   "source": [
    "### 15. All the companies that have been founded on the first seven days of the month, including the seventh. Sort them by their `acquisition price` in a descending order. Limit the search to 10 documents."
   ]
  },
  {
   "cell_type": "code",
   "execution_count": 55,
   "metadata": {},
   "outputs": [
    {
     "data": {
      "text/plain": [
       "[{'name': 'Netscape', 'founded_day': 4},\n",
       " {'name': 'PayPal', 'founded_day': 1},\n",
       " {'name': 'Zappos', 'founded_day': 1},\n",
       " {'name': 'Alibaba', 'founded_day': 1},\n",
       " {'name': 'Postini', 'founded_day': 2},\n",
       " {'name': 'Danger', 'founded_day': 1},\n",
       " {'name': 'Clearwell Systems', 'founded_day': 6},\n",
       " {'name': 'PrimeSense', 'founded_day': 1},\n",
       " {'name': 'Amobee', 'founded_day': 1},\n",
       " {'name': 'BlueLithium', 'founded_day': 1}]"
      ]
     },
     "execution_count": 55,
     "metadata": {},
     "output_type": "execute_result"
    }
   ],
   "source": [
    "list(c.find({'founded_day': {\"$lte\": 7}},{'name': 1, '_id':0, 'founded_day':1}).sort('acquisition.price_amount',-1).limit(10))"
   ]
  },
  {
   "cell_type": "markdown",
   "metadata": {},
   "source": [
    "### 16. All the companies on the 'web' `category` that have more than 4000 employees. Sort them by the amount of employees in ascending order."
   ]
  },
  {
   "cell_type": "code",
   "execution_count": 57,
   "metadata": {},
   "outputs": [
    {
     "data": {
      "text/plain": [
       "[{'name': 'Expedia', 'category_code': 'web', 'number_of_employees': 4400},\n",
       " {'name': 'AOL', 'category_code': 'web', 'number_of_employees': 8000},\n",
       " {'name': 'Webkinz', 'category_code': 'web', 'number_of_employees': 8657},\n",
       " {'name': 'Rakuten', 'category_code': 'web', 'number_of_employees': 10000},\n",
       " {'name': 'Los Angeles Times Media Group',\n",
       "  'category_code': 'web',\n",
       "  'number_of_employees': 10000},\n",
       " {'name': 'Groupon', 'category_code': 'web', 'number_of_employees': 10000},\n",
       " {'name': 'Yahoo!', 'category_code': 'web', 'number_of_employees': 13600},\n",
       " {'name': 'eBay', 'category_code': 'web', 'number_of_employees': 15000},\n",
       " {'name': 'Experian', 'category_code': 'web', 'number_of_employees': 15500}]"
      ]
     },
     "execution_count": 57,
     "metadata": {},
     "output_type": "execute_result"
    }
   ],
   "source": [
    "list(c.find({\"$and\": [{'category_code': 'web'},{'number_of_employees': {\"$gt\": 4000}}]},{'name': 1,'number_of_employees': 1,'category_code':1, '_id':0}).sort('number_of_employees',1))"
   ]
  },
  {
   "cell_type": "markdown",
   "metadata": {},
   "source": [
    "### 17. All the companies whose acquisition amount is more than 10.000.000, and currency is 'EUR'."
   ]
  },
  {
   "cell_type": "code",
   "execution_count": 60,
   "metadata": {},
   "outputs": [
    {
     "data": {
      "text/plain": [
       "[{'name': 'ZYB',\n",
       "  'acquisition': {'price_amount': 31500000, 'price_currency_code': 'EUR'}},\n",
       " {'name': 'Apertio',\n",
       "  'acquisition': {'price_amount': 140000000, 'price_currency_code': 'EUR'}},\n",
       " {'name': 'Greenfield Online',\n",
       "  'acquisition': {'price_amount': 40000000, 'price_currency_code': 'EUR'}},\n",
       " {'name': 'Webedia',\n",
       "  'acquisition': {'price_amount': 70000000, 'price_currency_code': 'EUR'}},\n",
       " {'name': 'Wayfinder',\n",
       "  'acquisition': {'price_amount': 24000000, 'price_currency_code': 'EUR'}},\n",
       " {'name': 'Tuenti Technologies',\n",
       "  'acquisition': {'price_amount': 70000000, 'price_currency_code': 'EUR'}},\n",
       " {'name': 'BioMed Central',\n",
       "  'acquisition': {'price_amount': 43400000, 'price_currency_code': 'EUR'}}]"
      ]
     },
     "execution_count": 60,
     "metadata": {},
     "output_type": "execute_result"
    }
   ],
   "source": [
    "list(c.find({\"$and\": [{'acquisition.price_currency_code': 'EUR'},{'acquisition.price_amount': {\"$gt\": 10000000}}]},{'name': 1,'acquisition.price_amount': 1,'acquisition.price_currency_code':1, '_id':0}))"
   ]
  },
  {
   "cell_type": "markdown",
   "metadata": {},
   "source": [
    "### 18. All the companies that have been acquired on the first trimester of the year. Limit the search to 10 companies, and retrieve only their `name` and `acquisition` fields."
   ]
  },
  {
   "cell_type": "code",
   "execution_count": 61,
   "metadata": {},
   "outputs": [
    {
     "data": {
      "text/plain": [
       "[{'name': 'Facebook', 'acquisition': None},\n",
       " {'name': 'Twitter', 'acquisition': None},\n",
       " {'name': 'StumbleUpon',\n",
       "  'acquisition': {'price_amount': 29000000,\n",
       "   'price_currency_code': 'USD',\n",
       "   'term_code': None,\n",
       "   'source_url': 'http://techcrunch.com/2009/04/13/ebay-unacquires-stumbleupon/',\n",
       "   'source_description': \"StumbleUpon Beats Skype In Escaping EBay's Clutches\",\n",
       "   'acquired_year': 2009,\n",
       "   'acquired_month': 4,\n",
       "   'acquired_day': None,\n",
       "   'acquiring_company': {'name': 'StumbleUpon', 'permalink': 'stumbleupon'}}},\n",
       " {'name': 'Gizmoz',\n",
       "  'acquisition': {'price_amount': None,\n",
       "   'price_currency_code': 'USD',\n",
       "   'term_code': None,\n",
       "   'source_url': 'http://www.gizmoz.com',\n",
       "   'source_description': 'TechCrunch',\n",
       "   'acquired_year': 2009,\n",
       "   'acquired_month': 12,\n",
       "   'acquired_day': 15,\n",
       "   'acquiring_company': {'name': 'Daz 3d', 'permalink': 'daz-3d'}}},\n",
       " {'name': 'Helio',\n",
       "  'acquisition': {'price_amount': 39000000,\n",
       "   'price_currency_code': 'USD',\n",
       "   'term_code': 'stock',\n",
       "   'source_url': 'http://news.cnet.com/8301-10784_3-9978991-7.html',\n",
       "   'source_description': 'Virgin Mobile USA buys Helio for $39 million',\n",
       "   'acquired_year': 2008,\n",
       "   'acquired_month': 6,\n",
       "   'acquired_day': 27,\n",
       "   'acquiring_company': {'name': 'Virgin Mobile USA',\n",
       "    'permalink': 'virgin-mobile'}}},\n",
       " {'name': 'Babelgum', 'acquisition': None},\n",
       " {'name': 'Yahoo!', 'acquisition': None},\n",
       " {'name': 'Mahalo', 'acquisition': None},\n",
       " {'name': 'Meetup', 'acquisition': None},\n",
       " {'name': 'Jangl SMS', 'acquisition': None}]"
      ]
     },
     "execution_count": 61,
     "metadata": {},
     "output_type": "execute_result"
    }
   ],
   "source": [
    "list(c.find({'founded_month':{'$lt':4}},{'name':1, '_id':0,'acquisition':1}).limit(10))"
   ]
  },
  {
   "cell_type": "markdown",
   "metadata": {},
   "source": [
    "# Bonus\n",
    "### 19. All the companies that have been founded between 2000 and 2010, but have not been acquired before 2011."
   ]
  },
  {
   "cell_type": "code",
   "execution_count": 77,
   "metadata": {},
   "outputs": [
    {
     "data": {
      "text/plain": [
       "[{'founded_year': 2002, 'acquisition': {'acquired_year': 2009}},\n",
       " {'founded_year': 2003, 'acquisition': {'acquired_year': 2009}},\n",
       " {'founded_year': 2005, 'acquisition': {'acquired_year': 2008}},\n",
       " {'founded_year': 2006, 'acquisition': {'acquired_year': 2009}},\n",
       " {'founded_year': 2002, 'acquisition': {'acquired_year': 2008}},\n",
       " {'founded_year': 2006, 'acquisition': {'acquired_year': 2008}},\n",
       " {'founded_year': 2004, 'acquisition': {'acquired_year': 2010}},\n",
       " {'founded_year': 2005, 'acquisition': {'acquired_year': 2009}},\n",
       " {'founded_year': 2003, 'acquisition': {'acquired_year': 2005}},\n",
       " {'founded_year': 2005, 'acquisition': {'acquired_year': 2006}}]"
      ]
     },
     "execution_count": 77,
     "metadata": {},
     "output_type": "execute_result"
    }
   ],
   "source": [
    "\n",
    "list(c.find ({'$and':[{\"acquisition.acquired_year\": {'$lt': 2011}}, {'founded_year': { '$gte' : 2000 , '$lte' : 2010 }}]}, {\"_id\":0, \"acquisition.acquired_year\":1,'founded_year':1}).limit(10))"
   ]
  },
  {
   "cell_type": "markdown",
   "metadata": {},
   "source": [
    "### 20. All the companies that have been 'deadpooled' after the third year."
   ]
  },
  {
   "cell_type": "code",
   "execution_count": 103,
   "metadata": {},
   "outputs": [],
   "source": [
    "\n",
    "b=list(c.find({'deadpooled_year':{'$exists': True}},{'deadpooled_year':1,'founded_year': 1,'name':1, '_id':0}))\n",
    "lista=[]\n",
    "for i in b:\n",
    "\n",
    "    if i['deadpooled_year'] != None and i['founded_year']!=None:    \n",
    "        if i['deadpooled_year'] < 4:\n",
    "            lista.append(i)\n",
    "        elif (i['deadpooled_year']-i['founded_year']) < 4:\n",
    "            lista.append(i)\n",
    "\n"
   ]
  },
  {
   "cell_type": "code",
   "execution_count": 104,
   "metadata": {},
   "outputs": [
    {
     "data": {
      "text/plain": [
       "[{'name': 'Wetpaint', 'founded_year': 2005, 'deadpooled_year': 1},\n",
       " {'name': 'AdventNet', 'founded_year': 1996, 'deadpooled_year': 2},\n",
       " {'name': 'Zoho', 'founded_year': 2005, 'deadpooled_year': 3},\n",
       " {'name': 'Omnidrive', 'founded_year': 2005, 'deadpooled_year': 2008},\n",
       " {'name': 'Sparter', 'founded_year': 2007, 'deadpooled_year': 2008},\n",
       " {'name': 'Jangl SMS', 'founded_year': 2005, 'deadpooled_year': 2008},\n",
       " {'name': 'Spotplex', 'founded_year': 2007, 'deadpooled_year': 2008},\n",
       " {'name': 'TripUp', 'founded_year': 2006, 'deadpooled_year': 2008},\n",
       " {'name': 'Fleck', 'founded_year': 2006, 'deadpooled_year': 2008},\n",
       " {'name': 'Zooomr', 'founded_year': 2006, 'deadpooled_year': 2006},\n",
       " {'name': 'TripHub', 'founded_year': 2005, 'deadpooled_year': 2008},\n",
       " {'name': 'adBrite', 'founded_year': 2003, 'deadpooled_year': 2001},\n",
       " {'name': 'WebbAlert', 'founded_year': 2007, 'deadpooled_year': 2009},\n",
       " {'name': 'KnockaTV', 'founded_year': 2007, 'deadpooled_year': 2008},\n",
       " {'name': 'EventVue', 'founded_year': 2007, 'deadpooled_year': 2010},\n",
       " {'name': 'SlapVid', 'founded_year': 2007, 'deadpooled_year': 2007},\n",
       " {'name': 'DotBlu', 'founded_year': 2007, 'deadpooled_year': 2009},\n",
       " {'name': 'CrowdSpirit', 'founded_year': 2007, 'deadpooled_year': 2010},\n",
       " {'name': 'GotStatus', 'founded_year': 2007, 'deadpooled_year': 2008},\n",
       " {'name': 'IPartee', 'founded_year': 2007, 'deadpooled_year': 2009},\n",
       " {'name': 'Iggli', 'founded_year': 2007, 'deadpooled_year': 2010},\n",
       " {'name': 'BrightQube', 'founded_year': 2006, 'deadpooled_year': 2009},\n",
       " {'name': 'BuzzDash', 'founded_year': 2006, 'deadpooled_year': 2009},\n",
       " {'name': 'MatchMine', 'founded_year': 2007, 'deadpooled_year': 2008},\n",
       " {'name': 'Predictify', 'founded_year': 2007, 'deadpooled_year': 2009},\n",
       " {'name': 'Floobs', 'founded_year': 2007, 'deadpooled_year': 2010},\n",
       " {'name': 'Needium', 'founded_year': 2010, 'deadpooled_year': 2012},\n",
       " {'name': 'NebuAd', 'founded_year': 2006, 'deadpooled_year': 2009},\n",
       " {'name': 'Zoji', 'founded_year': 2004, 'deadpooled_year': 2006},\n",
       " {'name': 'YouOS', 'founded_year': 2005, 'deadpooled_year': 2008},\n",
       " {'name': 'Utterz', 'founded_year': 2007, 'deadpooled_year': 2010},\n",
       " {'name': 'Bahu', 'founded_year': 2007, 'deadpooled_year': 2009},\n",
       " {'name': 'WeShow', 'founded_year': 2007, 'deadpooled_year': 2008},\n",
       " {'name': 'PlayCafe', 'founded_year': 2006, 'deadpooled_year': 2009},\n",
       " {'name': 'MOLI', 'founded_year': 2008, 'deadpooled_year': 2010},\n",
       " {'name': 'MetaNotes', 'founded_year': 2007, 'deadpooled_year': 2010},\n",
       " {'name': 'Weblogs', 'founded_year': 2003, 'deadpooled_year': 1963},\n",
       " {'name': 'ClayValet', 'founded_year': 2007, 'deadpooled_year': 2008},\n",
       " {'name': 'UGAME', 'founded_year': 2007, 'deadpooled_year': 2010},\n",
       " {'name': 'China-8', 'founded_year': 2006, 'deadpooled_year': 2009},\n",
       " {'name': 'LUNARR', 'founded_year': 2006, 'deadpooled_year': 2009},\n",
       " {'name': 'Advaliant', 'founded_year': 2013, 'deadpooled_year': 2009},\n",
       " {'name': 'openPeople', 'founded_year': 2006, 'deadpooled_year': 2009},\n",
       " {'name': '8aweek', 'founded_year': 2008, 'deadpooled_year': 2009},\n",
       " {'name': 'octabox', 'founded_year': 2007, 'deadpooled_year': 2009},\n",
       " {'name': 'IShareWeShare', 'founded_year': 2008, 'deadpooled_year': 2008},\n",
       " {'name': 'Pollsit', 'founded_year': 2007, 'deadpooled_year': 2008},\n",
       " {'name': 'GenieTown', 'founded_year': 2006, 'deadpooled_year': 2008},\n",
       " {'name': 'FameCast', 'founded_year': 2007, 'deadpooled_year': 2010},\n",
       " {'name': 'JuicyCampus', 'founded_year': 2007, 'deadpooled_year': 2009},\n",
       " {'name': 'Popularo', 'founded_year': 2007, 'deadpooled_year': 2009},\n",
       " {'name': 'Aullo', 'founded_year': 2006, 'deadpooled_year': 2008},\n",
       " {'name': 'Folkstr', 'founded_year': 2007, 'deadpooled_year': 2008},\n",
       " {'name': 'Biographicon', 'founded_year': 2008, 'deadpooled_year': 2008},\n",
       " {'name': 'Brijit', 'founded_year': 2006, 'deadpooled_year': 2008},\n",
       " {'name': 'Ezmo', 'founded_year': 2007, 'deadpooled_year': 2008},\n",
       " {'name': 'ScribeStorm', 'founded_year': 2007, 'deadpooled_year': 2007},\n",
       " {'name': 'Snaptalent', 'founded_year': 2007, 'deadpooled_year': 2009},\n",
       " {'name': 'Daikana', 'founded_year': 2007, 'deadpooled_year': 2010},\n",
       " {'name': 'Arclight Media Technology',\n",
       "  'founded_year': 2005,\n",
       "  'deadpooled_year': 2008},\n",
       " {'name': 'kwiry', 'founded_year': 2006, 'deadpooled_year': 2009},\n",
       " {'name': 'Wundrbar', 'founded_year': 2008, 'deadpooled_year': 2009},\n",
       " {'name': 'writewith', 'founded_year': 2007, 'deadpooled_year': 2010},\n",
       " {'name': 'Moblica', 'founded_year': 2011, 'deadpooled_year': 2013},\n",
       " {'name': 'CJReport', 'founded_year': 2007, 'deadpooled_year': 2010},\n",
       " {'name': 'Pikum', 'founded_year': 2007, 'deadpooled_year': 2009},\n",
       " {'name': 'Wakozi', 'founded_year': 2008, 'deadpooled_year': 2007},\n",
       " {'name': 'Kublax', 'founded_year': 2007, 'deadpooled_year': 2010},\n",
       " {'name': 'utoopia', 'founded_year': 2007, 'deadpooled_year': 2008},\n",
       " {'name': 'PluggedIn', 'founded_year': 2006, 'deadpooled_year': 2009},\n",
       " {'name': 'MediaScrape', 'founded_year': 2006, 'deadpooled_year': 2009},\n",
       " {'name': 'StrawPoll', 'founded_year': 2008, 'deadpooled_year': 2010},\n",
       " {'name': 'InGameNow', 'founded_year': 2008, 'deadpooled_year': 2010},\n",
       " {'name': 'Zeer', 'founded_year': 2007, 'deadpooled_year': 2009},\n",
       " {'name': 'RemindBlast', 'founded_year': 2008, 'deadpooled_year': 2011},\n",
       " {'name': 'Supercool School', 'founded_year': 2009, 'deadpooled_year': 2012},\n",
       " {'name': 'Wirama', 'founded_year': 2006, 'deadpooled_year': 2008},\n",
       " {'name': 'Streamy', 'founded_year': 2007, 'deadpooled_year': 2010},\n",
       " {'name': 'Weeno Media', 'founded_year': 2006, 'deadpooled_year': 2008},\n",
       " {'name': 'Teen Media Productions',\n",
       "  'founded_year': 2007,\n",
       "  'deadpooled_year': 2010},\n",
       " {'name': 'RabbleDabble', 'founded_year': 2007, 'deadpooled_year': 2008},\n",
       " {'name': 'Admixture', 'founded_year': 2006, 'deadpooled_year': 2009},\n",
       " {'name': 'hearwhere', 'founded_year': 2008, 'deadpooled_year': 2010},\n",
       " {'name': 'Phreadz', 'founded_year': 2008, 'deadpooled_year': 2011},\n",
       " {'name': 'Jowba', 'founded_year': 2007, 'deadpooled_year': 2008},\n",
       " {'name': 'Cloudcity', 'founded_year': 2007, 'deadpooled_year': 2009},\n",
       " {'name': 'Gamook', 'founded_year': 2008, 'deadpooled_year': 2010},\n",
       " {'name': 'mymission2', 'founded_year': 2008, 'deadpooled_year': 2010},\n",
       " {'name': 'International Liars Poker Association',\n",
       "  'founded_year': 2007,\n",
       "  'deadpooled_year': 2010},\n",
       " {'name': 'Leaders2020', 'founded_year': 2007, 'deadpooled_year': 2008},\n",
       " {'name': 'Vivaty', 'founded_year': 2007, 'deadpooled_year': 2010},\n",
       " {'name': 'TeamStreamz', 'founded_year': 2006, 'deadpooled_year': 2008},\n",
       " {'name': 'Trusera', 'founded_year': 2007, 'deadpooled_year': 2009},\n",
       " {'name': 'GET Holding NV', 'founded_year': 2007, 'deadpooled_year': 2009},\n",
       " {'name': 'Fashionspace', 'founded_year': 2007, 'deadpooled_year': 2010},\n",
       " {'name': 'DriftToIt', 'founded_year': 2007, 'deadpooled_year': 2009},\n",
       " {'name': 'FuseCal', 'founded_year': 2006, 'deadpooled_year': 2009},\n",
       " {'name': 'SocialBrowse', 'founded_year': 2008, 'deadpooled_year': 2010},\n",
       " {'name': 'SportsTwit', 'founded_year': 2008, 'deadpooled_year': 2009},\n",
       " {'name': 'Wowuwu', 'founded_year': 2008, 'deadpooled_year': 2009},\n",
       " {'name': 'PUDGIN', 'founded_year': 2007, 'deadpooled_year': 2009},\n",
       " {'name': 'AltSearchEngines', 'founded_year': 2007, 'deadpooled_year': 2009},\n",
       " {'name': 'Sonya Labs', 'founded_year': 2008, 'deadpooled_year': 2009},\n",
       " {'name': 'Zyked', 'founded_year': 2007, 'deadpooled_year': 2010},\n",
       " {'name': 'Woldme', 'founded_year': 2007, 'deadpooled_year': 2009},\n",
       " {'name': 'PharmaNation', 'founded_year': 2008, 'deadpooled_year': 2008},\n",
       " {'name': 'GlocalReach', 'founded_year': 2007, 'deadpooled_year': 2009},\n",
       " {'name': 'Flowgram', 'founded_year': 2007, 'deadpooled_year': 2008},\n",
       " {'name': 'Imara Corporation', 'founded_year': 2006, 'deadpooled_year': 2009},\n",
       " {'name': 'Veedow', 'founded_year': 2007, 'deadpooled_year': 2009},\n",
       " {'name': 'Kickplay', 'founded_year': 2007, 'deadpooled_year': 2010},\n",
       " {'name': \"We're Rolling\", 'founded_year': 2007, 'deadpooled_year': 2010},\n",
       " {'name': 'TagosGreen Business Community',\n",
       "  'founded_year': 2008,\n",
       "  'deadpooled_year': 2010},\n",
       " {'name': 'Mapori', 'founded_year': 2007, 'deadpooled_year': 2009},\n",
       " {'name': 'Event Innovation', 'founded_year': 2007, 'deadpooled_year': 2008},\n",
       " {'name': 'Anthillz', 'founded_year': 2008, 'deadpooled_year': 2008},\n",
       " {'name': 'Zorap', 'founded_year': 2008, 'deadpooled_year': 2011},\n",
       " {'name': 'Agdersoft', 'founded_year': 2007, 'deadpooled_year': 2008},\n",
       " {'name': 'GoYoDeo', 'founded_year': 2007, 'deadpooled_year': 2010},\n",
       " {'name': 'Phrazit', 'founded_year': 2008, 'deadpooled_year': 2009},\n",
       " {'name': 'Snipd', 'founded_year': 2008, 'deadpooled_year': 2011},\n",
       " {'name': 'Statzen', 'founded_year': 2008, 'deadpooled_year': 2010},\n",
       " {'name': 'OfferLounge', 'founded_year': 2008, 'deadpooled_year': 2010},\n",
       " {'name': 'Prosperity Financial Services Pte Ltd',\n",
       "  'founded_year': 2006,\n",
       "  'deadpooled_year': 2009},\n",
       " {'name': 'Ultimate Football Network',\n",
       "  'founded_year': 2008,\n",
       "  'deadpooled_year': 2011},\n",
       " {'name': 'Galaxy', 'founded_year': 2008, 'deadpooled_year': 2010},\n",
       " {'name': 'PicMe', 'founded_year': 2008, 'deadpooled_year': 2009},\n",
       " {'name': 'My Best Interest', 'founded_year': 2006, 'deadpooled_year': 2009},\n",
       " {'name': 'Divvy Systems', 'founded_year': 2007, 'deadpooled_year': 2010},\n",
       " {'name': 'Geodelic Systems', 'founded_year': 2008, 'deadpooled_year': 2011},\n",
       " {'name': 'iFavr', 'founded_year': 2008, 'deadpooled_year': 2010},\n",
       " {'name': 'Valid', 'founded_year': 2008, 'deadpooled_year': 2009},\n",
       " {'name': 'Status', 'founded_year': 2008, 'deadpooled_year': 2009},\n",
       " {'name': 'cmypitch', 'founded_year': 2008, 'deadpooled_year': 2010},\n",
       " {'name': 'GoYoDeo', 'founded_year': 2007, 'deadpooled_year': 2010},\n",
       " {'name': 'Phrazit', 'founded_year': 2008, 'deadpooled_year': 2009},\n",
       " {'name': 'Snipd', 'founded_year': 2008, 'deadpooled_year': 2011},\n",
       " {'name': 'Statzen', 'founded_year': 2008, 'deadpooled_year': 2010},\n",
       " {'name': 'OfferLounge', 'founded_year': 2008, 'deadpooled_year': 2010},\n",
       " {'name': 'Prosperity Financial Services Pte Ltd',\n",
       "  'founded_year': 2006,\n",
       "  'deadpooled_year': 2009},\n",
       " {'name': 'Ultimate Football Network',\n",
       "  'founded_year': 2008,\n",
       "  'deadpooled_year': 2011},\n",
       " {'name': 'Galaxy', 'founded_year': 2008, 'deadpooled_year': 2010},\n",
       " {'name': 'PicMe', 'founded_year': 2008, 'deadpooled_year': 2009},\n",
       " {'name': 'My Best Interest', 'founded_year': 2006, 'deadpooled_year': 2009},\n",
       " {'name': 'Divvy Systems', 'founded_year': 2007, 'deadpooled_year': 2010},\n",
       " {'name': 'Geodelic Systems', 'founded_year': 2008, 'deadpooled_year': 2011},\n",
       " {'name': 'iFavr', 'founded_year': 2008, 'deadpooled_year': 2010},\n",
       " {'name': 'Valid', 'founded_year': 2008, 'deadpooled_year': 2009},\n",
       " {'name': 'Status', 'founded_year': 2008, 'deadpooled_year': 2009},\n",
       " {'name': 'cmypitch', 'founded_year': 2008, 'deadpooled_year': 2010},\n",
       " {'name': \"For Art's Sake Media\",\n",
       "  'founded_year': 2007,\n",
       "  'deadpooled_year': 2010},\n",
       " {'name': 'Linkbee', 'founded_year': 2008, 'deadpooled_year': 2011},\n",
       " {'name': 'Videofropper', 'founded_year': 2007, 'deadpooled_year': 2010},\n",
       " {'name': 'BuzzBuy', 'founded_year': 2008, 'deadpooled_year': 2009},\n",
       " {'name': 'EyeSpot', 'founded_year': 2005, 'deadpooled_year': 2008},\n",
       " {'name': 'One Season', 'founded_year': 2007, 'deadpooled_year': 2010},\n",
       " {'name': 'Infima Technologies',\n",
       "  'founded_year': 2006,\n",
       "  'deadpooled_year': 2009},\n",
       " {'name': 'Freebo', 'founded_year': 2008, 'deadpooled_year': 2009},\n",
       " {'name': 'Socialfly', 'founded_year': 2008, 'deadpooled_year': 2009},\n",
       " {'name': 'GoHoster', 'founded_year': 2007, 'deadpooled_year': 2010},\n",
       " {'name': 'For Your Imagination',\n",
       "  'founded_year': 2007,\n",
       "  'deadpooled_year': 2010},\n",
       " {'name': 'Sonichall', 'founded_year': 2008, 'deadpooled_year': 2009},\n",
       " {'name': 'Mogees', 'founded_year': 2008, 'deadpooled_year': 2009},\n",
       " {'name': 'QikCom', 'founded_year': 2008, 'deadpooled_year': 2009},\n",
       " {'name': 'Tidalwave Trader', 'founded_year': 2008, 'deadpooled_year': 2011},\n",
       " {'name': 'TasteSpace', 'founded_year': 2007, 'deadpooled_year': 2010},\n",
       " {'name': 'Star Fever Agency', 'founded_year': 2009, 'deadpooled_year': 2011},\n",
       " {'name': 'Mindity', 'founded_year': 2005, 'deadpooled_year': 2008},\n",
       " {'name': 'BlogRush', 'founded_year': 2007, 'deadpooled_year': 2008},\n",
       " {'name': 'mangofizz jobs', 'founded_year': 2007, 'deadpooled_year': 2010},\n",
       " {'name': 'GetBack', 'founded_year': 2007, 'deadpooled_year': 2010},\n",
       " {'name': 'HourVille', 'founded_year': 2008, 'deadpooled_year': 2011},\n",
       " {'name': 'Ptch', 'founded_year': 2012, 'deadpooled_year': 2014},\n",
       " {'name': 'Ecommo', 'founded_year': 2008, 'deadpooled_year': 2011},\n",
       " {'name': 'TwentyFour6', 'founded_year': 2008, 'deadpooled_year': 2009},\n",
       " {'name': 'Wizzgo', 'founded_year': 2006, 'deadpooled_year': 2009},\n",
       " {'name': 'Dexmo', 'founded_year': 2006, 'deadpooled_year': 2008},\n",
       " {'name': '1DayMakeover', 'founded_year': 2008, 'deadpooled_year': 2010},\n",
       " {'name': 'Tellwiki', 'founded_year': 2008, 'deadpooled_year': 2008},\n",
       " {'name': 'Livekick', 'founded_year': 2009, 'deadpooled_year': 2011},\n",
       " {'name': 'Snappr', 'founded_year': 2008, 'deadpooled_year': 2009},\n",
       " {'name': 'Twones', 'founded_year': 2008, 'deadpooled_year': 2010},\n",
       " {'name': 'CitySpeek', 'founded_year': 2008, 'deadpooled_year': 2010},\n",
       " {'name': 'HelpHive', 'founded_year': 2008, 'deadpooled_year': 2011},\n",
       " {'name': 'twitTangle', 'founded_year': 2008, 'deadpooled_year': 2011},\n",
       " {'name': 'Calisto100', 'founded_year': 2009, 'deadpooled_year': 2010},\n",
       " {'name': 'Twitpay', 'founded_year': 2010, 'deadpooled_year': 2012},\n",
       " {'name': 'twtcard', 'founded_year': 2008, 'deadpooled_year': 2009},\n",
       " {'name': 'Twitter Tribune', 'founded_year': 2008, 'deadpooled_year': 2009},\n",
       " {'name': 'PeopleRipple', 'founded_year': 2007, 'deadpooled_year': 2010},\n",
       " {'name': 'Vibeex', 'founded_year': 2008, 'deadpooled_year': 2009},\n",
       " {'name': 'Storytlr', 'founded_year': 2008, 'deadpooled_year': 2009},\n",
       " {'name': \"Trusty's\", 'founded_year': 2008, 'deadpooled_year': 2010},\n",
       " {'name': 'Digiprof', 'founded_year': 2008, 'deadpooled_year': 2010},\n",
       " {'name': 'Veeda', 'founded_year': 2007, 'deadpooled_year': 2010},\n",
       " {'name': 'Stiki Digital', 'founded_year': 2007, 'deadpooled_year': 2009},\n",
       " {'name': 'D2C Games', 'founded_year': 2006, 'deadpooled_year': 2008},\n",
       " {'name': 'ZinkoTek', 'founded_year': 2007, 'deadpooled_year': 2010},\n",
       " {'name': 'LiveRSVP', 'founded_year': 2008, 'deadpooled_year': 2010},\n",
       " {'name': 'Ohai', 'founded_year': 2008, 'deadpooled_year': 2011},\n",
       " {'name': 'Dial a Dealer', 'founded_year': 2006, 'deadpooled_year': 2009},\n",
       " {'name': 'UWantSavings', 'founded_year': 2008, 'deadpooled_year': 2010},\n",
       " {'name': 'HealthLok', 'founded_year': 2008, 'deadpooled_year': 2008},\n",
       " {'name': 'Bemba', 'founded_year': 2007, 'deadpooled_year': 2009},\n",
       " {'name': 'Jobulous', 'founded_year': 2008, 'deadpooled_year': 2010},\n",
       " {'name': 'Conformity', 'founded_year': 2007, 'deadpooled_year': 2009},\n",
       " {'name': 'VisualPin', 'founded_year': 2008, 'deadpooled_year': 2009},\n",
       " {'name': 'Veebox', 'founded_year': 2008, 'deadpooled_year': 2011},\n",
       " {'name': 'LaunchMind', 'founded_year': 2009, 'deadpooled_year': 2012},\n",
       " {'name': 'PopJam', 'founded_year': 2008, 'deadpooled_year': 2010},\n",
       " {'name': 'Gridpop', 'founded_year': 2008, 'deadpooled_year': 2009},\n",
       " {'name': 'PLUQ', 'founded_year': 2007, 'deadpooled_year': 2010},\n",
       " {'name': 'HealthyTweet', 'founded_year': 2009, 'deadpooled_year': 2009},\n",
       " {'name': 'Fliggo', 'founded_year': 2012, 'deadpooled_year': 2009},\n",
       " {'name': 'Legal River', 'founded_year': 2009, 'deadpooled_year': 2012},\n",
       " {'name': 'Kashless', 'founded_year': 2008, 'deadpooled_year': 2010},\n",
       " {'name': 'Champions365', 'founded_year': 2008, 'deadpooled_year': 2010},\n",
       " {'name': 'KidSwirl', 'founded_year': 2009, 'deadpooled_year': 2011},\n",
       " {'name': 'documistic', 'founded_year': 2007, 'deadpooled_year': 2009},\n",
       " {'name': 'North by South', 'founded_year': 2007, 'deadpooled_year': 2010},\n",
       " {'name': 'iconDial', 'founded_year': 2008, 'deadpooled_year': 2011},\n",
       " {'name': 'Qwiji', 'founded_year': 2008, 'deadpooled_year': 2009},\n",
       " {'name': 'Tongxue', 'founded_year': 2013, 'deadpooled_year': 2013},\n",
       " {'name': 'Skysheet', 'founded_year': 2009, 'deadpooled_year': 2008},\n",
       " {'name': 'Nambii', 'founded_year': 2009, 'deadpooled_year': 2009},\n",
       " {'name': 'Boring', 'founded_year': 2007, 'deadpooled_year': 2010},\n",
       " {'name': 'Shopnics', 'founded_year': 2008, 'deadpooled_year': 2010},\n",
       " {'name': 'Trendient', 'founded_year': 2008, 'deadpooled_year': 2011},\n",
       " {'name': 'Ravant', 'founded_year': 2008, 'deadpooled_year': 2009},\n",
       " {'name': 'PickPark', 'founded_year': 2008, 'deadpooled_year': 2009},\n",
       " {'name': 'HowYouEco', 'founded_year': 2007, 'deadpooled_year': 2010},\n",
       " {'name': 'CityAmigo', 'founded_year': 2007, 'deadpooled_year': 2010},\n",
       " {'name': 'VidPay', 'founded_year': 2008, 'deadpooled_year': 2011},\n",
       " {'name': 'TV Pixie', 'founded_year': 2009, 'deadpooled_year': 2012},\n",
       " {'name': 'Broadersheet', 'founded_year': 2009, 'deadpooled_year': 2010},\n",
       " {'name': 'Bomeiti', 'founded_year': 2007, 'deadpooled_year': 2009},\n",
       " {'name': 'Jobzle', 'founded_year': 2010, 'deadpooled_year': 2013},\n",
       " {'name': 'zembly', 'founded_year': 2008, 'deadpooled_year': 2009},\n",
       " {'name': 'Keenpath', 'founded_year': 2008, 'deadpooled_year': 2011},\n",
       " {'name': 'Zinkk', 'founded_year': 2008, 'deadpooled_year': 2010},\n",
       " {'name': 'Service Beacon', 'founded_year': 2008, 'deadpooled_year': 2009},\n",
       " {'name': 'BookTour', 'founded_year': 2009, 'deadpooled_year': 2011},\n",
       " {'name': 'iSyndica', 'founded_year': 2009, 'deadpooled_year': 2010},\n",
       " {'name': 'myGreek', 'founded_year': 2008, 'deadpooled_year': 2011},\n",
       " {'name': 'Dream Village', 'founded_year': 2008, 'deadpooled_year': 2011},\n",
       " {'name': 'View2Gether', 'founded_year': 2009, 'deadpooled_year': 2012},\n",
       " {'name': 'Tempolib', 'founded_year': 2009, 'deadpooled_year': 2009},\n",
       " {'name': 'Healogica', 'founded_year': 2007, 'deadpooled_year': 2010},\n",
       " {'name': 'ePrivateHire', 'founded_year': 2006, 'deadpooled_year': 2009},\n",
       " {'name': 'Zumbua', 'founded_year': 2009, 'deadpooled_year': 2010},\n",
       " {'name': 'Beautiful People Society',\n",
       "  'founded_year': 2009,\n",
       "  'deadpooled_year': 2010},\n",
       " {'name': 'Wi-Chi', 'founded_year': 2008, 'deadpooled_year': 2011},\n",
       " {'name': 'Social Collective', 'founded_year': 2009, 'deadpooled_year': 2012},\n",
       " {'name': 'ZodBod', 'founded_year': 2009, 'deadpooled_year': 2011},\n",
       " {'name': 'Staaff', 'founded_year': 2007, 'deadpooled_year': 2009},\n",
       " {'name': 'Dubspace', 'founded_year': 2009, 'deadpooled_year': 2010},\n",
       " {'name': 'Infoflow', 'founded_year': 2006, 'deadpooled_year': 2008},\n",
       " {'name': 'TweetWagon', 'founded_year': 2009, 'deadpooled_year': 2010},\n",
       " {'name': 'Jomito', 'founded_year': 2008, 'deadpooled_year': 2009},\n",
       " {'name': 'Four Colors', 'founded_year': 2008, 'deadpooled_year': 2010},\n",
       " {'name': 'inversearch', 'founded_year': 2008, 'deadpooled_year': 2011},\n",
       " {'name': 'Witel', 'founded_year': 2007, 'deadpooled_year': 2009},\n",
       " {'name': 'Sprowtt Marketplace',\n",
       "  'founded_year': 2008,\n",
       "  'deadpooled_year': 2010},\n",
       " {'name': 'Eclector', 'founded_year': 2008, 'deadpooled_year': 2011},\n",
       " {'name': 'Siruna', 'founded_year': 2007, 'deadpooled_year': 2010},\n",
       " {'name': 'TwtBks', 'founded_year': 2009, 'deadpooled_year': 2012},\n",
       " {'name': 'LugIron Software', 'founded_year': 2009, 'deadpooled_year': 2010},\n",
       " {'name': 'Revetto', 'founded_year': 2009, 'deadpooled_year': 2009},\n",
       " {'name': 'Kerfuffle', 'founded_year': 2009, 'deadpooled_year': 2009},\n",
       " {'name': 'Bonvoyagee', 'founded_year': 2009, 'deadpooled_year': 2010},\n",
       " {'name': 'Bookrags', 'founded_year': 1999, 'deadpooled_year': 1991},\n",
       " {'name': 'tribalX', 'founded_year': 2009, 'deadpooled_year': 2010},\n",
       " {'name': 'Advanced Power Projects',\n",
       "  'founded_year': 2009,\n",
       "  'deadpooled_year': 2011},\n",
       " {'name': 'OfficialVirtualDJ', 'founded_year': 2009, 'deadpooled_year': 2009}]"
      ]
     },
     "execution_count": 104,
     "metadata": {},
     "output_type": "execute_result"
    }
   ],
   "source": [
    "lista\n"
   ]
  },
  {
   "cell_type": "code",
   "execution_count": null,
   "metadata": {},
   "outputs": [],
   "source": []
  }
 ],
 "metadata": {
  "kernelspec": {
   "display_name": "Ironhack",
   "language": "python",
   "name": "ironhack"
  },
  "language_info": {
   "codemirror_mode": {
    "name": "ipython",
    "version": 3
   },
   "file_extension": ".py",
   "mimetype": "text/x-python",
   "name": "python",
   "nbconvert_exporter": "python",
   "pygments_lexer": "ipython3",
   "version": "3.8.12"
  }
 },
 "nbformat": 4,
 "nbformat_minor": 2
}
