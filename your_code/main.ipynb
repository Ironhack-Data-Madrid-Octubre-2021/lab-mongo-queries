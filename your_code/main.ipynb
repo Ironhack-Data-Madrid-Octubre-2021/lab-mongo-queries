{
 "cells": [
  {
   "cell_type": "markdown",
   "metadata": {},
   "source": [
    "# Advanced Querying Mongo"
   ]
  },
  {
   "cell_type": "markdown",
   "metadata": {},
   "source": [
    "Importing libraries and setting up connection"
   ]
  },
  {
   "cell_type": "code",
   "execution_count": 5,
   "metadata": {},
   "outputs": [],
   "source": [
    "from pymongo import MongoClient\n",
    "client = MongoClient(\"localhost:27017\")\n",
    "\n"
   ]
  },
  {
   "cell_type": "code",
   "execution_count": 6,
   "metadata": {},
   "outputs": [
    {
     "data": {
      "text/plain": [
       "['admin', 'config', 'ensayo', 'ironhack', 'local']"
      ]
     },
     "execution_count": 6,
     "metadata": {},
     "output_type": "execute_result"
    }
   ],
   "source": [
    "client.list_database_names()"
   ]
  },
  {
   "cell_type": "code",
   "execution_count": 20,
   "metadata": {},
   "outputs": [
    {
     "data": {
      "text/plain": [
       "['companies']"
      ]
     },
     "execution_count": 20,
     "metadata": {},
     "output_type": "execute_result"
    }
   ],
   "source": [
    "db = client.get_database(\"ironhack\")\n",
    "db.list_collection_names()"
   ]
  },
  {
   "cell_type": "code",
   "execution_count": 21,
   "metadata": {},
   "outputs": [],
   "source": [
    "c = db.get_collection('companies')"
   ]
  },
  {
   "cell_type": "code",
   "execution_count": 22,
   "metadata": {},
   "outputs": [
    {
     "data": {
      "text/plain": [
       "{'_id': ObjectId('52cdef7c4bab8bd675297d8a'),\n",
       " 'name': 'Wetpaint',\n",
       " 'permalink': 'abc2',\n",
       " 'crunchbase_url': 'http://www.crunchbase.com/company/wetpaint',\n",
       " 'homepage_url': 'http://wetpaint-inc.com',\n",
       " 'blog_url': 'http://digitalquarters.net/',\n",
       " 'blog_feed_url': 'http://digitalquarters.net/feed/',\n",
       " 'twitter_username': 'BachelrWetpaint',\n",
       " 'category_code': 'web',\n",
       " 'number_of_employees': 47,\n",
       " 'founded_year': 2005,\n",
       " 'founded_month': 10,\n",
       " 'founded_day': 17,\n",
       " 'deadpooled_year': 1,\n",
       " 'tag_list': 'wiki, seattle, elowitz, media-industry, media-platform, social-distribution-system',\n",
       " 'alias_list': '',\n",
       " 'email_address': 'info@wetpaint.com',\n",
       " 'phone_number': '206.859.6300',\n",
       " 'description': 'Technology Platform Company',\n",
       " 'created_at': datetime.datetime(2007, 5, 25, 6, 51, 27),\n",
       " 'updated_at': 'Sun Dec 08 07:15:44 UTC 2013',\n",
       " 'overview': '<p>Wetpaint is a technology platform company that uses its proprietary state-of-the-art technology and expertise in social media to build and monetize audiences for digital publishers. Wetpaint’s own online property, Wetpaint Entertainment, an entertainment news site that attracts more than 12 million unique visitors monthly and has over 2 million Facebook fans, is a proof point to the company’s success in building and engaging audiences. Media companies can license Wetpaint’s platform which includes a dynamic playbook tailored to their individual needs and comprehensive training. Founded by Internet pioneer Ben Elowitz, and with offices in New York and Seattle, Wetpaint is backed by Accel Partners, the investors behind Facebook.</p>',\n",
       " 'image': {'available_sizes': [[[150, 75],\n",
       "    'assets/images/resized/0000/3604/3604v14-max-150x150.jpg'],\n",
       "   [[250, 125], 'assets/images/resized/0000/3604/3604v14-max-250x250.jpg'],\n",
       "   [[450, 225], 'assets/images/resized/0000/3604/3604v14-max-450x450.jpg']]},\n",
       " 'products': [{'name': 'Wikison Wetpaint', 'permalink': 'wetpaint-wiki'},\n",
       "  {'name': 'Wetpaint Social Distribution System',\n",
       "   'permalink': 'wetpaint-social-distribution-system'}],\n",
       " 'relationships': [{'is_past': False,\n",
       "   'title': 'Co-Founder and VP, Social and Audience Development',\n",
       "   'person': {'first_name': 'Michael',\n",
       "    'last_name': 'Howell',\n",
       "    'permalink': 'michael-howell'}},\n",
       "  {'is_past': False,\n",
       "   'title': 'Co-Founder/CEO/Board of Directors',\n",
       "   'person': {'first_name': 'Ben',\n",
       "    'last_name': 'Elowitz',\n",
       "    'permalink': 'ben-elowitz'}},\n",
       "  {'is_past': False,\n",
       "   'title': 'COO/Board of Directors',\n",
       "   'person': {'first_name': 'Rob',\n",
       "    'last_name': 'Grady',\n",
       "    'permalink': 'rob-grady'}},\n",
       "  {'is_past': False,\n",
       "   'title': 'SVP, Strategy and Business Development',\n",
       "   'person': {'first_name': 'Chris',\n",
       "    'last_name': 'Kollas',\n",
       "    'permalink': 'chris-kollas'}},\n",
       "  {'is_past': False,\n",
       "   'title': 'Board',\n",
       "   'person': {'first_name': 'Theresia',\n",
       "    'last_name': 'Ranzetta',\n",
       "    'permalink': 'theresia-ranzetta'}},\n",
       "  {'is_past': False,\n",
       "   'title': 'Board Member',\n",
       "   'person': {'first_name': 'Gus',\n",
       "    'last_name': 'Tai',\n",
       "    'permalink': 'gus-tai'}},\n",
       "  {'is_past': False,\n",
       "   'title': 'Board',\n",
       "   'person': {'first_name': 'Len',\n",
       "    'last_name': 'Jordan',\n",
       "    'permalink': 'len-jordan'}},\n",
       "  {'is_past': False,\n",
       "   'title': 'Head of Technology and Product',\n",
       "   'person': {'first_name': 'Alex',\n",
       "    'last_name': 'Weinstein',\n",
       "    'permalink': 'alex-weinstein'}},\n",
       "  {'is_past': True,\n",
       "   'title': 'CFO',\n",
       "   'person': {'first_name': 'Bert',\n",
       "    'last_name': 'Hogue',\n",
       "    'permalink': 'bert-hogue'}},\n",
       "  {'is_past': True,\n",
       "   'title': 'CFO/ CRO',\n",
       "   'person': {'first_name': 'Brian',\n",
       "    'last_name': 'Watkins',\n",
       "    'permalink': 'brian-watkins'}},\n",
       "  {'is_past': True,\n",
       "   'title': 'Senior Vice President, Marketing',\n",
       "   'person': {'first_name': 'Rob',\n",
       "    'last_name': 'Grady',\n",
       "    'permalink': 'rob-grady'}},\n",
       "  {'is_past': True,\n",
       "   'title': 'VP, Technology and Product',\n",
       "   'person': {'first_name': 'Werner',\n",
       "    'last_name': 'Koepf',\n",
       "    'permalink': 'werner-koepf'}},\n",
       "  {'is_past': True,\n",
       "   'title': 'VP Marketing',\n",
       "   'person': {'first_name': 'Kevin',\n",
       "    'last_name': 'Flaherty',\n",
       "    'permalink': 'kevin-flaherty'}},\n",
       "  {'is_past': True,\n",
       "   'title': 'VP User Experience',\n",
       "   'person': {'first_name': 'Alex',\n",
       "    'last_name': 'Berg',\n",
       "    'permalink': 'alex-berg'}},\n",
       "  {'is_past': True,\n",
       "   'title': 'VP Engineering',\n",
       "   'person': {'first_name': 'Steve',\n",
       "    'last_name': 'McQuade',\n",
       "    'permalink': 'steve-mcquade'}},\n",
       "  {'is_past': True,\n",
       "   'title': 'Executive Editor',\n",
       "   'person': {'first_name': 'Susan',\n",
       "    'last_name': 'Mulcahy',\n",
       "    'permalink': 'susan-mulcahy'}},\n",
       "  {'is_past': True,\n",
       "   'title': 'VP Business Development',\n",
       "   'person': {'first_name': 'Chris',\n",
       "    'last_name': 'Kollas',\n",
       "    'permalink': 'chris-kollas'}}],\n",
       " 'competitions': [{'competitor': {'name': 'Wikia', 'permalink': 'wikia'}},\n",
       "  {'competitor': {'name': 'JotSpot', 'permalink': 'jotspot'}},\n",
       "  {'competitor': {'name': 'Socialtext', 'permalink': 'socialtext'}},\n",
       "  {'competitor': {'name': 'Ning by Glam Media', 'permalink': 'ning'}},\n",
       "  {'competitor': {'name': 'Soceeo', 'permalink': 'soceeo'}},\n",
       "  {'competitor': {'name': 'Yola', 'permalink': 'yola'}},\n",
       "  {'competitor': {'name': 'SocialGO', 'permalink': 'socialgo'}},\n",
       "  {'competitor': {'name': 'IslamNor', 'permalink': 'islamnor'}}],\n",
       " 'providerships': [],\n",
       " 'total_money_raised': '$39.8M',\n",
       " 'funding_rounds': [{'id': 888,\n",
       "   'round_code': 'a',\n",
       "   'source_url': 'http://seattlepi.nwsource.com/business/246734_wiki02.html',\n",
       "   'source_description': '',\n",
       "   'raised_amount': 5250000,\n",
       "   'raised_currency_code': 'USD',\n",
       "   'funded_year': 2005,\n",
       "   'funded_month': 10,\n",
       "   'funded_day': 1,\n",
       "   'investments': [{'company': None,\n",
       "     'financial_org': {'name': 'Frazier Technology Ventures',\n",
       "      'permalink': 'frazier-technology-ventures'},\n",
       "     'person': None},\n",
       "    {'company': None,\n",
       "     'financial_org': {'name': 'Trinity Ventures',\n",
       "      'permalink': 'trinity-ventures'},\n",
       "     'person': None}]},\n",
       "  {'id': 889,\n",
       "   'round_code': 'b',\n",
       "   'source_url': 'http://pulse2.com/2007/01/09/wiki-builder-website-wetpaint-welcomes-95m-funding/',\n",
       "   'source_description': '',\n",
       "   'raised_amount': 9500000,\n",
       "   'raised_currency_code': 'USD',\n",
       "   'funded_year': 2007,\n",
       "   'funded_month': 1,\n",
       "   'funded_day': 1,\n",
       "   'investments': [{'company': None,\n",
       "     'financial_org': {'name': 'Accel Partners',\n",
       "      'permalink': 'accel-partners'},\n",
       "     'person': None},\n",
       "    {'company': None,\n",
       "     'financial_org': {'name': 'Frazier Technology Ventures',\n",
       "      'permalink': 'frazier-technology-ventures'},\n",
       "     'person': None},\n",
       "    {'company': None,\n",
       "     'financial_org': {'name': 'Trinity Ventures',\n",
       "      'permalink': 'trinity-ventures'},\n",
       "     'person': None}]},\n",
       "  {'id': 2312,\n",
       "   'round_code': 'c',\n",
       "   'source_url': 'http://www.accel.com/news/news_one_up.php?news_id=185',\n",
       "   'source_description': 'Accel',\n",
       "   'raised_amount': 25000000,\n",
       "   'raised_currency_code': 'USD',\n",
       "   'funded_year': 2008,\n",
       "   'funded_month': 5,\n",
       "   'funded_day': 19,\n",
       "   'investments': [{'company': None,\n",
       "     'financial_org': {'name': 'DAG Ventures', 'permalink': 'dag-ventures'},\n",
       "     'person': None},\n",
       "    {'company': None,\n",
       "     'financial_org': {'name': 'Accel Partners',\n",
       "      'permalink': 'accel-partners'},\n",
       "     'person': None},\n",
       "    {'company': None,\n",
       "     'financial_org': {'name': 'Trinity Ventures',\n",
       "      'permalink': 'trinity-ventures'},\n",
       "     'person': None},\n",
       "    {'company': None,\n",
       "     'financial_org': {'name': 'Frazier Technology Ventures',\n",
       "      'permalink': 'frazier-technology-ventures'},\n",
       "     'person': None}]}],\n",
       " 'investments': [],\n",
       " 'acquisition': {'price_amount': 30000000,\n",
       "  'price_currency_code': 'USD',\n",
       "  'term_code': 'cash_and_stock',\n",
       "  'source_url': 'http://allthingsd.com/20131216/viggle-tries-to-bulk-up-its-social-tv-business-by-buying-wetpaint/?mod=atdtweet',\n",
       "  'source_description': ' Viggle Tries to Bulk Up Its Social TV Business by Buying Wetpaint',\n",
       "  'acquired_year': 2013,\n",
       "  'acquired_month': 12,\n",
       "  'acquired_day': 16,\n",
       "  'acquiring_company': {'name': 'Viggle', 'permalink': 'viggle'}},\n",
       " 'acquisitions': [],\n",
       " 'offices': [{'description': '',\n",
       "   'address1': '710 - 2nd Avenue',\n",
       "   'address2': 'Suite 1100',\n",
       "   'zip_code': '98104',\n",
       "   'city': 'Seattle',\n",
       "   'state_code': 'WA',\n",
       "   'country_code': 'USA',\n",
       "   'latitude': 47.603122,\n",
       "   'longitude': -122.333253},\n",
       "  {'description': '',\n",
       "   'address1': '270 Lafayette Street',\n",
       "   'address2': 'Suite 505',\n",
       "   'zip_code': '10012',\n",
       "   'city': 'New York',\n",
       "   'state_code': 'NY',\n",
       "   'country_code': 'USA',\n",
       "   'latitude': 40.7237306,\n",
       "   'longitude': -73.9964312}],\n",
       " 'milestones': [{'id': 5869,\n",
       "   'description': \"Wetpaint named in Lead411's Hottest Seattle Companies list\",\n",
       "   'stoned_year': 2010,\n",
       "   'stoned_month': 6,\n",
       "   'stoned_day': 8,\n",
       "   'source_url': 'http://www.lead411.com/seattle-companies.html',\n",
       "   'source_text': None,\n",
       "   'source_description': 'LEAD411 LAUNCHES \"HOTTEST SEATTLE COMPANIES\" AWARDS',\n",
       "   'stoneable_type': 'Company',\n",
       "   'stoned_value': None,\n",
       "   'stoned_value_type': None,\n",
       "   'stoned_acquirer': None,\n",
       "   'stoneable': {'name': 'Wetpaint', 'permalink': 'wetpaint'}},\n",
       "  {'id': 8702,\n",
       "   'description': 'Site-Builder Wetpaint Makes One For Itself, Using the Demand Media Playbook',\n",
       "   'stoned_year': 2010,\n",
       "   'stoned_month': 9,\n",
       "   'stoned_day': 6,\n",
       "   'source_url': 'http://mediamemo.allthingsd.com/20100906/site-builder-wetpaint-makes-one-for-itself-using-the-demand-media-playbook/',\n",
       "   'source_text': None,\n",
       "   'source_description': 'All Things D',\n",
       "   'stoneable_type': 'Company',\n",
       "   'stoned_value': None,\n",
       "   'stoned_value_type': None,\n",
       "   'stoned_acquirer': None,\n",
       "   'stoneable': {'name': 'Wetpaint', 'permalink': 'wetpaint'}}],\n",
       " 'video_embeds': [],\n",
       " 'screenshots': [{'available_sizes': [[[150, 86],\n",
       "     'assets/images/resized/0016/0929/160929v2-max-150x150.png'],\n",
       "    [[250, 143], 'assets/images/resized/0016/0929/160929v2-max-250x250.png'],\n",
       "    [[450, 258], 'assets/images/resized/0016/0929/160929v2-max-450x450.png']],\n",
       "   'attribution': None}],\n",
       " 'external_links': [{'external_url': 'http://www.geekwire.com/2011/rewind-ben-elowitz-wetpaint-ceo-building-type-media-company',\n",
       "   'title': 'GeekWire interview: Rewind - Ben Elowitz, Wetpaint CEO, on building a new type of media company'},\n",
       "  {'external_url': 'http://techcrunch.com/2012/06/17/search-and-social-how-two-will-soon-become-one/',\n",
       "   'title': 'Guest post by CEO Ben Elowitz in TechCrunch'},\n",
       "  {'external_url': 'http://allthingsd.com/20120516/what-to-expect-when-facebook-is-expecting-five-predictions-for-facebooks-first-public-year/',\n",
       "   'title': 'Guest post by CEO Ben Elowitz in AllThingsD'},\n",
       "  {'external_url': 'http://adage.com/article/digitalnext/facebook-biggest-player-advertising-s-540-billion-world/235708/',\n",
       "   'title': 'Guest post by CEO Ben Elowitz in AdAge'},\n",
       "  {'external_url': 'http://www.businessinsider.com/facebook-captures-14-percent-of-our-online-attention-but-only-4-percent-of-ad-spending-online-2012-6',\n",
       "   'title': 'Guest post by CEO Ben Elowitz in Business Insider'},\n",
       "  {'external_url': 'http://allfacebook.com/wetpaint-media-data_b75963',\n",
       "   'title': 'AllFacebook coverage of Wetpaint'},\n",
       "  {'external_url': 'http://adage.com/article/digital/celeb-site-wetpaint-shows-media-profit-facebook/237828/',\n",
       "   'title': 'Profile of Wetpaint in Ad Age'},\n",
       "  {'external_url': 'http://allthingsd.com/20121018/how-to-boost-your-facebook-traffic-tips-and-tricks-from-wetpaint/',\n",
       "   'title': 'Interview with Wetpaint CEO Ben Elowitz in All Things D'},\n",
       "  {'external_url': 'http://www.xconomy.com/seattle/2012/10/19/wetpaint-starts-licensing-its-facebook-based-media-distribution-tech/',\n",
       "   'title': 'Profile of Wetpaint in Xconomy'}],\n",
       " 'partners': []}"
      ]
     },
     "execution_count": 22,
     "metadata": {},
     "output_type": "execute_result"
    }
   ],
   "source": [
    "#c.find_one()"
   ]
  },
  {
   "cell_type": "markdown",
   "metadata": {},
   "source": [
    "### 1. All the companies whose name match 'Babelgum'. Retrieve only their `name` field."
   ]
  },
  {
   "cell_type": "code",
   "execution_count": 25,
   "metadata": {},
   "outputs": [
    {
     "data": {
      "text/plain": [
       "[{'_id': ObjectId('52cdef7c4bab8bd675297da0'), 'name': 'Babelgum'}]"
      ]
     },
     "execution_count": 25,
     "metadata": {},
     "output_type": "execute_result"
    }
   ],
   "source": [
    "c_name = 'Babelgum'\n",
    "proy_1 = {'name':1}\n",
    "list_babelgum = list(c.find({'name':c_name}, proy_1))\n",
    "list_babelgum"
   ]
  },
  {
   "cell_type": "markdown",
   "metadata": {},
   "source": [
    "### 2. All the companies that have more than 5000 employees. Limit the search to 20 companies and sort them by **number of employees**."
   ]
  },
  {
   "cell_type": "code",
   "execution_count": 31,
   "metadata": {},
   "outputs": [
    {
     "data": {
      "text/plain": [
       "[{'_id': ObjectId('52cdef7d4bab8bd67529941a'), 'name': 'Siemens'},\n",
       " {'_id': ObjectId('52cdef7c4bab8bd67529856a'), 'name': 'IBM'},\n",
       " {'_id': ObjectId('52cdef7d4bab8bd675299d33'), 'name': 'Toyota'},\n",
       " {'_id': ObjectId('52cdef7c4bab8bd675297e89'), 'name': 'PayPal'},\n",
       " {'_id': ObjectId('52cdef7e4bab8bd67529b0fe'),\n",
       "  'name': 'Nippon Telegraph and Telephone Corporation'},\n",
       " {'_id': ObjectId('52cdef7d4bab8bd675298aa4'), 'name': 'Samsung Electronics'},\n",
       " {'_id': ObjectId('52cdef7d4bab8bd675298b99'), 'name': 'Accenture'},\n",
       " {'_id': ObjectId('52cdef7e4bab8bd67529a657'),\n",
       "  'name': 'Tata Consultancy Services'},\n",
       " {'_id': ObjectId('52cdef7e4bab8bd67529aa51'),\n",
       "  'name': 'Flextronics International'},\n",
       " {'_id': ObjectId('52cdef7d4bab8bd675299156'), 'name': 'Safeway'},\n",
       " {'_id': ObjectId('52cdef7c4bab8bd675297e6f'), 'name': 'Sony'},\n",
       " {'_id': ObjectId('52cdef7c4bab8bd675298517'), 'name': 'LG'},\n",
       " {'_id': ObjectId('52cdef7d4bab8bd675299d31'), 'name': 'Ford'},\n",
       " {'_id': ObjectId('52cdef7d4bab8bd675298b28'), 'name': 'Boeing'},\n",
       " {'_id': ObjectId('52cdef7e4bab8bd67529bb5c'),\n",
       "  'name': 'Digital Equipment Corporation'},\n",
       " {'_id': ObjectId('52cdef7c4bab8bd675297fc2'), 'name': 'Nokia'},\n",
       " {'_id': ObjectId('52cdef7d4bab8bd675299839'), 'name': 'MItsubishi Electric'},\n",
       " {'_id': ObjectId('52cdef7d4bab8bd675299bc3'), 'name': 'MItsubishi Electric'},\n",
       " {'_id': ObjectId('52cdef7c4bab8bd6752987ad'), 'name': 'Comcast'},\n",
       " {'_id': ObjectId('52cdef7d4bab8bd675298d67'), 'name': 'Bertelsmann'}]"
      ]
     },
     "execution_count": 31,
     "metadata": {},
     "output_type": "execute_result"
    }
   ],
   "source": [
    "c_gt5000 = list(c.find({'number_of_employees':{'$gt':5000}},proy_1).sort('number_of_employees', -1).limit(20))\n",
    "c_gt5000"
   ]
  },
  {
   "cell_type": "markdown",
   "metadata": {},
   "source": [
    "### 3. All the companies founded between 2000 and 2005, both years included. Retrieve only the `name` and `founded_year` fields."
   ]
  },
  {
   "cell_type": "code",
   "execution_count": 40,
   "metadata": {},
   "outputs": [
    {
     "data": {
      "text/plain": [
       "[{'name': 'Wetpaint', 'founded_year': 2005},\n",
       " {'name': 'Zoho', 'founded_year': 2005},\n",
       " {'name': 'Digg', 'founded_year': 2004},\n",
       " {'name': 'Facebook', 'founded_year': 2004},\n",
       " {'name': 'Omnidrive', 'founded_year': 2005}]"
      ]
     },
     "execution_count": 40,
     "metadata": {},
     "output_type": "execute_result"
    }
   ],
   "source": [
    "proy_2 = {'name':1, 'founded_year':1, '_id':0}\n",
    "more_2000 = {'founded_year': {'$gte':2000}}\n",
    "less_2005 = {'founded_year': {'$lte':2005}}\n",
    "q3 = list(c.find({'$and':[more_2000, less_2005]},proy_2))\n",
    "q3[0:5]"
   ]
  },
  {
   "cell_type": "markdown",
   "metadata": {},
   "source": [
    "### 4. All the companies that had a Valuation Amount of more than 100.000.000 and have been founded before 2010. Retrieve only the `name` and `ipo` fields."
   ]
  },
  {
   "cell_type": "code",
   "execution_count": 49,
   "metadata": {},
   "outputs": [
    {
     "data": {
      "text/plain": [
       "[{'name': 'Facebook',\n",
       "  'ipo': {'valuation_amount': 104000000000,\n",
       "   'valuation_currency_code': 'USD',\n",
       "   'pub_year': 2012,\n",
       "   'pub_month': 5,\n",
       "   'pub_day': 18,\n",
       "   'stock_symbol': 'NASDAQ:FB'}},\n",
       " {'name': 'Twitter',\n",
       "  'ipo': {'valuation_amount': 18100000000,\n",
       "   'valuation_currency_code': 'USD',\n",
       "   'pub_year': 2013,\n",
       "   'pub_month': 11,\n",
       "   'pub_day': 7,\n",
       "   'stock_symbol': 'NYSE:TWTR'}}]"
      ]
     },
     "execution_count": 49,
     "metadata": {},
     "output_type": "execute_result"
    }
   ],
   "source": [
    "va_gt100m = {'ipo.valuation_amount': {'$gt':100000000}} \n",
    "foun_2010 = {'founded_year': {'$lt': 2010}}\n",
    "proy_3 = {'name':1, 'ipo':1, '_id':0}\n",
    "q4 = list(c.find({'$and':[va_gt100m, foun_2010]},proy_3))\n",
    "q4[0:2]"
   ]
  },
  {
   "cell_type": "markdown",
   "metadata": {},
   "source": [
    "### 5. All the companies that have less than 1000 employees and have been founded before 2005. Order them by the number of employees and limit the search to 10 companies."
   ]
  },
  {
   "cell_type": "code",
   "execution_count": 52,
   "metadata": {},
   "outputs": [],
   "source": [
    "emp_lt1000 = {'number_of_employees':{'$lt':1000}}\n",
    "less_2005 ={'founded_year' : {'$lt':2005}}\n",
    "q5 = list(c.find({'$and':[emp_lt1000,less_2005]}).sort('number_of_employees',-1).limit(10))\n",
    "#q5[0:5]"
   ]
  },
  {
   "cell_type": "markdown",
   "metadata": {},
   "source": [
    "### 6. All the companies that don't include the `partners` field."
   ]
  },
  {
   "cell_type": "code",
   "execution_count": 55,
   "metadata": {},
   "outputs": [
    {
     "data": {
      "text/plain": [
       "[]"
      ]
     },
     "execution_count": 55,
     "metadata": {},
     "output_type": "execute_result"
    }
   ],
   "source": [
    "no_par = {'partners':{'$exists': False}}\n",
    "q6 = list(c.find(no_par))\n",
    "q6"
   ]
  },
  {
   "cell_type": "markdown",
   "metadata": {},
   "source": [
    "### 7. All the companies that have a null type of value on the `category_code` field."
   ]
  },
  {
   "cell_type": "code",
   "execution_count": 58,
   "metadata": {},
   "outputs": [],
   "source": [
    "q7 = list(c.find({'category_code' : {'$type': \"null\"}}))\n",
    "#q7"
   ]
  },
  {
   "cell_type": "markdown",
   "metadata": {},
   "source": [
    "### 8. All the companies that have at least 100 employees but less than 1000. Retrieve only the `name` and `number of employees` fields."
   ]
  },
  {
   "cell_type": "code",
   "execution_count": 61,
   "metadata": {},
   "outputs": [
    {
     "name": "stdout",
     "output_type": "stream",
     "text": [
      "917\n"
     ]
    },
    {
     "data": {
      "text/plain": [
       "[{'name': 'AdventNet', 'number_of_employees': 600},\n",
       " {'name': 'AddThis', 'number_of_employees': 120},\n",
       " {'name': 'OpenX', 'number_of_employees': 305},\n",
       " {'name': 'LifeLock', 'number_of_employees': 644},\n",
       " {'name': 'Jajah', 'number_of_employees': 110}]"
      ]
     },
     "execution_count": 61,
     "metadata": {},
     "output_type": "execute_result"
    }
   ],
   "source": [
    "proy_8 = {'name':1,'_id':0,'number_of_employees':1}\n",
    "emp_lt1000 = {'number_of_employees':{'$lt':1000}}\n",
    "emp_gt100 = {'number_of_employees':{'$gte':100}}\n",
    "q8 = list(c.find({'$and':[emp_lt1000,emp_gt100]},proy_8))\n",
    "print(len(q8))\n",
    "q8[0:5]"
   ]
  },
  {
   "cell_type": "markdown",
   "metadata": {},
   "source": [
    "### 9. Order all the companies by their IPO price in a descending order."
   ]
  },
  {
   "cell_type": "code",
   "execution_count": 63,
   "metadata": {},
   "outputs": [],
   "source": [
    "q9 = list(c.find().sort('ipo.valuation_amount',-1))\n",
    "#q9[0:5]"
   ]
  },
  {
   "cell_type": "markdown",
   "metadata": {},
   "source": [
    "### 10. Retrieve the 10 companies with more employees, order by the `number of employees`"
   ]
  },
  {
   "cell_type": "code",
   "execution_count": 70,
   "metadata": {},
   "outputs": [
    {
     "data": {
      "text/plain": [
       "[{'_id': ObjectId('52cdef7d4bab8bd67529941a'), 'name': 'Siemens'},\n",
       " {'_id': ObjectId('52cdef7c4bab8bd67529856a'), 'name': 'IBM'},\n",
       " {'_id': ObjectId('52cdef7d4bab8bd675299d33'), 'name': 'Toyota'},\n",
       " {'_id': ObjectId('52cdef7c4bab8bd675297e89'), 'name': 'PayPal'},\n",
       " {'_id': ObjectId('52cdef7e4bab8bd67529b0fe'),\n",
       "  'name': 'Nippon Telegraph and Telephone Corporation'},\n",
       " {'_id': ObjectId('52cdef7d4bab8bd675298aa4'), 'name': 'Samsung Electronics'},\n",
       " {'_id': ObjectId('52cdef7d4bab8bd675298b99'), 'name': 'Accenture'},\n",
       " {'_id': ObjectId('52cdef7e4bab8bd67529a657'),\n",
       "  'name': 'Tata Consultancy Services'},\n",
       " {'_id': ObjectId('52cdef7e4bab8bd67529aa51'),\n",
       "  'name': 'Flextronics International'},\n",
       " {'_id': ObjectId('52cdef7d4bab8bd675299156'), 'name': 'Safeway'}]"
      ]
     },
     "execution_count": 70,
     "metadata": {},
     "output_type": "execute_result"
    }
   ],
   "source": [
    "q10 = list(c.find({},proy_1).sort('number_of_employees',-1).limit(10))\n",
    "q10"
   ]
  },
  {
   "cell_type": "markdown",
   "metadata": {},
   "source": [
    "### 11. All the companies founded on the second semester of the year. Limit your search to 1000 companies."
   ]
  },
  {
   "cell_type": "code",
   "execution_count": 73,
   "metadata": {},
   "outputs": [],
   "source": [
    "fo_2sem = {'founded_month':{'$gte':6}}\n",
    "q11 = list(c.find(fo_2sem).limit(1000))\n",
    "#q11"
   ]
  },
  {
   "cell_type": "markdown",
   "metadata": {},
   "source": [
    "### 12. All the companies founded before 2000 that have an acquisition amount of more than 10.000.00"
   ]
  },
  {
   "cell_type": "code",
   "execution_count": 76,
   "metadata": {},
   "outputs": [],
   "source": [
    "fo_lt2000 = {'founded_year':{'$lt':2000}}\n",
    "aa_gt10 = {'acquisitions.price_amount':{'$gt':10000000}}\n",
    "q12 = list(c.find({\"$and\":[fo_lt2000, aa_gt10]}))\n",
    "#q12"
   ]
  },
  {
   "cell_type": "markdown",
   "metadata": {},
   "source": [
    "### 13. All the companies that have been acquired after 2010, order by the acquisition amount, and retrieve only their `name` and `acquisition` field."
   ]
  },
  {
   "cell_type": "code",
   "execution_count": 80,
   "metadata": {},
   "outputs": [
    {
     "data": {
      "text/plain": [
       "[{'name': 'Facebook', 'acquisition': None},\n",
       " {'name': 'Twitter', 'acquisition': None},\n",
       " {'name': 'eBay', 'acquisition': None},\n",
       " {'name': 'CBS', 'acquisition': None},\n",
       " {'name': 'Cisco', 'acquisition': None}]"
      ]
     },
     "execution_count": 80,
     "metadata": {},
     "output_type": "execute_result"
    }
   ],
   "source": [
    "proy_13 = {'_id':0, 'acquisition':1, 'name':1}\n",
    "after_2010 =  {'acquisitions.acquired_year': {'$gt':2010}}\n",
    "q13 = list(c.find(after_2010,proy_13).sort('acquisition',1))\n",
    "q13[0:5]"
   ]
  },
  {
   "cell_type": "markdown",
   "metadata": {},
   "source": [
    "### 14. Order the companies by their `founded year`, retrieving only their `name` and `founded year`."
   ]
  },
  {
   "cell_type": "code",
   "execution_count": 81,
   "metadata": {},
   "outputs": [
    {
     "data": {
      "text/plain": [
       "[{'name': 'Fixya', 'founded_year': 2013},\n",
       " {'name': 'Wamba', 'founded_year': 2013},\n",
       " {'name': 'Advaliant', 'founded_year': 2013},\n",
       " {'name': 'Fluc', 'founded_year': 2013},\n",
       " {'name': 'iBazar', 'founded_year': 2013},\n",
       " {'name': 'Gimigo', 'founded_year': 2013},\n",
       " {'name': 'SEOGroup', 'founded_year': 2013},\n",
       " {'name': 'Clowdy', 'founded_year': 2013},\n",
       " {'name': 'WhosCall', 'founded_year': 2013},\n",
       " {'name': 'Pikk', 'founded_year': 2013}]"
      ]
     },
     "execution_count": 81,
     "metadata": {},
     "output_type": "execute_result"
    }
   ],
   "source": [
    "proy_14 = {'_id':0,'name':1, 'founded_year':1}\n",
    "q14 = list(c.find({}, proy_14).sort('founded_year',-1))\n",
    "q14[0:10]"
   ]
  },
  {
   "cell_type": "markdown",
   "metadata": {},
   "source": [
    "### 15. All the companies that have been founded on the first seven days of the month, including the seventh. Sort them by their `acquisition price` in a descending order. Limit the search to 10 documents."
   ]
  },
  {
   "cell_type": "code",
   "execution_count": 99,
   "metadata": {},
   "outputs": [],
   "source": [
    "f_d = {'founded_day':{'$lte':7}}\n",
    "q15 = list(c.find(f_d).sort('acquisitions.price_amount',-1).limit(10))\n",
    "#q15"
   ]
  },
  {
   "cell_type": "markdown",
   "metadata": {},
   "source": [
    "### 16. All the companies on the 'web' `category` that have more than 4000 employees. Sort them by the amount of employees in ascending order."
   ]
  },
  {
   "cell_type": "code",
   "execution_count": 102,
   "metadata": {},
   "outputs": [],
   "source": [
    "catweb ={'category_code': 'web'}\n",
    "em_gt4000 = {'number_of_employees':{\"$gt\":4000}}\n",
    "q16 = list(c.find({'$and':[catweb,em_gt4000]}).sort('number_of_employees',1))\n",
    "#q16[0:5]"
   ]
  },
  {
   "cell_type": "markdown",
   "metadata": {},
   "source": [
    "### 17. All the companies whose acquisition amount is more than 10.000.000, and currency is 'EUR'."
   ]
  },
  {
   "cell_type": "code",
   "execution_count": 107,
   "metadata": {},
   "outputs": [],
   "source": [
    "ac_pr = {'acquisition.price_amount':{'$gt':10000000}}\n",
    "ac_cu = {'acquisition.price_currency_code':'EUR'}\n",
    "q17 = list(c.find({'$and' : [ac_pr,ac_cu]}))\n",
    "#q17[0:5]"
   ]
  },
  {
   "cell_type": "markdown",
   "metadata": {},
   "source": [
    "### 18. All the companies that have been acquired on the first trimester of the year. Limit the search to 10 companies, and retrieve only their `name` and `acquisition` fields."
   ]
  },
  {
   "cell_type": "code",
   "execution_count": 111,
   "metadata": {},
   "outputs": [],
   "source": [
    "proy_18 = {'_id':0, 'name':1, 'acquisition':1}\n",
    "pr_tr = {'founded_month':{'$lte':3}}\n",
    "q18 = list(c.find(pr_tr,proy_18).limit(10))\n",
    "#q18[0:5]"
   ]
  },
  {
   "cell_type": "markdown",
   "metadata": {},
   "source": [
    "# Bonus\n",
    "### 19. All the companies that have been founded between 2000 and 2010, but have not been acquired before 2011."
   ]
  },
  {
   "cell_type": "code",
   "execution_count": 114,
   "metadata": {},
   "outputs": [],
   "source": [
    "fo_lt2010 = {'founded_year':{'$lte':2010}}\n",
    "fo_gt2000 = {'founded_year':{\"$gte\":2000}}\n",
    "ac_gt2011 = {'acquisitions.acquired_year':{'$gte':2011}}\n",
    "q19 = list(c.find({\"$and\":[fo_lt2010,fo_gt2000,ac_gt2011]}))\n",
    "#q19"
   ]
  },
  {
   "cell_type": "markdown",
   "metadata": {},
   "source": [
    "### 20. All the companies that have been 'deadpooled' after the third year."
   ]
  },
  {
   "cell_type": "code",
   "execution_count": 140,
   "metadata": {},
   "outputs": [
    {
     "ename": "SyntaxError",
     "evalue": "unexpected EOF while parsing (386212899.py, line 13)",
     "output_type": "error",
     "traceback": [
      "\u001b[0;36m  File \u001b[0;32m\"/tmp/ipykernel_2265/386212899.py\"\u001b[0;36m, line \u001b[0;32m13\u001b[0m\n\u001b[0;31m    \u001b[0m\n\u001b[0m    ^\u001b[0m\n\u001b[0;31mSyntaxError\u001b[0m\u001b[0;31m:\u001b[0m unexpected EOF while parsing\n"
     ]
    }
   ],
   "source": [
    "cond = {'result': {'$gt':3}}\n",
    "#chorizo = list(c.find({'result':{'$subtract':[\"$deadpooled\", \"$founded_year\"]}},cond))\n",
    "#chorizo = list(c.find({'$subtract':[\"$deadpooled\", \"$founded_year\"]},cond))\n",
    "#chorizo = list(c.find({'$subtract':[\"$deadpooled\", \"$founded_year\"]}))\n",
    "#chorizo = list(c.find({'result':{'$subtract':[\"deadpooled\", \"founded_year\"]}},cond))\n",
    "#chorizo = list(c.find({'$subtract':[\"$deadpooled\", \"$founded_year\"]},cond))\n",
    "#chorizo = list(c.aggregate([{'$subtract':[\"$deadpooled\", \"$founded_year\"]}]))\n",
    "\n",
    "chorizo = list(c.aggregate({'$group':{'_id':{'result':{'$subtract':[\"$deadpooled\", \"$founded_year\"]}}}},cond)\n",
    "\n",
    "\n",
    "\n",
    "\n"
   ]
  },
  {
   "cell_type": "code",
   "execution_count": 120,
   "metadata": {},
   "outputs": [
    {
     "data": {
      "text/plain": [
       "[{'_id': ObjectId('52cdef7c4bab8bd675297d8f'),\n",
       "  'name': 'Omnidrive',\n",
       "  'permalink': 'omnidrive',\n",
       "  'crunchbase_url': 'http://www.crunchbase.com/company/omnidrive',\n",
       "  'homepage_url': 'http://www.omnidrive.com',\n",
       "  'blog_url': 'http://www.omnidrive.com/blog',\n",
       "  'blog_feed_url': 'http://feeds.feedburner.com/omnidrive',\n",
       "  'twitter_username': 'Nomadesk',\n",
       "  'category_code': 'network_hosting',\n",
       "  'number_of_employees': None,\n",
       "  'founded_year': 2005,\n",
       "  'founded_month': 11,\n",
       "  'founded_day': 1,\n",
       "  'deadpooled_year': 2008,\n",
       "  'deadpooled_month': 9,\n",
       "  'deadpooled_day': 15,\n",
       "  'deadpooled_url': '',\n",
       "  'tag_list': 'storage, sharing, edit, online',\n",
       "  'alias_list': None,\n",
       "  'email_address': 'info@omnidrive.com',\n",
       "  'phone_number': '660-675-5052',\n",
       "  'description': None,\n",
       "  'created_at': 'Sun May 27 03:25:32 UTC 2007',\n",
       "  'updated_at': 'Tue Jul 02 22:48:04 UTC 2013',\n",
       "  'overview': '<p>Currently in public beta, Omnidrive makes it easy to access, edit and share your files from any computer with a web browser. The site was founded in late 2004 by Nik Cubrilovic and later launched at the November 2006 Web 2.0 Conference.  An interesting slew of features make Omnidrive an attractive choice in the online file storage field.</p>\\n\\n<p>Omnidrive&#8217;s competitors include <a href=\"http://www.crunchbase.com/company/box-net\" title=\"Box.net\">Box.net</a>, <a href=\"http://www.streamload.com\" title=\"Streamload\" rel=\"nofollow\">Streamload</a> and <a href=\"http://www.xdrive.com\" title=\"Xdrive\" rel=\"nofollow\">Xdrive</a>.</p>',\n",
       "  'image': {'available_sizes': [[[150, 85],\n",
       "     'assets/images/resized/0000/0823/823v1-max-150x150.jpg'],\n",
       "    [[150, 85], 'assets/images/resized/0000/0823/823v1-max-250x250.jpg'],\n",
       "    [[150, 85], 'assets/images/resized/0000/0823/823v1-max-450x450.jpg']],\n",
       "   'attribution': None},\n",
       "  'products': [{'name': 'Omnidrive', 'permalink': 'omnidrive'}],\n",
       "  'relationships': [{'is_past': True,\n",
       "    'title': 'Co-founder',\n",
       "    'person': {'first_name': 'Geoff',\n",
       "     'last_name': 'McQueen',\n",
       "     'permalink': 'geoff-mcqueen'}},\n",
       "   {'is_past': True,\n",
       "    'title': 'Founder & CEO',\n",
       "    'person': {'first_name': 'Nik',\n",
       "     'last_name': 'Cubrilovic',\n",
       "     'permalink': 'nik-cubrilovic'}},\n",
       "   {'is_past': True,\n",
       "    'title': '',\n",
       "    'person': {'first_name': 'Tony',\n",
       "     'last_name': 'Guntharp',\n",
       "     'permalink': 'tony-guntharp'}},\n",
       "   {'is_past': True,\n",
       "    'title': 'Board of Advisors',\n",
       "    'person': {'first_name': 'Mike',\n",
       "     'last_name': 'Cannon-Brookes',\n",
       "     'permalink': 'mike-cannon-brookes'}}],\n",
       "  'competitions': [{'competitor': {'name': 'Dropbox', 'permalink': 'dropbox'}},\n",
       "   {'competitor': {'name': 'filobite', 'permalink': 'filobite'}},\n",
       "   {'competitor': {'name': 'digitalbucket.net', 'permalink': 'digitalbucket'}},\n",
       "   {'competitor': {'name': 'ElephantDrive', 'permalink': 'elephantdrive'}},\n",
       "   {'competitor': {'name': 'Banckle Customer Service 2.0',\n",
       "     'permalink': 'banckle'}}],\n",
       "  'providerships': [],\n",
       "  'total_money_raised': '$800k',\n",
       "  'funding_rounds': [{'id': 225,\n",
       "    'round_code': 'angel',\n",
       "    'source_url': '',\n",
       "    'source_description': '',\n",
       "    'raised_amount': 800000,\n",
       "    'raised_currency_code': 'USD',\n",
       "    'funded_year': 2006,\n",
       "    'funded_month': 12,\n",
       "    'funded_day': 1,\n",
       "    'investments': [{'company': None,\n",
       "      'financial_org': None,\n",
       "      'person': {'first_name': 'Michael',\n",
       "       'last_name': 'Arrington',\n",
       "       'permalink': 'michael-arrington'}},\n",
       "     {'company': None,\n",
       "      'financial_org': None,\n",
       "      'person': {'first_name': 'Aydin',\n",
       "       'last_name': 'Senkut',\n",
       "       'permalink': 'aydin-senkut'}},\n",
       "     {'company': None,\n",
       "      'financial_org': None,\n",
       "      'person': {'first_name': 'Georges',\n",
       "       'last_name': 'Harik',\n",
       "       'permalink': 'georges-harik'}},\n",
       "     {'company': None,\n",
       "      'financial_org': None,\n",
       "      'person': {'first_name': 'Jeff',\n",
       "       'last_name': 'Clavier',\n",
       "       'permalink': 'jeff-clavier'}}]}],\n",
       "  'investments': [],\n",
       "  'acquisition': None,\n",
       "  'acquisitions': [],\n",
       "  'offices': [{'description': '',\n",
       "    'address1': 'Suite 200',\n",
       "    'address2': '654 High Street',\n",
       "    'zip_code': '94301',\n",
       "    'city': 'Palo Alto',\n",
       "    'state_code': 'CA',\n",
       "    'country_code': 'ISR',\n",
       "    'latitude': None,\n",
       "    'longitude': None}],\n",
       "  'milestones': [],\n",
       "  'ipo': None,\n",
       "  'video_embeds': [],\n",
       "  'screenshots': [],\n",
       "  'external_links': [],\n",
       "  'partners': []}]"
      ]
     },
     "execution_count": 120,
     "metadata": {},
     "output_type": "execute_result"
    }
   ],
   "source": [
    "list(c.find({'name': 'Omnidrive'}))"
   ]
  }
 ],
 "metadata": {
  "kernelspec": {
   "display_name": "Python 3 (ipykernel)",
   "language": "python",
   "name": "python3"
  },
  "language_info": {
   "codemirror_mode": {
    "name": "ipython",
    "version": 3
   },
   "file_extension": ".py",
   "mimetype": "text/x-python",
   "name": "python",
   "nbconvert_exporter": "python",
   "pygments_lexer": "ipython3",
   "version": "3.9.7"
  }
 },
 "nbformat": 4,
 "nbformat_minor": 2
}
