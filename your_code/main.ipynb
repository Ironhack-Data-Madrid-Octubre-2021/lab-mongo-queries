{
 "cells": [
  {
   "cell_type": "markdown",
   "metadata": {},
   "source": [
    "# Advanced Querying Mongo"
   ]
  },
  {
   "cell_type": "markdown",
   "metadata": {},
   "source": [
    "Importing libraries and setting up connection"
   ]
  },
  {
   "cell_type": "code",
   "execution_count": 1,
   "metadata": {},
   "outputs": [
    {
     "name": "stdout",
     "output_type": "stream",
     "text": [
      "Requirement already satisfied: pymongo in /home/guillermo/.local/lib/python3.8/site-packages (3.12.1)\n",
      "Note: you may need to restart the kernel to use updated packages.\n"
     ]
    }
   ],
   "source": [
    "pip install pymongo"
   ]
  },
  {
   "cell_type": "code",
   "execution_count": 2,
   "metadata": {},
   "outputs": [],
   "source": [
    "from pymongo import MongoClient\n",
    "client = MongoClient()"
   ]
  },
  {
   "cell_type": "code",
   "execution_count": 3,
   "metadata": {},
   "outputs": [],
   "source": [
    "client = MongoClient(\"localhost:27017\")"
   ]
  },
  {
   "cell_type": "code",
   "execution_count": 4,
   "metadata": {},
   "outputs": [
    {
     "data": {
      "text/plain": [
       "MongoClient(host=['localhost:27017'], document_class=dict, tz_aware=False, connect=True)"
      ]
     },
     "execution_count": 4,
     "metadata": {},
     "output_type": "execute_result"
    }
   ],
   "source": [
    "client"
   ]
  },
  {
   "cell_type": "code",
   "execution_count": 5,
   "metadata": {},
   "outputs": [
    {
     "data": {
      "text/plain": [
       "['admin', 'config', 'ironhack', 'local']"
      ]
     },
     "execution_count": 5,
     "metadata": {},
     "output_type": "execute_result"
    }
   ],
   "source": [
    "client.list_database_names()"
   ]
  },
  {
   "cell_type": "code",
   "execution_count": 6,
   "metadata": {},
   "outputs": [
    {
     "data": {
      "text/plain": [
       "Database(MongoClient(host=['localhost:27017'], document_class=dict, tz_aware=False, connect=True), 'ironhack')"
      ]
     },
     "execution_count": 6,
     "metadata": {},
     "output_type": "execute_result"
    }
   ],
   "source": [
    "db = client.get_database(\"ironhack\")\n",
    "db"
   ]
  },
  {
   "cell_type": "markdown",
   "metadata": {},
   "source": [
    "### 1. All the companies whose name match 'Babelgum'. Retrieve only their `name` field."
   ]
  },
  {
   "cell_type": "code",
   "execution_count": 7,
   "metadata": {},
   "outputs": [
    {
     "data": {
      "text/plain": [
       "Collection(Database(MongoClient(host=['localhost:27017'], document_class=dict, tz_aware=False, connect=True), 'ironhack'), 'companies')"
      ]
     },
     "execution_count": 7,
     "metadata": {},
     "output_type": "execute_result"
    }
   ],
   "source": [
    "com = db.get_collection(\"companies\")\n",
    "com"
   ]
  },
  {
   "cell_type": "code",
   "execution_count": 8,
   "metadata": {},
   "outputs": [
    {
     "data": {
      "text/plain": [
       "dict"
      ]
     },
     "execution_count": 8,
     "metadata": {},
     "output_type": "execute_result"
    }
   ],
   "source": [
    "type(com.find_one())"
   ]
  },
  {
   "cell_type": "code",
   "execution_count": 9,
   "metadata": {},
   "outputs": [
    {
     "data": {
      "text/plain": [
       "dict_keys(['_id', 'name', 'permalink', 'crunchbase_url', 'homepage_url', 'blog_url', 'blog_feed_url', 'twitter_username', 'category_code', 'number_of_employees', 'founded_year', 'founded_month', 'founded_day', 'deadpooled_year', 'tag_list', 'alias_list', 'email_address', 'phone_number', 'description', 'created_at', 'updated_at', 'overview', 'image', 'products', 'relationships', 'competitions', 'providerships', 'total_money_raised', 'funding_rounds', 'investments', 'acquisition', 'acquisitions', 'offices', 'milestones', 'video_embeds', 'screenshots', 'external_links', 'partners'])"
      ]
     },
     "execution_count": 9,
     "metadata": {},
     "output_type": "execute_result"
    }
   ],
   "source": [
    "com.find_one().keys()"
   ]
  },
  {
   "cell_type": "code",
   "execution_count": 10,
   "metadata": {},
   "outputs": [
    {
     "name": "stdout",
     "output_type": "stream",
     "text": [
      "{'_id': ObjectId('52cdef7c4bab8bd675297da0'), 'name': 'Babelgum', 'permalink': 'babelgum', 'crunchbase_url': 'http://www.crunchbase.com/company/babelgum', 'homepage_url': 'http://babelgum.com', 'blog_url': 'http://babelgum.com/blog', 'blog_feed_url': 'http://feeds.feedburner.com/Babelgum', 'twitter_username': 'Babelgum', 'category_code': 'games_video', 'number_of_employees': None, 'founded_year': 2007, 'founded_month': 3, 'founded_day': 1, 'deadpooled_year': 2013, 'deadpooled_month': 1, 'deadpooled_day': 9, 'deadpooled_url': '', 'tag_list': 'iptv, web2ireland', 'alias_list': '', 'email_address': 'info@babelgum.com', 'phone_number': '', 'description': '', 'created_at': 'Sat Jun 09 08:15:21 UTC 2007', 'updated_at': 'Wed Oct 16 06:30:25 UTC 2013', 'overview': '<p>Babelgum is an integrated web and mobile video content platform, free for users and supported by advertising, available on-demand to a global audience.</p>\\n\\n<p>On March 20th 2009 Babelgum released a U.S. version of its mobile video application for iPhone and iPod Touch (previously available in Italy and the UK) and simultaneously launched a redesigned website (www.babelgum.com) with a Flash-based player, offering one of the first fully integrated video mobile and web user experiences.</p>\\n\\n<p>Babelgum Mobile is currently available in the United States, UK, Italy, Germany, France and Spain and over 50 other countries across the globe on iPhone 3G, iPod Touch, Google Android G-Phones 1 and 2, Nokia (N96, N95 and 6210) via 3G and WiFi.</p>\\n\\n<p>Babelgum is an independent and privately held company with offices in the United States, UK, Ireland, France and Italy.</p>\\n\\n<p>TRAFFIC FIGURES</p>\\n\\n<p>In July 2009 Babelgum recorded on its website over 2 million monthly unique users worldwide â€“ 1.7 million in the US alone (Source: comScore). Over 2 million people have downloaded the Babelgum mobile applications and watched videos on them.</p>\\n\\n<p>DEVELOPMENT STRATEGY</p>\\n\\n<p>In Europe, Babelgum made a strategic agreement with Vodafone to launch a mobile service that allows users to watch videos for free also over 3G networks (Vodafone supports marketing campaigns through SMS and other PR activities targeting their Customer Base). Babelgum is also seeking selected strategic partnerships in the United States.</p>\\n\\n<p>BABELGUMâ€™S EDITORIAL APPROACH TO CONTENT</p>\\n\\n<p>Positioned between user generated video hubs and network TV-oriented destinations, Babelgum has a unique editorial approach which focuses on the third part of the ecosystem: innovative, professionally produced content on very specific passions curated by experts in their fields. </p>\\n\\n<p>The editorial team is driven by professional publishers who scout and select programming for the following channels: Music, Comedy, Film, Our Earth (dedicated to nature and the environment) and Metropolis (all about urban culture and trends). </p>\\n\\n<p>The mobile and web platforms are integrated functionally and graphically and complement each other, although mobile programming is more carefully tailored to local markets, based on research into national tastes and viewing habits. </p>\\n\\n<p>Babelgumâ€™s content comprises independent and mainstream programming as well as exclusive original productions.</p>\\n\\n<p>LIST OF MAIN CONTENT PROVIDERS:</p>\\n\\n<p>Babelgumâ€™s content partners include, among others, EMI, Sony BMG, the New York Times, PBS, BBC, VBS, Lonely Planet, Coolhunting, National Geographic, Funny or Die, T5M, Shine Limited, Cinetic Rights Management, Content Republic, Gong Anime, The Workbook Project, Cinelan, Power to the Pixel and Off the Fence as well as the Seattle, Encounters, Los Angeles, and Hamptons film festivals.</p>\\n\\n<p>ONLINE VIDEO COMPETITIONS:</p>\\n\\n<p>The company has also set up a series of online contests to nurture independent film, music and art talent: the Babelgum Online Film Festival, the Babelgum Music Video Awards and the Babelgum Metropolis Art Prize chaired respectively by Spike Lee, Michel Gondry and Isabella Rossellini.</p>', 'image': {'available_sizes': [[[135, 102], 'assets/images/resized/0006/7738/67738v2-max-150x150.png'], [[135, 102], 'assets/images/resized/0006/7738/67738v2-max-250x250.png'], [[135, 102], 'assets/images/resized/0006/7738/67738v2-max-450x450.png']], 'attribution': None}, 'products': [{'name': 'Babelgum', 'permalink': 'babelgum'}], 'relationships': [{'is_past': False, 'title': 'CEO', 'person': {'first_name': 'Valerio', 'last_name': 'Zingarelli', 'permalink': 'valerio-zingarelli'}}, {'is_past': True, 'title': 'CTO', 'person': {'first_name': 'Mallku', 'last_name': 'Caballero', 'permalink': 'mallku-caballero'}}, {'is_past': True, 'title': '', 'person': {'first_name': 'Michael', 'last_name': \"O'Callaghan\", 'permalink': 'michael-o-callaghan'}}, {'is_past': True, 'title': '', 'person': {'first_name': 'Erik', 'last_name': 'Lumer', 'permalink': 'erik-lumer'}}, {'is_past': True, 'title': 'Engineering Director', 'person': {'first_name': 'Mark', 'last_name': 'Kearns', 'permalink': 'mark-kearns'}}], 'competitions': [{'competitor': {'name': 'Joost', 'permalink': 'joost'}}, {'competitor': {'name': 'Zattoo', 'permalink': 'zattoo'}}, {'competitor': {'name': 'Veoh', 'permalink': 'veoh'}}, {'competitor': {'name': 'Vudu', 'permalink': 'vudu'}}, {'competitor': {'name': 'Inuk Networks', 'permalink': 'inuk-networks'}}, {'competitor': {'name': 'Participatory Culture Foundation', 'permalink': 'participatory-culture-foundation'}}, {'competitor': {'name': 'Next New Networks', 'permalink': 'next-new-networks'}}], 'providerships': [], 'total_money_raised': '$13.2M', 'funding_rounds': [{'id': 17, 'round_code': 'a', 'source_url': 'http://www.redherring.com/Article.aspx?a=21800&hed=Battle+of+the+Billionaires&sector=Regions&subsector=Europe', 'source_description': '', 'raised_amount': 13200000, 'raised_currency_code': 'USD', 'funded_year': 2005, 'funded_month': 6, 'funded_day': 1, 'investments': [{'company': None, 'financial_org': None, 'person': {'first_name': 'Silvio', 'last_name': 'Scaglia', 'permalink': 'silvio-scaglia'}}]}], 'investments': [], 'acquisition': None, 'acquisitions': [], 'offices': [{'description': '', 'address1': '', 'address2': '', 'zip_code': '', 'city': 'London', 'state_code': None, 'country_code': 'GBR', 'latitude': 53.344104, 'longitude': -6.267494}], 'milestones': [], 'ipo': None, 'video_embeds': [], 'screenshots': [], 'external_links': [], 'partners': []}\n"
     ]
    }
   ],
   "source": [
    "for nam in com.find({'name': 'Babelgum'}):\n",
    "    print(nam)"
   ]
  },
  {
   "cell_type": "code",
   "execution_count": 11,
   "metadata": {},
   "outputs": [
    {
     "data": {
      "text/plain": [
       "1"
      ]
     },
     "execution_count": 11,
     "metadata": {},
     "output_type": "execute_result"
    }
   ],
   "source": [
    "com.count_documents({'name': 'Babelgum'})"
   ]
  },
  {
   "cell_type": "markdown",
   "metadata": {},
   "source": [
    "### 2. All the companies that have more than 5000 employees. Limit the search to 20 companies and sort them by **number of employees**."
   ]
  },
  {
   "cell_type": "code",
   "execution_count": 12,
   "metadata": {},
   "outputs": [
    {
     "data": {
      "text/plain": [
       "[{'_id': ObjectId('52cdef7c4bab8bd675297d8e'), 'number_of_employees': 5299},\n",
       " {'_id': ObjectId('52cdef7c4bab8bd675297d9b'), 'number_of_employees': 15000},\n",
       " {'_id': ObjectId('52cdef7c4bab8bd675297da2'), 'number_of_employees': 63000},\n",
       " {'_id': ObjectId('52cdef7c4bab8bd675297da3'), 'number_of_employees': 13600},\n",
       " {'_id': ObjectId('52cdef7c4bab8bd675297dba'), 'number_of_employees': 28000},\n",
       " {'_id': ObjectId('52cdef7c4bab8bd675297dc4'), 'number_of_employees': 86300},\n",
       " {'_id': ObjectId('52cdef7c4bab8bd675297e49'), 'number_of_employees': 5080},\n",
       " {'_id': ObjectId('52cdef7c4bab8bd675297e5d'), 'number_of_employees': 7173},\n",
       " {'_id': ObjectId('52cdef7c4bab8bd675297e6f'), 'number_of_employees': 180500},\n",
       " {'_id': ObjectId('52cdef7c4bab8bd675297e89'), 'number_of_employees': 300000},\n",
       " {'_id': ObjectId('52cdef7c4bab8bd675297e8e'), 'number_of_employees': 25000},\n",
       " {'_id': ObjectId('52cdef7c4bab8bd675297e96'), 'number_of_employees': 8000},\n",
       " {'_id': ObjectId('52cdef7c4bab8bd675297ea4'), 'number_of_employees': 8657},\n",
       " {'_id': ObjectId('52cdef7c4bab8bd675297ee9'), 'number_of_employees': 33350},\n",
       " {'_id': ObjectId('52cdef7c4bab8bd675297fc2'), 'number_of_employees': 125000},\n",
       " {'_id': ObjectId('52cdef7c4bab8bd675297fcb'), 'number_of_employees': 10000},\n",
       " {'_id': ObjectId('52cdef7c4bab8bd67529809d'), 'number_of_employees': 90000},\n",
       " {'_id': ObjectId('52cdef7c4bab8bd675298189'), 'number_of_employees': 80000},\n",
       " {'_id': ObjectId('52cdef7c4bab8bd6752981b5'), 'number_of_employees': 8000},\n",
       " {'_id': ObjectId('52cdef7c4bab8bd67529821b'), 'number_of_employees': 51000}]"
      ]
     },
     "execution_count": 12,
     "metadata": {},
     "output_type": "execute_result"
    }
   ],
   "source": [
    "proy = {\"number_of_employees\":1}\n",
    "fl = list(com.find({\"number_of_employees\": {\"$gte\": 5000}},proy).limit(20))\n",
    "fl"
   ]
  },
  {
   "cell_type": "markdown",
   "metadata": {},
   "source": [
    "### 3. All the companies founded between 2000 and 2005, both years included. Retrieve only the `name` and `founded_year` fields."
   ]
  },
  {
   "cell_type": "code",
   "execution_count": 13,
   "metadata": {},
   "outputs": [],
   "source": [
    "project = {\"name\":1, \"founded_year\":1}\n",
    "filt= {\"founded_year\": {\"$gte\":2000,\"$lte\":2005}}\n",
    "results = db.companies.find(filt, project)"
   ]
  },
  {
   "cell_type": "code",
   "execution_count": 14,
   "metadata": {},
   "outputs": [
    {
     "data": {
      "text/plain": [
       "[{'_id': ObjectId('52cdef7c4bab8bd675297d8a'),\n",
       "  'name': 'Wetpaint',\n",
       "  'founded_year': 2005},\n",
       " {'_id': ObjectId('52cdef7c4bab8bd675297d8c'),\n",
       "  'name': 'Zoho',\n",
       "  'founded_year': 2005},\n",
       " {'_id': ObjectId('52cdef7c4bab8bd675297d8d'),\n",
       "  'name': 'Digg',\n",
       "  'founded_year': 2004},\n",
       " {'_id': ObjectId('52cdef7c4bab8bd675297d8e'),\n",
       "  'name': 'Facebook',\n",
       "  'founded_year': 2004},\n",
       " {'_id': ObjectId('52cdef7c4bab8bd675297d8f'),\n",
       "  'name': 'Omnidrive',\n",
       "  'founded_year': 2005}]"
      ]
     },
     "execution_count": 14,
     "metadata": {},
     "output_type": "execute_result"
    }
   ],
   "source": [
    "list(results[:5])"
   ]
  },
  {
   "cell_type": "markdown",
   "metadata": {},
   "source": [
    "### 4. All the companies that had a Valuation Amount of more than 100.000.000 and have been founded before 2010. Retrieve only the `name` and `ipo` fields."
   ]
  },
  {
   "cell_type": "code",
   "execution_count": 15,
   "metadata": {},
   "outputs": [
    {
     "data": {
      "text/plain": [
       "<pymongo.cursor.Cursor at 0x7fca496d23a0>"
      ]
     },
     "execution_count": 15,
     "metadata": {},
     "output_type": "execute_result"
    }
   ],
   "source": [
    "db.com.find({\"valuation_amount\":{'$exists': 1}})"
   ]
  },
  {
   "cell_type": "code",
   "execution_count": 16,
   "metadata": {},
   "outputs": [
    {
     "data": {
      "text/plain": [
       "[{'name': 'Facebook',\n",
       "  'ipo': {'valuation_amount': 104000000000,\n",
       "   'valuation_currency_code': 'USD',\n",
       "   'pub_year': 2012,\n",
       "   'pub_month': 5,\n",
       "   'pub_day': 18,\n",
       "   'stock_symbol': 'NASDAQ:FB'}}]"
      ]
     },
     "execution_count": 16,
     "metadata": {},
     "output_type": "execute_result"
    }
   ],
   "source": [
    "query = {\"founded_year\": {\"$lt\":2010}, \"ipo.valuation_amount\": {\"$gt\": 100000000}}\n",
    "project = {\"_id\":0, \"name\":1, \"ipo\":1}\n",
    "results = db.companies.find(query, project)\n",
    "list(results[:1])"
   ]
  },
  {
   "cell_type": "markdown",
   "metadata": {},
   "source": [
    "### 5. All the companies that have less than 1000 employees and have been founded before 2005. Order them by the number of employees and limit the search to 10 companies."
   ]
  },
  {
   "cell_type": "code",
   "execution_count": 29,
   "metadata": {},
   "outputs": [
    {
     "data": {
      "text/plain": [
       "[{'name': 'Skype'},\n",
       " {'name': 'Simpy'},\n",
       " {'name': 'Eurekster'},\n",
       " {'name': 'Ticketmaster'},\n",
       " {'name': 'Fox Interactive Media'},\n",
       " {'name': 'stylediary'},\n",
       " {'name': 'Monster'},\n",
       " {'name': 'EditGrid'},\n",
       " {'name': 'Compete'},\n",
       " {'name': 'MindTouch'}]"
      ]
     },
     "execution_count": 29,
     "metadata": {},
     "output_type": "execute_result"
    }
   ],
   "source": [
    "query = {\"founded_year\": {\"$lt\": 2005}, \"number_of_employees\":{\"$lt\": 1000}}\n",
    "project = {\"_id\": 0, \"name\":1}\n",
    "results = db.companies.find(query, project).sort(\"number_of_employees\", 1).limit(10)\n",
    "list(results[:10])"
   ]
  },
  {
   "cell_type": "markdown",
   "metadata": {},
   "source": [
    "### 6. All the companies that don't include the `partners` field."
   ]
  },
  {
   "cell_type": "code",
   "execution_count": 35,
   "metadata": {},
   "outputs": [],
   "source": [
    "resul = db.companies.find({\"_id\":{\"$nin\":[\"partners\"]}},{\"_id\":0, \"name\":1})"
   ]
  },
  {
   "cell_type": "code",
   "execution_count": 36,
   "metadata": {},
   "outputs": [
    {
     "data": {
      "text/plain": [
       "[{'name': 'Wetpaint'},\n",
       " {'name': 'AdventNet'},\n",
       " {'name': 'Zoho'},\n",
       " {'name': 'Digg'},\n",
       " {'name': 'Facebook'},\n",
       " {'name': 'Omnidrive'},\n",
       " {'name': 'Postini'},\n",
       " {'name': 'Geni'},\n",
       " {'name': 'Flektor'},\n",
       " {'name': 'Fox Interactive Media'}]"
      ]
     },
     "execution_count": 36,
     "metadata": {},
     "output_type": "execute_result"
    }
   ],
   "source": [
    "list(resul[:10])"
   ]
  },
  {
   "cell_type": "markdown",
   "metadata": {},
   "source": [
    "### 7. All the companies that have a null type of value on the `category_code` field."
   ]
  },
  {
   "cell_type": "code",
   "execution_count": 38,
   "metadata": {},
   "outputs": [
    {
     "data": {
      "text/plain": [
       "[{'name': 'Collective'},\n",
       " {'name': 'Snimmer'},\n",
       " {'name': 'KoolIM'},\n",
       " {'name': 'Level9 Media'},\n",
       " {'name': 'VidKing'},\n",
       " {'name': 'Drigg'},\n",
       " {'name': 'SpaceTime'},\n",
       " {'name': 'Touch Clarity'},\n",
       " {'name': 'MMDAYS'},\n",
       " {'name': 'Inside Group'}]"
      ]
     },
     "execution_count": 38,
     "metadata": {},
     "output_type": "execute_result"
    }
   ],
   "source": [
    "query2 = list(db.companies.find({\"category_code\":None}, {\"_id\":0, \"name\":1}))                   \n",
    "query2[:10]"
   ]
  },
  {
   "cell_type": "markdown",
   "metadata": {},
   "source": [
    "### 8. All the companies that have at least 100 employees but less than 1000. Retrieve only the `name` and `number of employees` fields."
   ]
  },
  {
   "cell_type": "code",
   "execution_count": 40,
   "metadata": {},
   "outputs": [
    {
     "data": {
      "text/plain": [
       "[{'name': 'Skype', 'number_of_employees': 0},\n",
       " {'name': 'Simpy', 'number_of_employees': 0},\n",
       " {'name': 'Eurekster', 'number_of_employees': 0},\n",
       " {'name': 'Ticketmaster', 'number_of_employees': 0},\n",
       " {'name': 'Fox Interactive Media', 'number_of_employees': 0},\n",
       " {'name': 'stylediary', 'number_of_employees': 0},\n",
       " {'name': 'Monster', 'number_of_employees': 0},\n",
       " {'name': 'EditGrid', 'number_of_employees': 0},\n",
       " {'name': 'Compete', 'number_of_employees': 0},\n",
       " {'name': 'MindTouch', 'number_of_employees': 0}]"
      ]
     },
     "execution_count": 40,
     "metadata": {},
     "output_type": "execute_result"
    }
   ],
   "source": [
    "query3 = {\"number_of_employees\":{\"$gte\":100, \"$lt\": 1000}}\n",
    "project = {\"_id\":0, \"name\":1, \"number_of_employees\":1}\n",
    "result = db.companies.find(query, project).sort(\"number_of_employees\", 1)            \n",
    "list(result[:10])"
   ]
  },
  {
   "cell_type": "markdown",
   "metadata": {},
   "source": [
    "### 9. Order all the companies by their IPO price in a descending order."
   ]
  },
  {
   "cell_type": "code",
   "execution_count": 42,
   "metadata": {},
   "outputs": [
    {
     "data": {
      "text/plain": [
       "[{'name': 'GREE', 'ipo': {'valuation_amount': 108960000000}},\n",
       " {'name': 'Facebook', 'ipo': {'valuation_amount': 104000000000}},\n",
       " {'name': 'Amazon', 'ipo': {'valuation_amount': 100000000000}},\n",
       " {'name': 'Twitter', 'ipo': {'valuation_amount': 18100000000}},\n",
       " {'name': 'Groupon', 'ipo': {'valuation_amount': 12800000000}},\n",
       " {'name': 'Tencent', 'ipo': {'valuation_amount': 11000000000}},\n",
       " {'name': 'Western Digital', 'ipo': {'valuation_amount': 9430000000}},\n",
       " {'name': 'LinkedIn', 'ipo': {'valuation_amount': 9310000000}},\n",
       " {'name': 'BMC Software', 'ipo': {'valuation_amount': 6000000000}},\n",
       " {'name': 'Rackspace', 'ipo': {'valuation_amount': 5440000000}}]"
      ]
     },
     "execution_count": 42,
     "metadata": {},
     "output_type": "execute_result"
    }
   ],
   "source": [
    "filt = {\"ipo.valuation_amount\":{\"$exists\":\"ipo.valuation_amount\"}}\n",
    "project = {\"_id\":0,\"name\":1,\"ipo.valuation_amount\":1}\n",
    "results = db.companies.find(filt, project).sort(\"ipo.valuation_amount\", -1).limit(10)\n",
    "list(results[:10])"
   ]
  },
  {
   "cell_type": "markdown",
   "metadata": {},
   "source": [
    "### 10. Retrieve the 10 companies with more employees, order by the `number of employees`"
   ]
  },
  {
   "cell_type": "code",
   "execution_count": 45,
   "metadata": {},
   "outputs": [
    {
     "data": {
      "text/plain": [
       "[{'name': 'Siemens', 'number_of_employees': 405000},\n",
       " {'name': 'IBM', 'number_of_employees': 388000},\n",
       " {'name': 'Toyota', 'number_of_employees': 320000},\n",
       " {'name': 'PayPal', 'number_of_employees': 300000},\n",
       " {'name': 'Nippon Telegraph and Telephone Corporation',\n",
       "  'number_of_employees': 227000},\n",
       " {'name': 'Samsung Electronics', 'number_of_employees': 221726},\n",
       " {'name': 'Accenture', 'number_of_employees': 205000},\n",
       " {'name': 'Tata Consultancy Services', 'number_of_employees': 200300},\n",
       " {'name': 'Flextronics International', 'number_of_employees': 200000},\n",
       " {'name': 'Safeway', 'number_of_employees': 186000}]"
      ]
     },
     "execution_count": 45,
     "metadata": {},
     "output_type": "execute_result"
    }
   ],
   "source": [
    "project = {\"_id\":0, \"name\":1, \"number_of_employees\": 1}\n",
    "filt = {\"number_of_employees\":{\"$exists\":\"number_of_employees\"}}\n",
    "result = db.companies.find(filt, project).sort(\"number_of_employees\", -1).limit(10)\n",
    "list(result[:10])"
   ]
  },
  {
   "cell_type": "markdown",
   "metadata": {},
   "source": [
    "### 11. All the companies founded on the second semester of the year. Limit your search to 1000 companies."
   ]
  },
  {
   "cell_type": "code",
   "execution_count": 46,
   "metadata": {},
   "outputs": [
    {
     "data": {
      "text/plain": [
       "[{'name': 'StumbleUpon', 'founded_month': 2},\n",
       " {'name': 'Helio', 'founded_month': 2},\n",
       " {'name': 'YouTube', 'founded_month': 2},\n",
       " {'name': 'Prosper', 'founded_month': 2},\n",
       " {'name': 'Facebook', 'founded_month': 2}]"
      ]
     },
     "execution_count": 46,
     "metadata": {},
     "output_type": "execute_result"
    }
   ],
   "source": [
    "filt = {\"founded_month\":{\"$gte\": 2, \"$lte\":6}}\n",
    "project = {\"_id\": 0, \"name\": 1, \"founded_month\":1}\n",
    "result = db.companies.find(filt, project).sort(\"founded_month\", 1).limit(1000)\n",
    "list(result[:5])"
   ]
  },
  {
   "cell_type": "markdown",
   "metadata": {},
   "source": [
    "### 12. All the companies founded before 2000 that have an acquisition amount of more than 10.000.00"
   ]
  },
  {
   "cell_type": "code",
   "execution_count": null,
   "metadata": {},
   "outputs": [],
   "source": [
    "# Your Code"
   ]
  },
  {
   "cell_type": "markdown",
   "metadata": {},
   "source": [
    "### 13. All the companies that have been acquired after 2010, order by the acquisition amount, and retrieve only their `name` and `acquisition` field."
   ]
  },
  {
   "cell_type": "code",
   "execution_count": null,
   "metadata": {},
   "outputs": [],
   "source": [
    "# Your Code"
   ]
  },
  {
   "cell_type": "markdown",
   "metadata": {},
   "source": [
    "### 14. Order the companies by their `founded year`, retrieving only their `name` and `founded year`."
   ]
  },
  {
   "cell_type": "code",
   "execution_count": null,
   "metadata": {},
   "outputs": [],
   "source": [
    "# Your Code"
   ]
  },
  {
   "cell_type": "markdown",
   "metadata": {},
   "source": [
    "### 15. All the companies that have been founded on the first seven days of the month, including the seventh. Sort them by their `acquisition price` in a descending order. Limit the search to 10 documents."
   ]
  },
  {
   "cell_type": "code",
   "execution_count": null,
   "metadata": {},
   "outputs": [],
   "source": [
    "# Your Code"
   ]
  },
  {
   "cell_type": "markdown",
   "metadata": {},
   "source": [
    "### 16. All the companies on the 'web' `category` that have more than 4000 employees. Sort them by the amount of employees in ascending order."
   ]
  },
  {
   "cell_type": "code",
   "execution_count": null,
   "metadata": {},
   "outputs": [],
   "source": [
    "# Your Code"
   ]
  },
  {
   "cell_type": "markdown",
   "metadata": {},
   "source": [
    "### 17. All the companies whose acquisition amount is more than 10.000.000, and currency is 'EUR'."
   ]
  },
  {
   "cell_type": "code",
   "execution_count": null,
   "metadata": {},
   "outputs": [],
   "source": [
    "# Your Code"
   ]
  },
  {
   "cell_type": "markdown",
   "metadata": {},
   "source": [
    "### 18. All the companies that have been acquired on the first trimester of the year. Limit the search to 10 companies, and retrieve only their `name` and `acquisition` fields."
   ]
  },
  {
   "cell_type": "code",
   "execution_count": null,
   "metadata": {},
   "outputs": [],
   "source": [
    "# Your Code"
   ]
  },
  {
   "cell_type": "markdown",
   "metadata": {},
   "source": [
    "# Bonus\n",
    "### 19. All the companies that have been founded between 2000 and 2010, but have not been acquired before 2011."
   ]
  },
  {
   "cell_type": "code",
   "execution_count": null,
   "metadata": {},
   "outputs": [],
   "source": [
    "# Your Code"
   ]
  },
  {
   "cell_type": "markdown",
   "metadata": {},
   "source": [
    "### 20. All the companies that have been 'deadpooled' after the third year."
   ]
  },
  {
   "cell_type": "code",
   "execution_count": null,
   "metadata": {},
   "outputs": [],
   "source": [
    "# Your Code"
   ]
  }
 ],
 "metadata": {
  "kernelspec": {
   "display_name": "Python 3 (ipykernel)",
   "language": "python",
   "name": "python3"
  },
  "language_info": {
   "codemirror_mode": {
    "name": "ipython",
    "version": 3
   },
   "file_extension": ".py",
   "mimetype": "text/x-python",
   "name": "python",
   "nbconvert_exporter": "python",
   "pygments_lexer": "ipython3",
   "version": "3.8.10"
  }
 },
 "nbformat": 4,
 "nbformat_minor": 2
}
