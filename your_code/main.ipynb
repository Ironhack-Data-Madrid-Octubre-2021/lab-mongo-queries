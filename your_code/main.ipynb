{
 "cells": [
  {
   "cell_type": "markdown",
   "metadata": {},
   "source": [
    "# Advanced Querying Mongo"
   ]
  },
  {
   "cell_type": "markdown",
   "metadata": {},
   "source": [
    "Importing libraries and setting up connection"
   ]
  },
  {
   "cell_type": "code",
   "execution_count": 3,
   "metadata": {},
   "outputs": [],
   "source": [
    "from pymongo import MongoClient\n",
    "client = MongoClient(\"localhost:27017\")"
   ]
  },
  {
   "cell_type": "code",
   "execution_count": 4,
   "metadata": {},
   "outputs": [],
   "source": [
    "db = client.get_database(\"ironhack\")"
   ]
  },
  {
   "cell_type": "code",
   "execution_count": 5,
   "metadata": {},
   "outputs": [],
   "source": [
    "c= db.get_collection('companies')"
   ]
  },
  {
   "cell_type": "code",
   "execution_count": 6,
   "metadata": {},
   "outputs": [
    {
     "data": {
      "text/plain": [
       "Collection(Database(MongoClient(host=['localhost:27017'], document_class=dict, tz_aware=False, connect=True), 'ironhack'), 'companies')"
      ]
     },
     "execution_count": 6,
     "metadata": {},
     "output_type": "execute_result"
    }
   ],
   "source": [
    "c"
   ]
  },
  {
   "cell_type": "code",
   "execution_count": 25,
   "metadata": {},
   "outputs": [
    {
     "data": {
      "text/plain": [
       "{'_id': ObjectId('52cdef7c4bab8bd675297d8b'),\n",
       " 'name': 'AdventNet',\n",
       " 'permalink': 'abc3',\n",
       " 'crunchbase_url': 'http://www.crunchbase.com/company/adventnet',\n",
       " 'homepage_url': 'http://adventnet.com',\n",
       " 'blog_url': '',\n",
       " 'blog_feed_url': '',\n",
       " 'twitter_username': 'manageengine',\n",
       " 'category_code': 'enterprise',\n",
       " 'number_of_employees': 600,\n",
       " 'founded_year': 1996,\n",
       " 'deadpooled_year': 2,\n",
       " 'tag_list': '',\n",
       " 'alias_list': 'Zoho ManageEngine ',\n",
       " 'email_address': 'pr@adventnet.com',\n",
       " 'phone_number': '925-924-9500',\n",
       " 'description': 'Server Management Software',\n",
       " 'created_at': datetime.datetime(2007, 5, 25, 19, 24, 22),\n",
       " 'updated_at': 'Wed Oct 31 18:26:09 UTC 2012',\n",
       " 'overview': '<p>AdventNet is now <a href=\"/company/zoho-manageengine\" title=\"Zoho ManageEngine\" rel=\"nofollow\">Zoho ManageEngine</a>.</p>\\n\\n<p>Founded in 1996, AdventNet has served a diverse range of enterprise IT, networking and telecom customers.</p>\\n\\n<p>AdventNet supplies server and network management software.</p>',\n",
       " 'image': {'available_sizes': [[[150, 55],\n",
       "    'assets/images/resized/0001/9732/19732v1-max-150x150.png'],\n",
       "   [[150, 55], 'assets/images/resized/0001/9732/19732v1-max-250x250.png'],\n",
       "   [[150, 55], 'assets/images/resized/0001/9732/19732v1-max-450x450.png']]},\n",
       " 'products': [],\n",
       " 'relationships': [{'is_past': True,\n",
       "   'title': 'CEO and Co-Founder',\n",
       "   'person': {'first_name': 'Sridhar',\n",
       "    'last_name': 'Vembu',\n",
       "    'permalink': 'sridhar-vembu'}},\n",
       "  {'is_past': True,\n",
       "   'title': 'VP of Business Dev',\n",
       "   'person': {'first_name': 'Neil',\n",
       "    'last_name': 'Butani',\n",
       "    'permalink': 'neil-butani'}},\n",
       "  {'is_past': True,\n",
       "   'title': 'Usabiliy Engineer',\n",
       "   'person': {'first_name': 'Bharath',\n",
       "    'last_name': 'Balasubramanian',\n",
       "    'permalink': 'bharath-balasibramanian'}},\n",
       "  {'is_past': True,\n",
       "   'title': 'Director of Engineering',\n",
       "   'person': {'first_name': 'Rajendran',\n",
       "    'last_name': 'Dandapani',\n",
       "    'permalink': 'rajendran-dandapani'}},\n",
       "  {'is_past': True,\n",
       "   'title': 'Market Analyst',\n",
       "   'person': {'first_name': 'Aravind',\n",
       "    'last_name': 'Natarajan',\n",
       "    'permalink': 'aravind-natarajan'}},\n",
       "  {'is_past': True,\n",
       "   'title': 'Director of Product Management',\n",
       "   'person': {'first_name': 'Hyther',\n",
       "    'last_name': 'Nizam',\n",
       "    'permalink': 'hyther-nizam'}},\n",
       "  {'is_past': True,\n",
       "   'title': 'Western Regional OEM Sales Manager',\n",
       "   'person': {'first_name': 'Ian',\n",
       "    'last_name': 'Wenig',\n",
       "    'permalink': 'ian-wenig'}}],\n",
       " 'competitions': [],\n",
       " 'providerships': [{'title': 'DHFH',\n",
       "   'is_past': True,\n",
       "   'provider': {'name': 'A Small Orange', 'permalink': 'a-small-orange'}}],\n",
       " 'total_money_raised': '$0',\n",
       " 'funding_rounds': [],\n",
       " 'investments': [],\n",
       " 'acquisition': None,\n",
       " 'acquisitions': [],\n",
       " 'offices': [{'description': 'Headquarters',\n",
       "   'address1': '4900 Hopyard Rd.',\n",
       "   'address2': 'Suite 310',\n",
       "   'zip_code': '94588',\n",
       "   'city': 'Pleasanton',\n",
       "   'state_code': 'CA',\n",
       "   'country_code': 'USA',\n",
       "   'latitude': 37.692934,\n",
       "   'longitude': -121.904945}],\n",
       " 'milestones': [],\n",
       " 'video_embeds': [],\n",
       " 'screenshots': [{'available_sizes': [[[150, 94],\n",
       "     'assets/images/resized/0004/3400/43400v1-max-150x150.png'],\n",
       "    [[250, 156], 'assets/images/resized/0004/3400/43400v1-max-250x250.png'],\n",
       "    [[450, 282], 'assets/images/resized/0004/3400/43400v1-max-450x450.png']],\n",
       "   'attribution': None}],\n",
       " 'external_links': [],\n",
       " 'partners': []}"
      ]
     },
     "execution_count": 25,
     "metadata": {},
     "output_type": "execute_result"
    }
   ],
   "source": [
    "c.find_one()\n",
    "# para ver como es la base de datos"
   ]
  },
  {
   "cell_type": "markdown",
   "metadata": {},
   "source": [
    "### 1. All the companies whose name match 'Babelgum'. Retrieve only their `name` field."
   ]
  },
  {
   "cell_type": "code",
   "execution_count": 13,
   "metadata": {},
   "outputs": [
    {
     "data": {
      "text/plain": [
       "[{'name': 'Babelgum'}]"
      ]
     },
     "execution_count": 13,
     "metadata": {},
     "output_type": "execute_result"
    }
   ],
   "source": [
    "# Your Code\n",
    "proyec = {'name':1, '_id':0}\n",
    "Babelgum = list(c.find({'name':'Babelgum'},proyec))\n",
    "Babelgum"
   ]
  },
  {
   "cell_type": "markdown",
   "metadata": {},
   "source": [
    "### 2. All the companies that have more than 5000 employees. Limit the search to 20 companies and sort them by **number of employees**."
   ]
  },
  {
   "cell_type": "code",
   "execution_count": 19,
   "metadata": {},
   "outputs": [],
   "source": [
    "# Your Code\n",
    "query = {'number_of_employees': {'$gt' : 5000}}\n",
    "fivek = list(c.find(query).limit(20).sort('number_of_employees',-1)) #lo ordeno en orden descendente\n",
    "#Como no dice que muestre solo algunas columnas las muestro todas, pero lo dejo sin que salga en el output ;)"
   ]
  },
  {
   "cell_type": "markdown",
   "metadata": {},
   "source": [
    "### 3. All the companies founded between 2000 and 2005, both years included. Retrieve only the `name` and `founded_year` fields."
   ]
  },
  {
   "cell_type": "code",
   "execution_count": 22,
   "metadata": {},
   "outputs": [
    {
     "data": {
      "text/plain": [
       "[{'name': 'Wetpaint', 'founded_year': 2005},\n",
       " {'name': 'Zoho', 'founded_year': 2005},\n",
       " {'name': 'Omnidrive', 'founded_year': 2005},\n",
       " {'name': 'Digg', 'founded_year': 2004},\n",
       " {'name': 'Gizmoz', 'founded_year': 2003}]"
      ]
     },
     "execution_count": 22,
     "metadata": {},
     "output_type": "execute_result"
    }
   ],
   "source": [
    "# Your Code\n",
    "proyec = {'name':1, 'founded_year':1, '_id':0}\n",
    "cond1 = {'founded_year':{'$gte':2000}}\n",
    "cond2 = {'founded_year':{'$lte':2005}}\n",
    "query = {'$and':[cond1, cond2]}\n",
    "three = list(c.find(query,proyec).limit(5))\n",
    "three"
   ]
  },
  {
   "cell_type": "markdown",
   "metadata": {},
   "source": [
    "### 4. All the companies that had a Valuation Amount of more than 100.000.000 and have been founded before 2010. Retrieve only the `name` and `ipo` fields."
   ]
  },
  {
   "cell_type": "code",
   "execution_count": 46,
   "metadata": {},
   "outputs": [],
   "source": [
    "cond1={'ipo.valuation_amount':{'$gt':100000000}}\n",
    "cond2 = {'founded_year':{'$lt':2010}}\n",
    "proyec = {'name':1, 'ipo':1, '_id':0}\n",
    "query = {'$and':[cond1, cond2]}\n",
    "four = list(c.find(query,proyec).limit(2))\n"
   ]
  },
  {
   "cell_type": "markdown",
   "metadata": {},
   "source": [
    "### 5. All the companies that have less than 1000 employees and have been founded before 2005. Order them by the number of employees and limit the search to 10 companies."
   ]
  },
  {
   "cell_type": "code",
   "execution_count": 48,
   "metadata": {},
   "outputs": [],
   "source": [
    "# Your Code\n",
    "cond1={'number_of_employees': {'$lt' : 1000}}\n",
    "cond2 = {'founded_year':{'$lt':2005}}\n",
    "# proyec = {'name':1, 'ipo':1, '_id':0}\n",
    "query = {'$and':[cond1, cond2]}\n",
    "five = list(c.find(query).sort('number_of_employees',-1).limit(10))"
   ]
  },
  {
   "cell_type": "markdown",
   "metadata": {},
   "source": [
    "### 6. All the companies that don't include the `partners` field."
   ]
  },
  {
   "cell_type": "code",
   "execution_count": 53,
   "metadata": {},
   "outputs": [
    {
     "data": {
      "text/plain": [
       "[]"
      ]
     },
     "execution_count": 53,
     "metadata": {},
     "output_type": "execute_result"
    }
   ],
   "source": [
    "# Your Code\n",
    "#cond1={'partners': '$not':{'$lt' : 0}}} #esto incluye las que tengan partners negativos (imposible) y los que no tengan el campo\n",
    "\n",
    "cond1 = {\"partners\": {\"$exists\": False}}\n",
    "\n",
    "six = list(c.find(cond1).limit(1))\n",
    "six"
   ]
  },
  {
   "cell_type": "markdown",
   "metadata": {},
   "source": [
    "### 7. All the companies that have a null type of value on the `category_code` field."
   ]
  },
  {
   "cell_type": "code",
   "execution_count": 99,
   "metadata": {},
   "outputs": [],
   "source": [
    "# Your Code\n",
    "cond1 = {\"category_code\":None}\n",
    "\n",
    "seven = list(c.find(cond1).limit(1))\n"
   ]
  },
  {
   "cell_type": "markdown",
   "metadata": {},
   "source": [
    "### 8. All the companies that have at least 100 employees but less than 1000. Retrieve only the `name` and `number of employees` fields."
   ]
  },
  {
   "cell_type": "code",
   "execution_count": 60,
   "metadata": {},
   "outputs": [
    {
     "data": {
      "text/plain": [
       "[{'name': 'AdventNet', 'number_of_employees': 600},\n",
       " {'name': 'AddThis', 'number_of_employees': 120},\n",
       " {'name': 'OpenX', 'number_of_employees': 305},\n",
       " {'name': 'LifeLock', 'number_of_employees': 644},\n",
       " {'name': 'Jajah', 'number_of_employees': 110}]"
      ]
     },
     "execution_count": 60,
     "metadata": {},
     "output_type": "execute_result"
    }
   ],
   "source": [
    "# Your Code\n",
    "cond1={'number_of_employees': {'$gte' : 100}}\n",
    "cond2={'number_of_employees': {'$lt' : 1000}}\n",
    "\n",
    "query = {'$and':[cond1, cond2]}\n",
    "\n",
    "proyec = {'name':1, 'number_of_employees':1, '_id':0}\n",
    "\n",
    "eight = list(c.find(query,proyec).limit(5))\n",
    "eight"
   ]
  },
  {
   "cell_type": "markdown",
   "metadata": {},
   "source": [
    "### 9. Order all the companies by their IPO price in a descending order."
   ]
  },
  {
   "cell_type": "code",
   "execution_count": 63,
   "metadata": {},
   "outputs": [],
   "source": [
    "# Your Code\n",
    "nine = list(c.find().sort('ipo.valuation_amount',-1))"
   ]
  },
  {
   "cell_type": "markdown",
   "metadata": {},
   "source": [
    "### 10. Retrieve the 10 companies with more employees, order by the `number of employees`"
   ]
  },
  {
   "cell_type": "code",
   "execution_count": 64,
   "metadata": {},
   "outputs": [],
   "source": [
    "# Your Code\n",
    "proyec = {'name':1, 'number_of_employees':1, '_id':0}\n",
    "ten = list(c.find().sort('number_of_employees',-1).limit(10))"
   ]
  },
  {
   "cell_type": "markdown",
   "metadata": {},
   "source": [
    "### 11. All the companies founded on the second semester of the year. Limit your search to 1000 companies."
   ]
  },
  {
   "cell_type": "code",
   "execution_count": null,
   "metadata": {},
   "outputs": [],
   "source": [
    "# Your Code\n",
    "query = {'founded_month':{'$gt':6}}\n",
    "eleven = list(c.find(query).limit(1000))"
   ]
  },
  {
   "cell_type": "markdown",
   "metadata": {},
   "source": [
    "### 12. All the companies founded before 2000 that have an acquisition amount of more than 10.000.00"
   ]
  },
  {
   "cell_type": "code",
   "execution_count": 65,
   "metadata": {},
   "outputs": [],
   "source": [
    "# Your Code\n",
    "cond1 = {'founded_year':{'$lt':2000}}\n",
    "cond2 = {'acquisition.price_amount':{'$gt':10000000}}\n",
    "query = {'$and':[cond1,cond2]}\n",
    "\n",
    "twelve = list(c.find(query))"
   ]
  },
  {
   "cell_type": "markdown",
   "metadata": {},
   "source": [
    "### 13. All the companies that have been acquired after 2010, order by the acquisition amount, and retrieve only their `name` and `acquisition` field."
   ]
  },
  {
   "cell_type": "code",
   "execution_count": 68,
   "metadata": {},
   "outputs": [
    {
     "data": {
      "text/plain": [
       "[{'name': 'Wetpaint',\n",
       "  'acquisition': {'price_amount': 30000000,\n",
       "   'price_currency_code': 'USD',\n",
       "   'term_code': 'cash_and_stock',\n",
       "   'source_url': 'http://allthingsd.com/20131216/viggle-tries-to-bulk-up-its-social-tv-business-by-buying-wetpaint/?mod=atdtweet',\n",
       "   'source_description': ' Viggle Tries to Bulk Up Its Social TV Business by Buying Wetpaint',\n",
       "   'acquired_year': 2013,\n",
       "   'acquired_month': 12,\n",
       "   'acquired_day': 16,\n",
       "   'acquiring_company': {'name': 'Viggle', 'permalink': 'viggle'}}}]"
      ]
     },
     "execution_count": 68,
     "metadata": {},
     "output_type": "execute_result"
    }
   ],
   "source": [
    "# Your Code\n",
    "cond1 = {'acquisition.acquired_year':{'$gt':2010}}\n",
    "# cond2 = {'acquisition.price_amount':{'$gt':10000000}}\n",
    "# query = {'$and':[cond1,cond2]}\n",
    "proyec = {'name':1, 'acquisition':1, '_id':0}\n",
    "thirt = list(c.find(cond1, proyec).sort('acquisition.price_amount').limit(1)) #ascending order\n",
    "thirt"
   ]
  },
  {
   "cell_type": "markdown",
   "metadata": {},
   "source": [
    "### 14. Order the companies by their `founded year`, retrieving only their `name` and `founded year`."
   ]
  },
  {
   "cell_type": "code",
   "execution_count": 88,
   "metadata": {},
   "outputs": [
    {
     "data": {
      "text/plain": [
       "[{'name': 'WhosCall', 'founded_year': 2013},\n",
       " {'name': 'Advaliant', 'founded_year': 2013},\n",
       " {'name': 'Clowdy', 'founded_year': 2013},\n",
       " {'name': 'Pikk', 'founded_year': 2013},\n",
       " {'name': 'Wamba', 'founded_year': 2013},\n",
       " {'name': 'Tongxue', 'founded_year': 2013},\n",
       " {'name': 'Fixya', 'founded_year': 2013},\n",
       " {'name': 'Shopseen', 'founded_year': 2013},\n",
       " {'name': 'Fluc', 'founded_year': 2013},\n",
       " {'name': 'Gimigo', 'founded_year': 2013},\n",
       " {'name': 'VistaGen Therapeutics', 'founded_year': 2013},\n",
       " {'name': 'SEOGroup', 'founded_year': 2013},\n",
       " {'name': 'iBazar', 'founded_year': 2013},\n",
       " {'name': 'headr', 'founded_year': 2012}]"
      ]
     },
     "execution_count": 88,
     "metadata": {},
     "output_type": "execute_result"
    }
   ],
   "source": [
    "# Your Code\n",
    "#ººººººººººººººººººººººººººººººcond = {'founded_year': {'$exists':True}}\n",
    "proyec= {'name':1, 'founded_year': 1, '_id':0}\n",
    "\n",
    "fourt = list(c.find({},proyec).sort('founded_year',-1).limit(14))\n",
    "fourt"
   ]
  },
  {
   "cell_type": "markdown",
   "metadata": {},
   "source": [
    "### 15. All the companies that have been founded on the first seven days of the month, including the seventh. Sort them by their `acquisition price` in a descending order. Limit the search to 10 documents."
   ]
  },
  {
   "cell_type": "code",
   "execution_count": 78,
   "metadata": {},
   "outputs": [],
   "source": [
    "# Your Code\n",
    "cond = {'founded_day':{'$lte':7}}\n",
    "\n",
    "fift = list(c.find(cond).sort('acquisition.price_amount',-1).limit(10))"
   ]
  },
  {
   "cell_type": "markdown",
   "metadata": {},
   "source": [
    "### 16. All the companies on the 'web' `category` that have more than 4000 employees. Sort them by the amount of employees in ascending order."
   ]
  },
  {
   "cell_type": "code",
   "execution_count": 79,
   "metadata": {},
   "outputs": [],
   "source": [
    "# Your Code\n",
    "cond1 = {'category_code':'web'}\n",
    "cond2= {'number_of_employees': {'$gt' : 4000}}\n",
    "query = {'$and':[cond1,cond2]}\n",
    "sixt = list(c.find(query).sort('number_of_employees'))"
   ]
  },
  {
   "cell_type": "markdown",
   "metadata": {},
   "source": [
    "### 17. All the companies whose acquisition amount is more than 10.000.000, and currency is 'EUR'."
   ]
  },
  {
   "cell_type": "code",
   "execution_count": 80,
   "metadata": {},
   "outputs": [],
   "source": [
    "# Your Code\n",
    "\n",
    "cond1 = {'acquisition.price_currency_code':'EUR'}\n",
    "cond2 = {'acquisition.price_amount':{'$gt':10000000}}\n",
    "query = {'$and':[cond1,cond2]}\n",
    "\n",
    "sevent = list(c.find(query))\n",
    "\n"
   ]
  },
  {
   "cell_type": "markdown",
   "metadata": {},
   "source": [
    "### 18. All the companies that have been acquired on the first trimester of the year. Limit the search to 10 companies, and retrieve only their `name` and `acquisition` fields."
   ]
  },
  {
   "cell_type": "code",
   "execution_count": 81,
   "metadata": {},
   "outputs": [],
   "source": [
    "# Your Code\n",
    "cond1 = {'acquisition.acquired_month':{'$lt':4}}\n",
    "proyec = {'name':1, 'acquisition':1, '_id':0}\n",
    "\n",
    "eighte = list(c.find(cond1,proyec).limit(10))"
   ]
  },
  {
   "cell_type": "markdown",
   "metadata": {},
   "source": [
    "# Bonus\n",
    "### 19. All the companies that have been founded between 2000 and 2010, but have not been acquired before 2011."
   ]
  },
  {
   "cell_type": "code",
   "execution_count": 87,
   "metadata": {},
   "outputs": [
    {
     "data": {
      "text/plain": [
       "[{'name': 'Wetpaint',\n",
       "  'acquisition': {'price_amount': 30000000,\n",
       "   'price_currency_code': 'USD',\n",
       "   'term_code': 'cash_and_stock',\n",
       "   'source_url': 'http://allthingsd.com/20131216/viggle-tries-to-bulk-up-its-social-tv-business-by-buying-wetpaint/?mod=atdtweet',\n",
       "   'source_description': ' Viggle Tries to Bulk Up Its Social TV Business by Buying Wetpaint',\n",
       "   'acquired_year': 2013,\n",
       "   'acquired_month': 12,\n",
       "   'acquired_day': 16,\n",
       "   'acquiring_company': {'name': 'Viggle', 'permalink': 'viggle'}}},\n",
       " {'name': 'Zoho', 'acquisition': None},\n",
       " {'name': 'Geni',\n",
       "  'acquisition': {'price_amount': None,\n",
       "   'price_currency_code': 'USD',\n",
       "   'term_code': None,\n",
       "   'source_url': 'http://techcrunch.com/2012/11/28/all-in-the-family-myheritage-buys-former-yammer-stablemate-geni-com-raises-25m/',\n",
       "   'source_description': 'MyHeritage acquires Geni and $25M to build family tree of the whole world',\n",
       "   'acquired_year': 2012,\n",
       "   'acquired_month': 11,\n",
       "   'acquired_day': 28,\n",
       "   'acquiring_company': {'name': 'MyHeritage', 'permalink': 'myheritage'}}}]"
      ]
     },
     "execution_count": 87,
     "metadata": {},
     "output_type": "execute_result"
    }
   ],
   "source": [
    "# Your Code\n",
    "cond1 = {'founded_year': {'$gte':2000}}\n",
    "cond2 = {'founded_year': {'$lt':2010}}\n",
    "cond3 = {'acquisition.acquired_year': {'$nin':list(range(0,2012))}}\n",
    "\n",
    "query = {'$and':[cond1,cond2,cond3]}\n",
    "proyec = {'name':1, 'acquisition':1, '_id':0}\n",
    "ninet = list(c.find(query,proyec).limit(3))\n",
    "ninet\n"
   ]
  },
  {
   "cell_type": "markdown",
   "metadata": {},
   "source": [
    "### 20. All the companies that have been 'deadpooled' after the third year."
   ]
  },
  {
   "cell_type": "code",
   "execution_count": 92,
   "metadata": {},
   "outputs": [],
   "source": [
    "# Your Code\n",
    "listaca = list(c.find({'deadpooled_year':{'$exists':True}},{'name':1,'deadpooled_year':1, 'founded_year':1, '_id':0}))\n",
    "lista=[]\n",
    "for i in listaca:\n",
    "    if i['deadpooled_year'] != None and i['founded_year'] != None:\n",
    "        if i['deadpooled_year'] > 4:\n",
    "            lista.append(i)\n",
    "        elif i['deadpooled_year']-i['founded_year'] >4:\n",
    "            lista.append(i)\n"
   ]
  },
  {
   "cell_type": "code",
   "execution_count": 97,
   "metadata": {},
   "outputs": [
    {
     "ename": "SyntaxError",
     "evalue": "invalid syntax (3820395155.py, line 2)",
     "output_type": "error",
     "traceback": [
      "\u001b[0;36m  File \u001b[0;32m\"/tmp/ipykernel_693/3820395155.py\"\u001b[0;36m, line \u001b[0;32m2\u001b[0m\n\u001b[0;31m    cond2 = {'$where': function(){return lambda x: (x if x['deadpooled_year'] > 4 else x if x['deadpooled_year']-x['founded_year'] >4) if (x['deadpooled_year'] != None) and (x['founded_year'] != None)}}\u001b[0m\n\u001b[0m                                 ^\u001b[0m\n\u001b[0;31mSyntaxError\u001b[0m\u001b[0;31m:\u001b[0m invalid syntax\n"
     ]
    }
   ],
   "source": [
    "#intentandolo con where\n",
    "cond1 = {'deadpooled_year':{'$exists':True}}\n",
    "cond2 = {'$where': function(){return lambda x: (x if x['deadpooled_year'] > 4 else x if x['deadpooled_year']-x['founded_year'] >4) if (x['deadpooled_year'] != None) and (x['founded_year'] != None)}}\n",
    "proy = {'name':1,'deadpooled_year':1, 'founded_year':1, '_id':0}\n",
    "query = {'$and':[cond1,cond2]}\n",
    "listaca = list(c.find(query,proy))\n",
    "\n",
    "#no entiendo el syntax error que me da..."
   ]
  },
  {
   "cell_type": "code",
   "execution_count": null,
   "metadata": {},
   "outputs": [],
   "source": []
  }
 ],
 "metadata": {
  "kernelspec": {
   "display_name": "Python 3 (ipykernel)",
   "language": "python",
   "name": "python3"
  },
  "language_info": {
   "codemirror_mode": {
    "name": "ipython",
    "version": 3
   },
   "file_extension": ".py",
   "mimetype": "text/x-python",
   "name": "python",
   "nbconvert_exporter": "python",
   "pygments_lexer": "ipython3",
   "version": "3.8.10"
  }
 },
 "nbformat": 4,
 "nbformat_minor": 2
}
