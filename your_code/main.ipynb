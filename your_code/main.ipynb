{
 "cells": [
  {
   "cell_type": "markdown",
   "metadata": {},
   "source": [
    "# Advanced Querying Mongo"
   ]
  },
  {
   "cell_type": "markdown",
   "metadata": {},
   "source": [
    "Importing libraries and setting up connection"
   ]
  },
  {
   "cell_type": "code",
   "execution_count": 2,
   "metadata": {},
   "outputs": [
    {
     "name": "stdout",
     "output_type": "stream",
     "text": [
      "Requirement already satisfied: pymongo in /usr/local/Caskroom/miniconda/base/lib/python3.8/site-packages (3.12.1)\r\n"
     ]
    }
   ],
   "source": [
    "!pip install pymongo\n",
    "from pymongo import MongoClient"
   ]
  },
  {
   "cell_type": "code",
   "execution_count": 9,
   "metadata": {},
   "outputs": [],
   "source": [
    "client = MongoClient(\"localhost:27017\")"
   ]
  },
  {
   "cell_type": "code",
   "execution_count": 10,
   "metadata": {},
   "outputs": [],
   "source": [
    "ir = client.get_database(\"ironhack\")"
   ]
  },
  {
   "cell_type": "code",
   "execution_count": 11,
   "metadata": {},
   "outputs": [],
   "source": [
    "c = ir.get_collection(\"companies\")"
   ]
  },
  {
   "cell_type": "markdown",
   "metadata": {},
   "source": [
    "### 1. All the companies whose name match 'Babelgum'. Retrieve only their `name` field."
   ]
  },
  {
   "cell_type": "code",
   "execution_count": 24,
   "metadata": {},
   "outputs": [
    {
     "data": {
      "text/plain": [
       "[{'_id': ObjectId('52cdef7c4bab8bd675297da0'), 'name': 'Babelgum'}]"
      ]
     },
     "execution_count": 24,
     "metadata": {},
     "output_type": "execute_result"
    }
   ],
   "source": [
    "proyec = {\"name\": 1}\n",
    "query = {\"name\":\"Babelgum\"}\n",
    "list(c.find(query,proyec))"
   ]
  },
  {
   "cell_type": "markdown",
   "metadata": {},
   "source": [
    "### 2. All the companies that have more than 5000 employees. Limit the search to 20 companies and sort them by **number of employees**."
   ]
  },
  {
   "cell_type": "code",
   "execution_count": null,
   "metadata": {},
   "outputs": [],
   "source": [
    "number_of_employees"
   ]
  },
  {
   "cell_type": "code",
   "execution_count": 38,
   "metadata": {},
   "outputs": [
    {
     "data": {
      "text/plain": [
       "[{'_id': ObjectId('52cdef7c4bab8bd675297e49'),\n",
       "  'name': 'Nintendo',\n",
       "  'permalink': 'nintendo',\n",
       "  'crunchbase_url': 'http://www.crunchbase.com/company/nintendo',\n",
       "  'homepage_url': 'http://nintendo.com',\n",
       "  'blog_url': '',\n",
       "  'blog_feed_url': '',\n",
       "  'twitter_username': 'NintendoAmerica',\n",
       "  'category_code': 'games_video',\n",
       "  'number_of_employees': 5080,\n",
       "  'founded_year': 1889,\n",
       "  'founded_month': 9,\n",
       "  'founded_day': 23,\n",
       "  'deadpooled_year': None,\n",
       "  'deadpooled_month': None,\n",
       "  'deadpooled_day': None,\n",
       "  'deadpooled_url': None,\n",
       "  'tag_list': 'games, console',\n",
       "  'alias_list': '',\n",
       "  'email_address': 'noalegal@noa.nintendo.com',\n",
       "  'phone_number': '1-800-255-3700 ',\n",
       "  'description': '',\n",
       "  'created_at': 'Sat Dec 22 13:27:00 UTC 2007',\n",
       "  'updated_at': 'Thu Sep 05 12:41:16 UTC 2013',\n",
       "  'overview': '<p>Nintendo, a technology company widely known for its line of game consoles, was actually founded in 1889 by Fusajiro Yamauchi. It began as a card game company and evolved into one of the largest Japanese companies with a Market Capitalization of over $85 billion.</p>',\n",
       "  'image': {'available_sizes': [[[150, 41],\n",
       "     'assets/images/resized/0000/2869/2869v3-max-150x150.jpg'],\n",
       "    [[250, 69], 'assets/images/resized/0000/2869/2869v3-max-250x250.jpg'],\n",
       "    [[450, 125], 'assets/images/resized/0000/2869/2869v3-max-450x450.jpg']],\n",
       "   'attribution': None},\n",
       "  'products': [{'name': 'Wii', 'permalink': 'wii'}],\n",
       "  'relationships': [{'is_past': False,\n",
       "    'title': 'President',\n",
       "    'person': {'first_name': 'Satoru',\n",
       "     'last_name': 'Iwata',\n",
       "     'permalink': 'satoru-iwata'}},\n",
       "   {'is_past': True,\n",
       "    'title': 'Executive Vice President',\n",
       "    'person': {'first_name': 'John',\n",
       "     'last_name': 'H. Bauer',\n",
       "     'permalink': 'john-h-bauer'}},\n",
       "   {'is_past': True,\n",
       "    'title': '',\n",
       "    'person': {'first_name': 'Mark',\n",
       "     'last_name': 'Proffit',\n",
       "     'permalink': 'mark-frazier'}},\n",
       "   {'is_past': True,\n",
       "    'title': 'European Brand Manager',\n",
       "    'person': {'first_name': 'Cornelius',\n",
       "     'last_name': 'Rost',\n",
       "     'permalink': 'cornelius-rost'}},\n",
       "   {'is_past': True,\n",
       "    'title': '',\n",
       "    'person': {'first_name': 'Roger',\n",
       "     'last_name': 'Pavane',\n",
       "     'permalink': 'roger-pavane'}},\n",
       "   {'is_past': True,\n",
       "    'title': 'Training Coordinator / Lead / Developer',\n",
       "    'person': {'first_name': 'Scott',\n",
       "     'last_name': 'Sullivan',\n",
       "     'permalink': 'scott-sullivan'}},\n",
       "   {'is_past': True,\n",
       "    'title': 'Lead Tester',\n",
       "    'person': {'first_name': 'Jesse',\n",
       "     'last_name': 'Hayes',\n",
       "     'permalink': 'jesse-hayes'}},\n",
       "   {'is_past': True,\n",
       "    'title': 'Consultant',\n",
       "    'person': {'first_name': 'John',\n",
       "     'last_name': 'H. Bauer',\n",
       "     'permalink': 'john-h-bauer'}}],\n",
       "  'competitions': [],\n",
       "  'providerships': [],\n",
       "  'total_money_raised': '$0',\n",
       "  'funding_rounds': [],\n",
       "  'investments': [],\n",
       "  'acquisition': None,\n",
       "  'acquisitions': [],\n",
       "  'offices': [{'description': None,\n",
       "    'address1': None,\n",
       "    'address2': None,\n",
       "    'zip_code': None,\n",
       "    'city': None,\n",
       "    'state_code': None,\n",
       "    'country_code': 'JPN',\n",
       "    'latitude': 36.204824,\n",
       "    'longitude': 138.252924}],\n",
       "  'milestones': [{'id': 17591,\n",
       "    'description': '3D For Everyone! Get The Nintendo 3DS For $150',\n",
       "    'stoned_year': 2011,\n",
       "    'stoned_month': 8,\n",
       "    'stoned_day': 29,\n",
       "    'source_url': 'http://techcrunch.com/2011/08/29/get-the-nintendo-3ds-150/',\n",
       "    'source_text': '',\n",
       "    'source_description': '3D For Everyone! Get The Nintendo 3DS For $150',\n",
       "    'stoneable_type': 'Company',\n",
       "    'stoned_value': None,\n",
       "    'stoned_value_type': None,\n",
       "    'stoned_acquirer': None,\n",
       "    'stoneable': {'name': 'Nintendo', 'permalink': 'nintendo'}}],\n",
       "  'ipo': None,\n",
       "  'video_embeds': [],\n",
       "  'screenshots': [],\n",
       "  'external_links': [],\n",
       "  'partners': []}]"
      ]
     },
     "execution_count": 38,
     "metadata": {},
     "output_type": "execute_result"
    }
   ],
   "source": [
    "employees = {\"number_of_employees\":{\"$gt\": 5000}}\n",
    "list(c.find(employees).limit(1).sort(\"number_of_employees\",1))"
   ]
  },
  {
   "cell_type": "markdown",
   "metadata": {},
   "source": [
    "### 3. All the companies founded between 2000 and 2005, both years included. Retrieve only the `name` and `founded_year` fields."
   ]
  },
  {
   "cell_type": "code",
   "execution_count": 43,
   "metadata": {},
   "outputs": [
    {
     "data": {
      "text/plain": [
       "[{'name': 'Wetpaint', 'founded_year': 2005},\n",
       " {'name': 'Zoho', 'founded_year': 2005},\n",
       " {'name': 'Digg', 'founded_year': 2004},\n",
       " {'name': 'Facebook', 'founded_year': 2004},\n",
       " {'name': 'Omnidrive', 'founded_year': 2005}]"
      ]
     },
     "execution_count": 43,
     "metadata": {},
     "output_type": "execute_result"
    }
   ],
   "source": [
    "proyect = {\"name\":1 , \"founded_year\":1, \"_id\":0}\n",
    "list(c.find({\"founded_year\": {\"$in\": list(range(2000,2006))}}, proyect).limit(5))"
   ]
  },
  {
   "cell_type": "markdown",
   "metadata": {},
   "source": [
    "### 4. All the companies that had a Valuation Amount of more than 100.000.000 and have been founded before 2010. Retrieve only the `name` and `ipo` fields."
   ]
  },
  {
   "cell_type": "code",
   "execution_count": 61,
   "metadata": {},
   "outputs": [
    {
     "data": {
      "text/plain": [
       "[{'name': 'Facebook',\n",
       "  'founded_year': 2004,\n",
       "  'ipo': {'valuation_amount': 104000000000,\n",
       "   'valuation_currency_code': 'USD',\n",
       "   'pub_year': 2012,\n",
       "   'pub_month': 5,\n",
       "   'pub_day': 18,\n",
       "   'stock_symbol': 'NASDAQ:FB'}},\n",
       " {'name': 'Twitter',\n",
       "  'founded_year': 2006,\n",
       "  'ipo': {'valuation_amount': 18100000000,\n",
       "   'valuation_currency_code': 'USD',\n",
       "   'pub_year': 2013,\n",
       "   'pub_month': 11,\n",
       "   'pub_day': 7,\n",
       "   'stock_symbol': 'NYSE:TWTR'}},\n",
       " {'name': 'Yelp',\n",
       "  'founded_year': 2004,\n",
       "  'ipo': {'valuation_amount': 1300000000,\n",
       "   'valuation_currency_code': 'USD',\n",
       "   'pub_year': 2012,\n",
       "   'pub_month': 3,\n",
       "   'pub_day': 2,\n",
       "   'stock_symbol': 'NYSE:YELP'}}]"
      ]
     },
     "execution_count": 61,
     "metadata": {},
     "output_type": "execute_result"
    }
   ],
   "source": [
    "pro = {\"name\":1 , \"ipo\":1, \"founded_year\":1, \"_id\":0}\n",
    "above = {\"ipo.valuation_amount\":{\"$gt\": 100000000}}\n",
    "before = {\"founded_year\":{\"$lt\": 2010}}\n",
    "\n",
    "list(c.find({\"$and\": [above,before]},pro).limit(3))"
   ]
  },
  {
   "cell_type": "markdown",
   "metadata": {},
   "source": [
    "### 5. All the companies that have less than 1000 employees and have been founded before 2005. Order them by the number of employees and limit the search to 10 companies."
   ]
  },
  {
   "cell_type": "code",
   "execution_count": 64,
   "metadata": {},
   "outputs": [
    {
     "data": {
      "text/plain": [
       "[{'name': 'Fox Interactive Media',\n",
       "  'number_of_employees': 0,\n",
       "  'founded_year': 1979},\n",
       " {'name': 'Ticketmaster', 'number_of_employees': 0, 'founded_year': 1976},\n",
       " {'name': 'Eurekster', 'number_of_employees': 0, 'founded_year': 2004},\n",
       " {'name': 'MindTouch', 'number_of_employees': 0, 'founded_year': 2004},\n",
       " {'name': 'Skype', 'number_of_employees': 0, 'founded_year': 2003},\n",
       " {'name': 'Monster', 'number_of_employees': 0, 'founded_year': 1994},\n",
       " {'name': 'EditGrid', 'number_of_employees': 0, 'founded_year': 2003},\n",
       " {'name': 'Simpy', 'number_of_employees': 0, 'founded_year': 2004},\n",
       " {'name': 'Compete', 'number_of_employees': 0, 'founded_year': 2000},\n",
       " {'name': 'stylediary', 'number_of_employees': 0, 'founded_year': 2004}]"
      ]
     },
     "execution_count": 64,
     "metadata": {},
     "output_type": "execute_result"
    }
   ],
   "source": [
    "proy = {\"name\":1 , \"number_of_employees\":1, \"founded_year\":1, \"_id\":0}\n",
    "bef = {\"founded_year\":{\"$lt\": 2005}}\n",
    "empl = {\"number_of_employees\":{\"$lt\": 1000}}\n",
    "list(c.find({\"$and\": [empl,bef]},proy).limit(10).sort(\"number_of_employees\",1))"
   ]
  },
  {
   "cell_type": "markdown",
   "metadata": {},
   "source": [
    "### 6. All the companies that don't include the `partners` field."
   ]
  },
  {
   "cell_type": "code",
   "execution_count": 68,
   "metadata": {},
   "outputs": [
    {
     "data": {
      "text/plain": [
       "[]"
      ]
     },
     "execution_count": 68,
     "metadata": {},
     "output_type": "execute_result"
    }
   ],
   "source": [
    "cond_exi = {\"partners\": {\"$exists\": False}}\n",
    "list(c.find(cond_exi).limit(3))"
   ]
  },
  {
   "cell_type": "markdown",
   "metadata": {},
   "source": [
    "### 7. All the companies that have a null type of value on the `category_code` field."
   ]
  },
  {
   "cell_type": "code",
   "execution_count": 69,
   "metadata": {},
   "outputs": [
    {
     "data": {
      "text/plain": [
       "[]"
      ]
     },
     "execution_count": 69,
     "metadata": {},
     "output_type": "execute_result"
    }
   ],
   "source": [
    "bef = {\"category_code\":{\"$exists\": False}}\n",
    "list(c.find(bef).limit(3))"
   ]
  },
  {
   "cell_type": "markdown",
   "metadata": {},
   "source": [
    "### 8. All the companies that have at least 100 employees but less than 1000. Retrieve only the `name` and `number of employees` fields."
   ]
  },
  {
   "cell_type": "code",
   "execution_count": 71,
   "metadata": {},
   "outputs": [
    {
     "data": {
      "text/plain": [
       "[{'name': 'AdventNet', 'number_of_employees': 600},\n",
       " {'name': 'AddThis', 'number_of_employees': 120},\n",
       " {'name': 'OpenX', 'number_of_employees': 305},\n",
       " {'name': 'LifeLock', 'number_of_employees': 644},\n",
       " {'name': 'Jajah', 'number_of_employees': 110}]"
      ]
     },
     "execution_count": 71,
     "metadata": {},
     "output_type": "execute_result"
    }
   ],
   "source": [
    "proy = {\"name\":1 , \"number_of_employees\":1, \"_id\":0}\n",
    "num1 = {\"number_of_employees\":{\"$gt\": 100}}\n",
    "num2 = {\"number_of_employees\":{\"$lt\": 1000}}\n",
    "list(c.find({\"$and\": [num1,num2]},proy).limit(5))"
   ]
  },
  {
   "cell_type": "markdown",
   "metadata": {},
   "source": [
    "### 9. Order all the companies by their IPO price in a descending order."
   ]
  },
  {
   "cell_type": "code",
   "execution_count": 86,
   "metadata": {},
   "outputs": [
    {
     "data": {
      "text/plain": [
       "[{'name': 'GREE',\n",
       "  'ipo': {'valuation_amount': 108960000000,\n",
       "   'valuation_currency_code': 'JPY',\n",
       "   'pub_year': 2008,\n",
       "   'pub_month': 12,\n",
       "   'pub_day': 17,\n",
       "   'stock_symbol': '3632'}},\n",
       " {'name': 'Facebook',\n",
       "  'ipo': {'valuation_amount': 104000000000,\n",
       "   'valuation_currency_code': 'USD',\n",
       "   'pub_year': 2012,\n",
       "   'pub_month': 5,\n",
       "   'pub_day': 18,\n",
       "   'stock_symbol': 'NASDAQ:FB'}},\n",
       " {'name': 'Amazon',\n",
       "  'ipo': {'valuation_amount': 100000000000,\n",
       "   'valuation_currency_code': 'USD',\n",
       "   'pub_year': 1997,\n",
       "   'pub_month': 5,\n",
       "   'pub_day': None,\n",
       "   'stock_symbol': 'NASDAQ:AMZN'}}]"
      ]
     },
     "execution_count": 86,
     "metadata": {},
     "output_type": "execute_result"
    }
   ],
   "source": [
    "proy = {\"name\":1 , \"ipo\":1, \"_id\":0}\n",
    "ipo = {\"ipo.valuation_amount\":{\"$exists\": True}}\n",
    "list(c.find(ipo,proy).limit(3).sort(\"ipo.valuation_amount\",-1))"
   ]
  },
  {
   "cell_type": "markdown",
   "metadata": {},
   "source": [
    "### 10. Retrieve the 10 companies with more employees, order by the `number of employees`"
   ]
  },
  {
   "cell_type": "code",
   "execution_count": 87,
   "metadata": {},
   "outputs": [
    {
     "data": {
      "text/plain": [
       "[{'name': 'Siemens', 'number_of_employees': 405000},\n",
       " {'name': 'IBM', 'number_of_employees': 388000},\n",
       " {'name': 'Toyota', 'number_of_employees': 320000},\n",
       " {'name': 'PayPal', 'number_of_employees': 300000},\n",
       " {'name': 'Nippon Telegraph and Telephone Corporation',\n",
       "  'number_of_employees': 227000},\n",
       " {'name': 'Samsung Electronics', 'number_of_employees': 221726},\n",
       " {'name': 'Accenture', 'number_of_employees': 205000},\n",
       " {'name': 'Tata Consultancy Services', 'number_of_employees': 200300},\n",
       " {'name': 'Flextronics International', 'number_of_employees': 200000},\n",
       " {'name': 'Safeway', 'number_of_employees': 186000}]"
      ]
     },
     "execution_count": 87,
     "metadata": {},
     "output_type": "execute_result"
    }
   ],
   "source": [
    "proy = {\"name\":1 , \"number_of_employees\":1, \"_id\":0}\n",
    "ipo = {\"number_of_employees\":{\"$exists\": True}}\n",
    "list(c.find(ipo,proy).limit(10).sort(\"number_of_employees\",-1))"
   ]
  },
  {
   "cell_type": "markdown",
   "metadata": {},
   "source": [
    "### 11. All the companies founded on the second semester of the year. Limit your search to 1000 companies."
   ]
  },
  {
   "cell_type": "code",
   "execution_count": null,
   "metadata": {},
   "outputs": [],
   "source": [
    "founded_month"
   ]
  },
  {
   "cell_type": "code",
   "execution_count": 93,
   "metadata": {},
   "outputs": [
    {
     "data": {
      "text/plain": [
       "[{'name': 'Wetpaint', 'founded_year': 2005, 'founded_month': 10},\n",
       " {'name': 'Zoho', 'founded_year': 2005, 'founded_month': 9},\n",
       " {'name': 'Digg', 'founded_year': 2004, 'founded_month': 10},\n",
       " {'name': 'Omnidrive', 'founded_year': 2005, 'founded_month': 11},\n",
       " {'name': 'eBay', 'founded_year': 1995, 'founded_month': 9}]"
      ]
     },
     "execution_count": 93,
     "metadata": {},
     "output_type": "execute_result"
    }
   ],
   "source": [
    "proyect = {\"name\":1 , \"founded_year\":1, \"founded_month\":1, \"_id\":0}\n",
    "list(c.find({\"founded_month\": {\"$in\": list(range(7,13))}}, proyect).limit(5))"
   ]
  },
  {
   "cell_type": "markdown",
   "metadata": {},
   "source": [
    "### 12. All the companies founded before 2000 that have an acquisition amount of more than 10.000.00"
   ]
  },
  {
   "cell_type": "code",
   "execution_count": 95,
   "metadata": {},
   "outputs": [
    {
     "data": {
      "text/plain": [
       "[{'name': 'Postini',\n",
       "  'founded_year': 1999,\n",
       "  'acquisition': {'price_amount': 625000000}},\n",
       " {'name': 'SideStep',\n",
       "  'founded_year': 1999,\n",
       "  'acquisition': {'price_amount': 180000000}},\n",
       " {'name': 'Recipezaar',\n",
       "  'founded_year': 1999,\n",
       "  'acquisition': {'price_amount': 25000000}},\n",
       " {'name': 'PayPal',\n",
       "  'founded_year': 1998,\n",
       "  'acquisition': {'price_amount': 1500000000}},\n",
       " {'name': 'Snapfish',\n",
       "  'founded_year': 1999,\n",
       "  'acquisition': {'price_amount': 300000000}}]"
      ]
     },
     "execution_count": 95,
     "metadata": {},
     "output_type": "execute_result"
    }
   ],
   "source": [
    "proy = {\"name\":1 , \"founded_year\":1, \"acquisition.price_amount\":1, \"_id\":0}\n",
    "num1 = {\"founded_year\":{\"$lt\": 2000}}\n",
    "num2 = {\"acquisition.price_amount\":{\"$gt\": 10000000}}\n",
    "list(c.find({\"$and\": [num1,num2]},proy).limit(5))"
   ]
  },
  {
   "cell_type": "markdown",
   "metadata": {},
   "source": [
    "### 13. All the companies that have been acquired after 2010, order by the acquisition amount, and retrieve only their `name` and `acquisition` field."
   ]
  },
  {
   "cell_type": "code",
   "execution_count": 102,
   "metadata": {},
   "outputs": [
    {
     "data": {
      "text/plain": [
       "[{'name': 'T-Mobile',\n",
       "  'acquisition': {'price_amount': 39000000000,\n",
       "   'price_currency_code': 'USD',\n",
       "   'term_code': None,\n",
       "   'source_url': 'http://techcrunch.com/2011/03/20/in-the-race-for-more-spectrum-att-is-acquiring-t-mobile-for-39-billion/',\n",
       "   'source_description': 'In The Race For More Spectrum, AT&T Is Acquiring T-Mobile For $39 Billion',\n",
       "   'acquired_year': 2011,\n",
       "   'acquired_month': 3,\n",
       "   'acquired_day': 20,\n",
       "   'acquiring_company': {'name': 'AT&T', 'permalink': 'at-t'}}}]"
      ]
     },
     "execution_count": 102,
     "metadata": {},
     "output_type": "execute_result"
    }
   ],
   "source": [
    "proy = {\"name\":1 , \"acquisition\":1, \"_id\":0}\n",
    "num1 = {\"acquisition.acquired_year\":{\"$gt\": 2010}}\n",
    "list(c.find(num1,proy).limit(1).sort(\"acquisition.price_amount\",-1))"
   ]
  },
  {
   "cell_type": "markdown",
   "metadata": {},
   "source": [
    "### 14. Order the companies by their `founded year`, retrieving only their `name` and `founded year`."
   ]
  },
  {
   "cell_type": "code",
   "execution_count": 106,
   "metadata": {},
   "outputs": [
    {
     "data": {
      "text/plain": [
       "[{'name': 'Wamba', 'founded_year': 2013},\n",
       " {'name': 'Gimigo', 'founded_year': 2013},\n",
       " {'name': 'Clowdy', 'founded_year': 2013},\n",
       " {'name': 'Fluc', 'founded_year': 2013},\n",
       " {'name': 'Advaliant', 'founded_year': 2013},\n",
       " {'name': 'Pikk', 'founded_year': 2013},\n",
       " {'name': 'WhosCall', 'founded_year': 2013},\n",
       " {'name': 'SEOGroup', 'founded_year': 2013},\n",
       " {'name': 'iBazar', 'founded_year': 2013},\n",
       " {'name': 'Fixya', 'founded_year': 2013}]"
      ]
     },
     "execution_count": 106,
     "metadata": {},
     "output_type": "execute_result"
    }
   ],
   "source": [
    "proy = {\"name\":1 , \"founded_year\":1, \"_id\":0}\n",
    "ipo = {\"founded_year\":{\"$exists\": True}}\n",
    "list(c.find(ipo,proy).limit(10).sort(\"founded_year\",-1))"
   ]
  },
  {
   "cell_type": "markdown",
   "metadata": {},
   "source": [
    "### 15. All the companies that have been founded on the first seven days of the month, including the seventh. Sort them by their `acquisition price` in a descending order. Limit the search to 10 documents."
   ]
  },
  {
   "cell_type": "code",
   "execution_count": 112,
   "metadata": {},
   "outputs": [
    {
     "data": {
      "text/plain": [
       "[{'name': 'Facebook', 'founded_day': 1},\n",
       " {'name': 'Joost', 'founded_day': 1},\n",
       " {'name': 'Babelgum', 'founded_day': 1},\n",
       " {'name': 'Gizmoz', 'founded_day': 1},\n",
       " {'name': 'eBay', 'founded_day': 1},\n",
       " {'name': 'Technorati', 'founded_day': 1},\n",
       " {'name': 'Yahoo!', 'founded_day': 1},\n",
       " {'name': 'Fox Interactive Media', 'founded_day': 1},\n",
       " {'name': 'Omnidrive', 'founded_day': 1},\n",
       " {'name': 'Geni', 'founded_day': 1}]"
      ]
     },
     "execution_count": 112,
     "metadata": {},
     "output_type": "execute_result"
    }
   ],
   "source": [
    "proy = {\"name\":1 , \"founded_day\":1, \"_id\":0}\n",
    "ipo = {\"founded_day\":{\"$lte\": 7}}\n",
    "list(c.find(ipo,proy).limit(10).sort(\"acquisition.price_amount\",1))"
   ]
  },
  {
   "cell_type": "markdown",
   "metadata": {},
   "source": [
    "### 16. All the companies on the 'web' `category` that have more than 4000 employees. Sort them by the amount of employees in ascending order."
   ]
  },
  {
   "cell_type": "code",
   "execution_count": 119,
   "metadata": {},
   "outputs": [
    {
     "data": {
      "text/plain": [
       "[{'name': 'Expedia', 'category_code': 'web', 'number_of_employees': 4400},\n",
       " {'name': 'AOL', 'category_code': 'web', 'number_of_employees': 8000},\n",
       " {'name': 'Webkinz', 'category_code': 'web', 'number_of_employees': 8657},\n",
       " {'name': 'Los Angeles Times Media Group',\n",
       "  'category_code': 'web',\n",
       "  'number_of_employees': 10000},\n",
       " {'name': 'Rakuten', 'category_code': 'web', 'number_of_employees': 10000}]"
      ]
     },
     "execution_count": 119,
     "metadata": {},
     "output_type": "execute_result"
    }
   ],
   "source": [
    "proy = {\"name\":1 , \"category_code\":1, \"number_of_employees\":1, \"_id\":0}\n",
    "num1 = {\"number_of_employees\":{\"$gt\": 4000}}\n",
    "cat = {\"category_code\":\"web\"}\n",
    "list(c.find({\"$and\": [num1,cat]},proy).limit(5).sort(\"number_of_employees\",1))"
   ]
  },
  {
   "cell_type": "markdown",
   "metadata": {},
   "source": [
    "### 17. All the companies whose acquisition amount is more than 10.000.000, and currency is 'EUR'."
   ]
  },
  {
   "cell_type": "code",
   "execution_count": 121,
   "metadata": {},
   "outputs": [
    {
     "data": {
      "text/plain": [
       "[{'name': 'ZYB',\n",
       "  'acquisition': {'price_amount': 31500000,\n",
       "   'price_currency_code': 'EUR',\n",
       "   'term_code': 'cash',\n",
       "   'source_url': 'http://www.techcrunch.com/2008/05/16/danish-mobile-social-network-zyb-acquired-by-vodafone-for-e315-million/',\n",
       "   'source_description': 'Danish Network ZYB Acquired By Vodafone For â‚¬31.5 million',\n",
       "   'acquired_year': 2008,\n",
       "   'acquired_month': 5,\n",
       "   'acquired_day': 16,\n",
       "   'acquiring_company': {'name': 'Vodafone', 'permalink': 'vodafone'}}}]"
      ]
     },
     "execution_count": 121,
     "metadata": {},
     "output_type": "execute_result"
    }
   ],
   "source": [
    "proyect = {\"name\": 1, 'acquisition':1, '_id': 0}\n",
    "cond1 = {'acquisition.price_amount':{'$gt': 10000000}}\n",
    "cond2 = {'acquisition.price_currency_code': 'EUR'}\n",
    "list(c.find({\"$and\": [cond1,cond2]}, proyect).limit(1))"
   ]
  },
  {
   "cell_type": "markdown",
   "metadata": {},
   "source": [
    "### 18. All the companies that have been acquired on the first trimester of the year. Limit the search to 10 companies, and retrieve only their `name` and `acquisition` fields."
   ]
  },
  {
   "cell_type": "code",
   "execution_count": 123,
   "metadata": {},
   "outputs": [
    {
     "data": {
      "text/plain": [
       "[{'name': 'Kyte',\n",
       "  'acquisition': {'price_amount': None,\n",
       "   'price_currency_code': 'USD',\n",
       "   'term_code': None,\n",
       "   'source_url': 'http://techcrunch.com/2011/01/31/exclusive-kit-digital-acquires-kickapps-kewego-and-kyte-for-77-2-million/',\n",
       "   'source_description': 'KIT digital Acquires KickApps, Kewego AND Kyte For $77.2 Million',\n",
       "   'acquired_year': 2011,\n",
       "   'acquired_month': 1,\n",
       "   'acquired_day': 31,\n",
       "   'acquiring_company': {'name': 'KIT digital', 'permalink': 'kit-digital'}}},\n",
       " {'name': 'NetRatings',\n",
       "  'acquisition': {'price_amount': 327000000,\n",
       "   'price_currency_code': 'USD',\n",
       "   'term_code': 'cash',\n",
       "   'source_url': 'http://login.vnuemedia.com/hr/login/login_subscribe.jsp?id=0oqDem1gYIfIclz9i2%2Ffqj5NxCp2AC5DPbVnyT2da8GyV2mXjasabE128n69OrmcAh52%2FGE3pSG%2F%0AEKRYD9vh9EhrJrxukmUzh532fSMTZXL42gwPB80UWVtF1NwJ5UZSM%2BCkLU1mpYBoHFgiH%2Fi0f6Ax%0A9yMIVxt47t%2BHamhEQ0nkOEK24L',\n",
       "   'source_description': 'Nielsen buys rest of NetRatings',\n",
       "   'acquired_year': 2007,\n",
       "   'acquired_month': 2,\n",
       "   'acquired_day': None,\n",
       "   'acquiring_company': {'name': 'Nielsen', 'permalink': 'nielsen'}}},\n",
       " {'name': 'blogTV',\n",
       "  'acquisition': {'price_amount': None,\n",
       "   'price_currency_code': 'USD',\n",
       "   'term_code': None,\n",
       "   'source_url': 'http://techcrunch.com/2013/03/13/younow-buys-blogtv/',\n",
       "   'source_description': 'Live Social Video Network YouNow Acquires Streaming Service BlogTV',\n",
       "   'acquired_year': 2013,\n",
       "   'acquired_month': 3,\n",
       "   'acquired_day': 13,\n",
       "   'acquiring_company': {'name': 'YouNow', 'permalink': 'younow'}}},\n",
       " {'name': 'Livestream',\n",
       "  'acquisition': {'price_amount': None,\n",
       "   'price_currency_code': 'USD',\n",
       "   'term_code': 'cash_and_stock',\n",
       "   'source_url': '',\n",
       "   'source_description': 'company',\n",
       "   'acquired_year': 2008,\n",
       "   'acquired_month': 1,\n",
       "   'acquired_day': 1,\n",
       "   'acquiring_company': {'name': 'Adviqo', 'permalink': 'adviqo'}}},\n",
       " {'name': 'iContact',\n",
       "  'acquisition': {'price_amount': 169000000,\n",
       "   'price_currency_code': 'USD',\n",
       "   'term_code': 'cash_and_stock',\n",
       "   'source_url': 'http://techcrunch.com/2012/02/28/vocus-buys-email-marketing-company-icontact-for-169-million/',\n",
       "   'source_description': 'Vocus Buys Email Marketing Company iContact For $169 Million',\n",
       "   'acquired_year': 2012,\n",
       "   'acquired_month': 2,\n",
       "   'acquired_day': 28,\n",
       "   'acquiring_company': {'name': 'Vocus', 'permalink': 'vocus'}}}]"
      ]
     },
     "execution_count": 123,
     "metadata": {},
     "output_type": "execute_result"
    }
   ],
   "source": [
    "proyect = {\"name\": 1, 'acquisition':1,'_id': 0}\n",
    "list(c.find({\"acquisition.acquired_month\": {\"$in\": list(range(1,4))}}, proyect).limit(5))"
   ]
  },
  {
   "cell_type": "markdown",
   "metadata": {},
   "source": [
    "# Bonus\n",
    "### 19. All the companies that have been founded between 2000 and 2010, but have not been acquired before 2011."
   ]
  },
  {
   "cell_type": "code",
   "execution_count": 136,
   "metadata": {},
   "outputs": [
    {
     "data": {
      "text/plain": [
       "[{'name': 'Wetpaint', 'founded_year': 2005},\n",
       " {'name': 'Zoho', 'founded_year': 2005},\n",
       " {'name': 'Digg', 'founded_year': 2004},\n",
       " {'name': 'Facebook', 'founded_year': 2004},\n",
       " {'name': 'Omnidrive', 'founded_year': 2005}]"
      ]
     },
     "execution_count": 136,
     "metadata": {},
     "output_type": "execute_result"
    }
   ],
   "source": [
    "proyect = {\"name\": 1, 'founded_year':1,'_id': 0}\n",
    "cond1 = {\"founded_year\":{\"$in\": list(range(2000,20011))}}\n",
    "cond2 = {\"acquisition.acquired_year\":{\"$nin\": list(range(0,2012))}}\n",
    "list(c.find({\"$and\": [cond1,cond2]}, proyect).limit(5))"
   ]
  },
  {
   "cell_type": "markdown",
   "metadata": {},
   "source": [
    "### 20. All the companies that have been 'deadpooled' after the third year."
   ]
  },
  {
   "cell_type": "code",
   "execution_count": null,
   "metadata": {},
   "outputs": [],
   "source": [
    "proyect = {\"name\":1 , \"deadpooled_year\":1, \"_id\":0}\n",
    "cond1 = {\"name\":{\"$exists\": True}}\n",
    "cond2 = {\"deadpooled_year\":{'$gt': 3}}\n",
    "cond3 = {where"
   ]
  },
  {
   "cell_type": "markdown",
   "metadata": {},
   "source": [
    "No he entendido la [documentación](https://docs.mongodb.com/manual/reference/operator/query/where/)\n",
    "le he dedicado un rato... pero nada de nada :("
   ]
  }
 ],
 "metadata": {
  "kernelspec": {
   "display_name": "ironhack",
   "language": "python",
   "name": "ironhack"
  },
  "language_info": {
   "codemirror_mode": {
    "name": "ipython",
    "version": 3
   },
   "file_extension": ".py",
   "mimetype": "text/x-python",
   "name": "python",
   "nbconvert_exporter": "python",
   "pygments_lexer": "ipython3",
   "version": "3.8.12"
  }
 },
 "nbformat": 4,
 "nbformat_minor": 2
}
