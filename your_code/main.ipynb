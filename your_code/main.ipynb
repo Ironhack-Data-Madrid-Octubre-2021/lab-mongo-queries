{
 "cells": [
  {
   "cell_type": "markdown",
   "metadata": {},
   "source": [
    "# Advanced Querying Mongo"
   ]
  },
  {
   "cell_type": "markdown",
   "metadata": {},
   "source": [
    "Importing libraries and setting up connection"
   ]
  },
  {
   "cell_type": "code",
   "execution_count": 1,
   "metadata": {},
   "outputs": [
    {
     "data": {
      "text/plain": [
       "['First_try', 'admin', 'config', 'ironhack', 'local']"
      ]
     },
     "execution_count": 1,
     "metadata": {},
     "output_type": "execute_result"
    }
   ],
   "source": [
    "from pymongo import MongoClient\n",
    "client = MongoClient(\"localhost:27017\")\n",
    "client.list_database_names()"
   ]
  },
  {
   "cell_type": "code",
   "execution_count": 2,
   "metadata": {},
   "outputs": [
    {
     "data": {
      "text/plain": [
       "['companies']"
      ]
     },
     "execution_count": 2,
     "metadata": {},
     "output_type": "execute_result"
    }
   ],
   "source": [
    "db = client.get_database(\"ironhack\")\n",
    "db.list_collection_names()"
   ]
  },
  {
   "cell_type": "code",
   "execution_count": 3,
   "metadata": {},
   "outputs": [],
   "source": [
    "c = db.get_collection(\"companies\")\n",
    "#c.find_one()"
   ]
  },
  {
   "cell_type": "markdown",
   "metadata": {},
   "source": [
    "### 1. All the companies whose name match 'Babelgum'. Retrieve only their `name` field."
   ]
  },
  {
   "cell_type": "code",
   "execution_count": 4,
   "metadata": {},
   "outputs": [],
   "source": [
    "c_name = \"Babelgum\"\n",
    "List_Babelgum = list(c.find({\"name\":c_name}))\n",
    "#List_Babelgum #solo hay un resultado."
   ]
  },
  {
   "cell_type": "markdown",
   "metadata": {},
   "source": [
    "### 2. All the companies that have more than 5000 employees. Limit the search to 20 companies and sort them by **number of employees**."
   ]
  },
  {
   "cell_type": "code",
   "execution_count": 5,
   "metadata": {},
   "outputs": [],
   "source": [
    "# Your Code #number_of_employees\n",
    "more_5000 = {\"$gt\": 5000}\n",
    "emplo_5000 = list(c.find({\"number_of_employees\":more_5000}).sort(\"number_of_employees\",-1).limit(20))"
   ]
  },
  {
   "cell_type": "markdown",
   "metadata": {},
   "source": [
    "### 3. All the companies founded between 2000 and 2005, both years included. Retrieve only the `name` and `founded_year` fields."
   ]
  },
  {
   "cell_type": "code",
   "execution_count": 6,
   "metadata": {},
   "outputs": [
    {
     "data": {
      "text/plain": [
       "[{'name': 'Digg'},\n",
       " {'name': 'Facebook'},\n",
       " {'name': 'StumbleUpon'},\n",
       " {'name': 'Gizmoz'},\n",
       " {'name': 'Plaxo'}]"
      ]
     },
     "execution_count": 6,
     "metadata": {},
     "output_type": "execute_result"
    }
   ],
   "source": [
    "#founded_year\n",
    "proy_name = {\"name\":1,\"_id\":0}\n",
    "more_2000 ={\"founded_year\" : {\"$gt\":2000}}\n",
    "less_2005 ={\"founded_year\" : {\"$lt\":2005}}\n",
    "list(c.find({\"$and\":[more_2000,less_2005]},proy_name))[0:5]"
   ]
  },
  {
   "cell_type": "markdown",
   "metadata": {},
   "source": [
    "### 4. All the companies that had a Valuation Amount of more than 100.000.000 and have been founded before 2010. Retrieve only the `name` and `ipo` fields."
   ]
  },
  {
   "cell_type": "code",
   "execution_count": 7,
   "metadata": {},
   "outputs": [
    {
     "data": {
      "text/plain": [
       "[{'name': 'Facebook',\n",
       "  'ipo': {'valuation_amount': 104000000000,\n",
       "   'valuation_currency_code': 'USD',\n",
       "   'pub_year': 2012,\n",
       "   'pub_month': 5,\n",
       "   'pub_day': 18,\n",
       "   'stock_symbol': 'NASDAQ:FB'}},\n",
       " {'name': 'Twitter',\n",
       "  'ipo': {'valuation_amount': 18100000000,\n",
       "   'valuation_currency_code': 'USD',\n",
       "   'pub_year': 2013,\n",
       "   'pub_month': 11,\n",
       "   'pub_day': 7,\n",
       "   'stock_symbol': 'NYSE:TWTR'}}]"
      ]
     },
     "execution_count": 7,
     "metadata": {},
     "output_type": "execute_result"
    }
   ],
   "source": [
    "proy_name_ipo = {\"name\":1,\"_id\":0,\"ipo\":1}\n",
    "va_100 = {\"ipo.valuation_amount\": {\"$gt\":100000000} }\n",
    "found_2010 ={\"founded_year\" : {\"$lt\":2010}}\n",
    "list(c.find({\"$and\":[va_100,found_2010]},proy_name_ipo))[0:2]"
   ]
  },
  {
   "cell_type": "markdown",
   "metadata": {},
   "source": [
    "### 5. All the companies that have less than 1000 employees and have been founded before 2005. Order them by the number of employees and limit the search to 10 companies."
   ]
  },
  {
   "cell_type": "code",
   "execution_count": 8,
   "metadata": {},
   "outputs": [],
   "source": [
    "emplo_1000 = {\"number_of_employees\":{\"$lt\":1000}}\n",
    "less_2005 ={\"founded_year\" : {\"$lt\":2005}}\n",
    "lista = list(c.find({\"$and\":[emplo_1000,less_2005]}).sort(\"number_of_employees\",-1).limit(10))"
   ]
  },
  {
   "cell_type": "markdown",
   "metadata": {},
   "source": [
    "### 6. All the companies that don't include the `partners` field."
   ]
  },
  {
   "cell_type": "code",
   "execution_count": 9,
   "metadata": {},
   "outputs": [
    {
     "data": {
      "text/plain": [
       "[]"
      ]
     },
     "execution_count": 9,
     "metadata": {},
     "output_type": "execute_result"
    }
   ],
   "source": [
    "part = {\"partners\":{\"$exists\": False}}\n",
    "list(c.find(part))"
   ]
  },
  {
   "cell_type": "markdown",
   "metadata": {},
   "source": [
    "### 7. All the companies that have a null type of value on the `category_code` field."
   ]
  },
  {
   "cell_type": "code",
   "execution_count": 10,
   "metadata": {
    "scrolled": true
   },
   "outputs": [],
   "source": [
    "lista = list(c.find({\"category_code\" : {\"$type\": \"null\"}}))"
   ]
  },
  {
   "cell_type": "markdown",
   "metadata": {},
   "source": [
    "### 8. All the companies that have at least 100 employees but less than 1000. Retrieve only the `name` and `number of employees` fields."
   ]
  },
  {
   "cell_type": "code",
   "execution_count": 11,
   "metadata": {},
   "outputs": [
    {
     "data": {
      "text/plain": [
       "[{'name': 'AdventNet', 'number_of_employees': 600},\n",
       " {'name': 'AddThis', 'number_of_employees': 120},\n",
       " {'name': 'OpenX', 'number_of_employees': 305},\n",
       " {'name': 'LifeLock', 'number_of_employees': 644},\n",
       " {'name': 'Jajah', 'number_of_employees': 110}]"
      ]
     },
     "execution_count": 11,
     "metadata": {},
     "output_type": "execute_result"
    }
   ],
   "source": [
    "proy_name_num = {\"name\":1,\"_id\":0,\"number_of_employees\":1}\n",
    "emplo_1000 = {\"number_of_employees\":{\"$lt\":1000}}\n",
    "emplo_l_100 = {\"number_of_employees\":{\"$gte\":100}}\n",
    "list(c.find({\"$and\":[emplo_1000,emplo_l_100]},proy_name_num))[0:5]"
   ]
  },
  {
   "cell_type": "markdown",
   "metadata": {},
   "source": [
    "### 9. Order all the companies by their IPO price in a descending order."
   ]
  },
  {
   "cell_type": "code",
   "execution_count": 12,
   "metadata": {},
   "outputs": [],
   "source": [
    "#list(c.find().sort(\"ipo.valuation_amount\",-1))"
   ]
  },
  {
   "cell_type": "markdown",
   "metadata": {},
   "source": [
    "### 10. Retrieve the 10 companies with more employees, order by the `number of employees`"
   ]
  },
  {
   "cell_type": "code",
   "execution_count": 13,
   "metadata": {},
   "outputs": [],
   "source": [
    "#list(c.find().sort(\"number_of_employees\",-1).limit(10))"
   ]
  },
  {
   "cell_type": "markdown",
   "metadata": {},
   "source": [
    "### 11. All the companies founded on the second semester of the year. Limit your search to 1000 companies."
   ]
  },
  {
   "cell_type": "code",
   "execution_count": 14,
   "metadata": {},
   "outputs": [],
   "source": [
    "found_sem = {\"founded_month\":{\"$gte\":6}}\n",
    "#list(c.find(found_sem).limit(1000))"
   ]
  },
  {
   "cell_type": "markdown",
   "metadata": {},
   "source": [
    "### 12. All the companies founded before 2000 that have an acquisition amount of more than 10.000.00"
   ]
  },
  {
   "cell_type": "code",
   "execution_count": 15,
   "metadata": {},
   "outputs": [],
   "source": [
    "found_200 = {\"founded_year\":{\"$lt\":2000}}\n",
    "ac_10 = {\"acquisitions.price_amount\":{\"$gt\":10000000}}\n",
    "#list(c.find({\"$and\":[found_200, ac_10]}))[0]"
   ]
  },
  {
   "cell_type": "markdown",
   "metadata": {},
   "source": [
    "### 13. All the companies that have been acquired after 2010, order by the acquisition amount, and retrieve only their `name` and `acquisition` field."
   ]
  },
  {
   "cell_type": "code",
   "execution_count": 16,
   "metadata": {},
   "outputs": [
    {
     "data": {
      "text/plain": [
       "[{'name': 'Facebook', 'acquisition': None},\n",
       " {'name': 'Twitter', 'acquisition': None},\n",
       " {'name': 'eBay', 'acquisition': None},\n",
       " {'name': 'CBS', 'acquisition': None},\n",
       " {'name': 'Cisco', 'acquisition': None}]"
      ]
     },
     "execution_count": 16,
     "metadata": {},
     "output_type": "execute_result"
    }
   ],
   "source": [
    "proy_ac = {\"_id\":0, \"acquisition\":1, \"name\":1}\n",
    "after_2010 =  {\"acquisitions.acquired_year\": {\"$gt\":2010}}\n",
    "list(c.find(after_2010,proy_ac).sort(\"acquisition\",1))[0:5]"
   ]
  },
  {
   "cell_type": "markdown",
   "metadata": {},
   "source": [
    "### 14. Order the companies by their `founded year`, retrieving only their `name` and `founded year`."
   ]
  },
  {
   "cell_type": "code",
   "execution_count": 17,
   "metadata": {},
   "outputs": [
    {
     "data": {
      "text/plain": [
       "[{'name': 'Flektor'}, {'name': 'Lala'}, {'name': 'SpinVox'}]"
      ]
     },
     "execution_count": 17,
     "metadata": {},
     "output_type": "execute_result"
    }
   ],
   "source": [
    "proy_name_year = {\"_id\":0, \"name\":1}\n",
    "list(c.find({},proy_name_year).sort(\"founded_year\",1))[0:3]"
   ]
  },
  {
   "cell_type": "markdown",
   "metadata": {},
   "source": [
    "### 15. All the companies that have been founded on the first seven days of the month, including the seventh. Sort them by their `acquisition price` in a descending order. Limit the search to 10 documents."
   ]
  },
  {
   "cell_type": "code",
   "execution_count": 18,
   "metadata": {},
   "outputs": [],
   "source": [
    "f_month = {\"founded_month\":1}\n",
    "f_day = {\"founded_day\":{\"$lte\":7}}\n",
    "#list(c.find({\"$and\":[f_month,f_day]}).sort(\"acquisitions.price_amount\",-1).limit(10))"
   ]
  },
  {
   "cell_type": "markdown",
   "metadata": {},
   "source": [
    "### 16. All the companies on the 'web' `category` that have more than 4000 employees. Sort them by the amount of employees in ascending order."
   ]
  },
  {
   "cell_type": "code",
   "execution_count": 19,
   "metadata": {},
   "outputs": [],
   "source": [
    "#category_code': 'web',\n",
    "cat_Web ={'category_code': 'web'}\n",
    "emp_4000 = {'number_of_employees':{\"$gt\":4000}}\n",
    "#list(c.find({\"$and\":[cat_Web,emp_4000]}).sort(\"number_of_employees\",1))[0:3]\n"
   ]
  },
  {
   "cell_type": "markdown",
   "metadata": {},
   "source": [
    "### 17. All the companies whose acquisition amount is more than 10.000.000, and currency is 'EUR'."
   ]
  },
  {
   "cell_type": "code",
   "execution_count": 20,
   "metadata": {},
   "outputs": [],
   "source": [
    "#acquisition.price_currency_code   price_amount\n",
    "ac_pr = {\"acquisition.price_amount\":{\"$gt\":10000000}}\n",
    "ac_curr = {\"acquisition.price_currency_code\":\"EUR\" }\n",
    "#list(c.find({\"$and\" : [ac_pr,ac_curr]}))"
   ]
  },
  {
   "cell_type": "markdown",
   "metadata": {},
   "source": [
    "### 18. All the companies that have been acquired on the first trimester of the year. Limit the search to 10 companies, and retrieve only their `name` and `acquisition` fields."
   ]
  },
  {
   "cell_type": "code",
   "execution_count": 21,
   "metadata": {},
   "outputs": [
    {
     "data": {
      "text/plain": [
       "[{'name': 'Facebook', 'acquisition': None}]"
      ]
     },
     "execution_count": 21,
     "metadata": {},
     "output_type": "execute_result"
    }
   ],
   "source": [
    "pro_first = {\"_id\":0,\"name\":1,\"acquisition\":1}\n",
    "first_tri = {\"founded_month\":{\"$lte\":3}}\n",
    "list(c.find(first_tri,pro_first).limit(10))[0:1]"
   ]
  },
  {
   "cell_type": "markdown",
   "metadata": {},
   "source": [
    "# Bonus\n",
    "### 19. All the companies that have been founded between 2000 and 2010, but have not been acquired before 2011."
   ]
  },
  {
   "cell_type": "code",
   "execution_count": 22,
   "metadata": {},
   "outputs": [],
   "source": [
    "found_before = {\"founded_year\":{\"$lte\":2010}}\n",
    "found_after = {\"founded_year\":{\"$gte\":2000}}\n",
    "ac_year = {\"acquisitions.acquired_year\":{\"$gte\":2011}}\n",
    "\n",
    "#list(c.find({\"$and\":[found_before,found_after,ac_year]}))"
   ]
  },
  {
   "cell_type": "markdown",
   "metadata": {},
   "source": [
    "### 20. All the companies that have been 'deadpooled' after the third year."
   ]
  },
  {
   "cell_type": "code",
   "execution_count": 23,
   "metadata": {},
   "outputs": [
    {
     "data": {
      "text/plain": [
       "655"
      ]
     },
     "execution_count": 23,
     "metadata": {},
     "output_type": "execute_result"
    }
   ],
   "source": [
    "### list(c.find({\"$where\": \"(deadpooled_year - founded_year > 3)\"} ))\n",
    "# lo he intentado de muchas maneras y soy incapaz de averiguar cómo hacerlo...\n",
    "\n",
    "len(list(c.find({\"$where\": \"(this.deadpooled_year - this.founded_year > 3)\"} )))\n",
    "\n",
    "#Ras ha explicado que hacía falta el this. y funciona perfectamente... :"
   ]
  },
  {
   "cell_type": "code",
   "execution_count": null,
   "metadata": {},
   "outputs": [],
   "source": []
  }
 ],
 "metadata": {
  "kernelspec": {
   "display_name": "ironhack",
   "language": "python",
   "name": "ironhack"
  },
  "language_info": {
   "codemirror_mode": {
    "name": "ipython",
    "version": 3
   },
   "file_extension": ".py",
   "mimetype": "text/x-python",
   "name": "python",
   "nbconvert_exporter": "python",
   "pygments_lexer": "ipython3",
   "version": "3.8.5"
  }
 },
 "nbformat": 4,
 "nbformat_minor": 2
}
