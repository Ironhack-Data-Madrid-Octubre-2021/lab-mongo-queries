{
 "cells": [
  {
   "cell_type": "markdown",
   "metadata": {},
   "source": [
    "# Advanced Querying Mongo"
   ]
  },
  {
   "cell_type": "markdown",
   "metadata": {},
   "source": [
    "Importing libraries and setting up connection"
   ]
  },
  {
   "cell_type": "code",
   "execution_count": null,
   "metadata": {},
   "outputs": [],
   "source": [
    "!pip install pymongo"
   ]
  },
  {
   "cell_type": "code",
   "execution_count": 1,
   "metadata": {},
   "outputs": [],
   "source": [
    "from pymongo import MongoClient\n",
    "client = MongoClient(\"localhost:27017\")"
   ]
  },
  {
   "cell_type": "code",
   "execution_count": 2,
   "metadata": {},
   "outputs": [
    {
     "data": {
      "text/plain": [
       "MongoClient(host=['localhost:27017'], document_class=dict, tz_aware=False, connect=True)"
      ]
     },
     "execution_count": 2,
     "metadata": {},
     "output_type": "execute_result"
    }
   ],
   "source": [
    "client"
   ]
  },
  {
   "cell_type": "code",
   "execution_count": 3,
   "metadata": {},
   "outputs": [
    {
     "data": {
      "text/plain": [
       "['admin', 'config', 'ironhack', 'local']"
      ]
     },
     "execution_count": 3,
     "metadata": {},
     "output_type": "execute_result"
    }
   ],
   "source": [
    "client.list_database_names()"
   ]
  },
  {
   "cell_type": "code",
   "execution_count": 4,
   "metadata": {},
   "outputs": [],
   "source": [
    "db = client.get_database(\"ironhack\")"
   ]
  },
  {
   "cell_type": "code",
   "execution_count": 5,
   "metadata": {},
   "outputs": [
    {
     "data": {
      "text/plain": [
       "Database(MongoClient(host=['localhost:27017'], document_class=dict, tz_aware=False, connect=True), 'ironhack')"
      ]
     },
     "execution_count": 5,
     "metadata": {},
     "output_type": "execute_result"
    }
   ],
   "source": [
    "db"
   ]
  },
  {
   "cell_type": "code",
   "execution_count": 6,
   "metadata": {},
   "outputs": [
    {
     "data": {
      "text/plain": [
       "['companies']"
      ]
     },
     "execution_count": 6,
     "metadata": {},
     "output_type": "execute_result"
    }
   ],
   "source": [
    "db.list_collection_names()"
   ]
  },
  {
   "cell_type": "code",
   "execution_count": 7,
   "metadata": {},
   "outputs": [
    {
     "data": {
      "text/plain": [
       "Collection(Database(MongoClient(host=['localhost:27017'], document_class=dict, tz_aware=False, connect=True), 'ironhack'), 'companies')"
      ]
     },
     "execution_count": 7,
     "metadata": {},
     "output_type": "execute_result"
    }
   ],
   "source": [
    "c = db.get_collection(\"companies\")\n",
    "c"
   ]
  },
  {
   "cell_type": "markdown",
   "metadata": {},
   "source": [
    "### 1. All the companies whose name match 'Babelgum'. Retrieve only their `name` field."
   ]
  },
  {
   "cell_type": "code",
   "execution_count": 89,
   "metadata": {},
   "outputs": [
    {
     "data": {
      "text/plain": [
       "[{'name': 'Babelgum'}]"
      ]
     },
     "execution_count": 89,
     "metadata": {},
     "output_type": "execute_result"
    }
   ],
   "source": [
    "proyec = {'name':1, '_id':0}\n",
    "query = {'name':'Babelgum'}\n",
    "Bg = list(c.find(query,proyec))\n",
    "Bg"
   ]
  },
  {
   "cell_type": "markdown",
   "metadata": {},
   "source": [
    "### 2. All the companies that have more than 5000 employees. Limit the search to 20 companies and sort them by **number of employees**."
   ]
  },
  {
   "cell_type": "code",
   "execution_count": 90,
   "metadata": {},
   "outputs": [],
   "source": [
    "query = {\"number_of_employees\": {\"$gt\": 5000}}\n",
    "comp_5000 = list(c.find(query).sort(\"number_of_employees\", -1).limit(20))\n",
    "#comp_5000"
   ]
  },
  {
   "cell_type": "markdown",
   "metadata": {},
   "source": [
    "### 3. All the companies founded between 2000 and 2005, both years included. Retrieve only the `name` and `founded_year` fields."
   ]
  },
  {
   "cell_type": "code",
   "execution_count": 91,
   "metadata": {},
   "outputs": [],
   "source": [
    "c1 = {\"founded_year\": {\"$gt\": 1999}}\n",
    "c2 = {\"founded_year\": {\"$lt\": 2006}}\n",
    "proyec = {\"name\":1, \"_id\":0, \"founded_year\":1}\n",
    "query = {'$and':[c1, c2]}\n",
    "comp_05 = list(c.find(query,proyec))\n",
    "#comp_05"
   ]
  },
  {
   "cell_type": "markdown",
   "metadata": {},
   "source": [
    "### 4. All the companies that had a Valuation Amount of more than 100.000.000 and have been founded before 2010. Retrieve only the `name` and `ipo` fields."
   ]
  },
  {
   "cell_type": "code",
   "execution_count": 92,
   "metadata": {},
   "outputs": [],
   "source": [
    "c1={'ipo.valuation_amount':{'$gt':100000000}}\n",
    "c2 = {'founded_year':{'$lt':2010}}\n",
    "proyec = {\"name\":1, \"_id\":0, \"ipo\":1}\n",
    "query = {'$and':[c1, c2]}\n",
    "comp_1010 = list(c.find(query,proyec))\n",
    "#comp_1010"
   ]
  },
  {
   "cell_type": "markdown",
   "metadata": {},
   "source": [
    "### 5. All the companies that have less than 1000 employees and have been founded before 2005. Order them by the number of employees and limit the search to 10 companies."
   ]
  },
  {
   "cell_type": "code",
   "execution_count": 94,
   "metadata": {},
   "outputs": [
    {
     "data": {
      "text/plain": [
       "[{'name': 'Infinera Corporation',\n",
       "  'ipo': {'valuation_amount': None,\n",
       "   'valuation_currency_code': 'USD',\n",
       "   'pub_year': 2007,\n",
       "   'pub_month': 6,\n",
       "   'pub_day': 7,\n",
       "   'stock_symbol': 'INFN'}},\n",
       " {'name': 'NorthPoint Communications Group', 'ipo': None},\n",
       " {'name': '888 Holdings', 'ipo': None},\n",
       " {'name': 'Forrester Research',\n",
       "  'ipo': {'valuation_amount': None,\n",
       "   'valuation_currency_code': 'JPY',\n",
       "   'pub_year': 1987,\n",
       "   'pub_month': 6,\n",
       "   'pub_day': 16,\n",
       "   'stock_symbol': 'FORR'}},\n",
       " {'name': 'Webmetrics', 'ipo': None},\n",
       " {'name': 'SonicWALL', 'ipo': None},\n",
       " {'name': 'Cornerstone OnDemand',\n",
       "  'ipo': {'valuation_amount': 900000000,\n",
       "   'valuation_currency_code': 'USD',\n",
       "   'pub_year': 2011,\n",
       "   'pub_month': 7,\n",
       "   'pub_day': 5,\n",
       "   'stock_symbol': 'CSOD'}},\n",
       " {'name': 'Buongiorno',\n",
       "  'ipo': {'valuation_amount': None,\n",
       "   'valuation_currency_code': 'USD',\n",
       "   'pub_year': 2003,\n",
       "   'pub_month': 7,\n",
       "   'pub_day': 17,\n",
       "   'stock_symbol': 'BNG'}},\n",
       " {'name': 'Cvent',\n",
       "  'ipo': {'valuation_amount': None,\n",
       "   'valuation_currency_code': 'USD',\n",
       "   'pub_year': 2013,\n",
       "   'pub_month': 7,\n",
       "   'pub_day': 9,\n",
       "   'stock_symbol': 'NYSE:CVT'}},\n",
       " {'name': 'ZoomInfo', 'ipo': None}]"
      ]
     },
     "execution_count": 94,
     "metadata": {},
     "output_type": "execute_result"
    }
   ],
   "source": [
    "c1={'number_of_employees': {'$lt' : 1000}}\n",
    "c2 = {'founded_year':{'$lt':2005}}\n",
    "proyec = {'name':1, 'ipo':1, '_id':0}\n",
    "query = {'$and':[c1, c2]}\n",
    "list(c.find(query,proyec).sort('number_of_employees',-1).limit(10))"
   ]
  },
  {
   "cell_type": "markdown",
   "metadata": {},
   "source": [
    "### 6. All the companies that don't include the `partners` field."
   ]
  },
  {
   "cell_type": "code",
   "execution_count": 95,
   "metadata": {},
   "outputs": [
    {
     "data": {
      "text/plain": [
       "[]"
      ]
     },
     "execution_count": 95,
     "metadata": {},
     "output_type": "execute_result"
    }
   ],
   "source": [
    "c1 = {\"partners\": {\"$exists\": False}}\n",
    "comp_part = list(c.find(c1))\n",
    "comp_part"
   ]
  },
  {
   "cell_type": "markdown",
   "metadata": {},
   "source": [
    "### 7. All the companies that have a null type of value on the `category_code` field."
   ]
  },
  {
   "cell_type": "code",
   "execution_count": 96,
   "metadata": {},
   "outputs": [
    {
     "data": {
      "text/plain": [
       "[]"
      ]
     },
     "execution_count": 96,
     "metadata": {},
     "output_type": "execute_result"
    }
   ],
   "source": [
    "c1 = {\"category_code\": {\"$exists\": False}}\n",
    "comp_cat = list(c.find(c1))\n",
    "comp_cat"
   ]
  },
  {
   "cell_type": "markdown",
   "metadata": {},
   "source": [
    "### 8. All the companies that have at least 100 employees but less than 1000. Retrieve only the `name` and `number of employees` fields."
   ]
  },
  {
   "cell_type": "code",
   "execution_count": 97,
   "metadata": {},
   "outputs": [],
   "source": [
    "c1 = {\"number_of_employees\": {\"$lt\": 1000}}\n",
    "c2 = {\"number_of_employees\": {\"$gt\": 99}}\n",
    "proyec = {\"name\": 1, \"number_of_employees\": 1, \"_id\": 0}\n",
    "query = {\"$and\": [c1,c2]}\n",
    "comp_100 = list(c.find(query,proyec))\n",
    "#comp_100"
   ]
  },
  {
   "cell_type": "markdown",
   "metadata": {},
   "source": [
    "### 9. Order all the companies by their IPO price in a descending order."
   ]
  },
  {
   "cell_type": "code",
   "execution_count": 98,
   "metadata": {},
   "outputs": [],
   "source": [
    "comp_ord = list(c.find().sort('ipo.valuation_amount',-1))\n",
    "#comp_ord"
   ]
  },
  {
   "cell_type": "markdown",
   "metadata": {},
   "source": [
    "### 10. Retrieve the 10 companies with more employees, order by the `number of employees`"
   ]
  },
  {
   "cell_type": "code",
   "execution_count": 99,
   "metadata": {},
   "outputs": [
    {
     "data": {
      "text/plain": [
       "[{'name': 'Siemens', 'number_of_employees': 405000},\n",
       " {'name': 'IBM', 'number_of_employees': 388000},\n",
       " {'name': 'Toyota', 'number_of_employees': 320000},\n",
       " {'name': 'PayPal', 'number_of_employees': 300000},\n",
       " {'name': 'Nippon Telegraph and Telephone Corporation',\n",
       "  'number_of_employees': 227000},\n",
       " {'name': 'Samsung Electronics', 'number_of_employees': 221726},\n",
       " {'name': 'Accenture', 'number_of_employees': 205000},\n",
       " {'name': 'Tata Consultancy Services', 'number_of_employees': 200300},\n",
       " {'name': 'Flextronics International', 'number_of_employees': 200000},\n",
       " {'name': 'Safeway', 'number_of_employees': 186000}]"
      ]
     },
     "execution_count": 99,
     "metadata": {},
     "output_type": "execute_result"
    }
   ],
   "source": [
    "proyec = {\"name\": 1, \"number_of_employees\": 1, '_id': 0}\n",
    "c1 = {\"number_of_employees\": {\"$exists\": True}}\n",
    "list(c.find(c1,proyec).limit(10).sort(\"number_of_employees\",-1))"
   ]
  },
  {
   "cell_type": "markdown",
   "metadata": {},
   "source": [
    "### 11. All the companies founded on the second semester of the year. Limit your search to 1000 companies."
   ]
  },
  {
   "cell_type": "code",
   "execution_count": 100,
   "metadata": {},
   "outputs": [
    {
     "data": {
      "text/plain": [
       "[{'name': 'Wetpaint', 'founded_year': 2005, 'founded_month': 10},\n",
       " {'name': 'Zoho', 'founded_year': 2005, 'founded_month': 9},\n",
       " {'name': 'Digg', 'founded_year': 2004, 'founded_month': 10},\n",
       " {'name': 'Omnidrive', 'founded_year': 2005, 'founded_month': 11},\n",
       " {'name': 'eBay', 'founded_year': 1995, 'founded_month': 9}]"
      ]
     },
     "execution_count": 100,
     "metadata": {},
     "output_type": "execute_result"
    }
   ],
   "source": [
    "proyec = {\"name\": 1, \"founded_year\": 1, 'founded_month':1, '_id': 0}\n",
    "list(c.find({\"founded_month\": {\"$in\": [7,8,9,10,11,12]}}, proyec).limit(5))"
   ]
  },
  {
   "cell_type": "markdown",
   "metadata": {},
   "source": [
    "### 12. All the companies founded before 2000 that have an acquisition amount of more than 10.000.00"
   ]
  },
  {
   "cell_type": "code",
   "execution_count": 101,
   "metadata": {},
   "outputs": [],
   "source": [
    "proyec = {\"acquisition\": 1, \"name\": 1, \"founded_year\": 1, '_id': 0}\n",
    "c1 = {\"founded_year\":{\"$lt\": 2000}}\n",
    "c2 = {\"acquisition.price_amount\": {\"$gt\": 10000000}}\n",
    "query = {\"$and\": [c1,c2]}\n",
    "comp_foun = list(c.find(query,proyec).sort(\"acquisition.price_amount\",-1))\n",
    "#comp_foun"
   ]
  },
  {
   "cell_type": "markdown",
   "metadata": {},
   "source": [
    "### 13. All the companies that have been acquired after 2010, order by the acquisition amount, and retrieve only their `name` and `acquisition` field."
   ]
  },
  {
   "cell_type": "code",
   "execution_count": 102,
   "metadata": {},
   "outputs": [],
   "source": [
    "proyec = {\"name\": 1, 'acquisition':1, '_id': 0}\n",
    "c1 = {'acquisition.acquired_year':{'$gt': 2010}}\n",
    "comp_acq = list(c.find(c1, proyec).sort('acquisition.price_amount',-1))\n",
    "#comp_acq"
   ]
  },
  {
   "cell_type": "markdown",
   "metadata": {},
   "source": [
    "### 14. Order the companies by their `founded year`, retrieving only their `name` and `founded year`."
   ]
  },
  {
   "cell_type": "code",
   "execution_count": 103,
   "metadata": {},
   "outputs": [],
   "source": [
    "proyec = {\"name\": 1, 'founded_year':1, '_id': 0}\n",
    "c1 = {\"founded_year\": {\"$exists\": True}}\n",
    "comp_fy = list(c.find(c1,proyec).sort('founded_year',-1))\n",
    "#comp_fy"
   ]
  },
  {
   "cell_type": "markdown",
   "metadata": {},
   "source": [
    "### 15. All the companies that have been founded on the first seven days of the month, including the seventh. Sort them by their `acquisition price` in a descending order. Limit the search to 10 documents."
   ]
  },
  {
   "cell_type": "code",
   "execution_count": 104,
   "metadata": {},
   "outputs": [
    {
     "data": {
      "text/plain": [
       "[{'name': 'Facebook', 'founded_day': 1},\n",
       " {'name': 'Joost', 'founded_day': 1},\n",
       " {'name': 'Babelgum', 'founded_day': 1},\n",
       " {'name': 'Gizmoz', 'founded_day': 1},\n",
       " {'name': 'eBay', 'founded_day': 1},\n",
       " {'name': 'Technorati', 'founded_day': 1},\n",
       " {'name': 'Yahoo!', 'founded_day': 1},\n",
       " {'name': 'Fox Interactive Media', 'founded_day': 1},\n",
       " {'name': 'Omnidrive', 'founded_day': 1},\n",
       " {'name': 'Geni', 'founded_day': 1}]"
      ]
     },
     "execution_count": 104,
     "metadata": {},
     "output_type": "execute_result"
    }
   ],
   "source": [
    "proyec = {\"name\": 1, 'founded_day':1, '_id': 0}\n",
    "c1 = {'founded_day':{'$lte': 7}}\n",
    "list(c.find(c1,proyec).sort('acquisition.price_amount',1).limit(10))"
   ]
  },
  {
   "cell_type": "markdown",
   "metadata": {},
   "source": [
    "### 16. All the companies on the 'web' `category` that have more than 4000 employees. Sort them by the amount of employees in ascending order."
   ]
  },
  {
   "cell_type": "code",
   "execution_count": 105,
   "metadata": {},
   "outputs": [
    {
     "data": {
      "text/plain": [
       "[{'name': 'Expedia', 'category_code': 'web', 'number_of_employees': 4400},\n",
       " {'name': 'AOL', 'category_code': 'web', 'number_of_employees': 8000},\n",
       " {'name': 'Webkinz', 'category_code': 'web', 'number_of_employees': 8657},\n",
       " {'name': 'Rakuten', 'category_code': 'web', 'number_of_employees': 10000},\n",
       " {'name': 'Los Angeles Times Media Group',\n",
       "  'category_code': 'web',\n",
       "  'number_of_employees': 10000},\n",
       " {'name': 'Groupon', 'category_code': 'web', 'number_of_employees': 10000},\n",
       " {'name': 'Yahoo!', 'category_code': 'web', 'number_of_employees': 13600},\n",
       " {'name': 'eBay', 'category_code': 'web', 'number_of_employees': 15000},\n",
       " {'name': 'Experian', 'category_code': 'web', 'number_of_employees': 15500}]"
      ]
     },
     "execution_count": 105,
     "metadata": {},
     "output_type": "execute_result"
    }
   ],
   "source": [
    "proyec = {\"name\": 1, \"number_of_employees\": 1, 'category_code':1, '_id': 0}\n",
    "c1 = {'category_code':'web'}\n",
    "c2= {'number_of_employees': {'$gt' : 4000}}\n",
    "query = {'$and':[c1,c2]}\n",
    "list(c.find(query,proyec).sort('number_of_employees'))"
   ]
  },
  {
   "cell_type": "markdown",
   "metadata": {},
   "source": [
    "### 17. All the companies whose acquisition amount is more than 10.000.000, and currency is 'EUR'."
   ]
  },
  {
   "cell_type": "code",
   "execution_count": 106,
   "metadata": {},
   "outputs": [],
   "source": [
    "proyec = {\"name\": 1, 'acquisition':1, '_id': 0}\n",
    "c1 = {'acquisition.price_currency_code':'EUR'}\n",
    "c2 = {'acquisition.price_amount':{'$gt':10000000}}\n",
    "query = {'$and':[c1,c2]}\n",
    "comp_eur = list(c.find(query,proyec))\n",
    "#comp_eur"
   ]
  },
  {
   "cell_type": "markdown",
   "metadata": {},
   "source": [
    "### 18. All the companies that have been acquired on the first trimester of the year. Limit the search to 10 companies, and retrieve only their `name` and `acquisition` fields."
   ]
  },
  {
   "cell_type": "code",
   "execution_count": 109,
   "metadata": {},
   "outputs": [],
   "source": [
    "proyec = {\"name\": 1, \"acquisition\": 1, '_id': 0}\n",
    "comp_1trs = list(c.find({\"acquisition.acquired_month\": {\"$in\": [1,2,3]}}, proyec).limit(10))\n",
    "#comp_1trs"
   ]
  },
  {
   "cell_type": "markdown",
   "metadata": {},
   "source": [
    "# Bonus\n",
    "### 19. All the companies that have been founded between 2000 and 2010, but have not been acquired before 2011."
   ]
  },
  {
   "cell_type": "code",
   "execution_count": 110,
   "metadata": {},
   "outputs": [],
   "source": [
    "proyec = {\"name\":1, \"acquisition.acquired_year\":1, \"_id\":0}\n",
    "c1 = {'founded_year': {'$gte':2000}}\n",
    "c2 = {'founded_year': {'$lt':2010}}\n",
    "c3 = {'acquisition.acquired_year': {'$nin':list(range(0,2012))}}\n",
    "query = {'$and':[c1,c2,c3]}\n",
    "comp_bet = list(c.find(query,proyec))\n",
    "#comp_bet"
   ]
  },
  {
   "cell_type": "markdown",
   "metadata": {},
   "source": [
    "### 20. All the companies that have been 'deadpooled' after the third year."
   ]
  },
  {
   "cell_type": "code",
   "execution_count": null,
   "metadata": {},
   "outputs": [],
   "source": [
    "# Your Code"
   ]
  }
 ],
 "metadata": {
  "kernelspec": {
   "display_name": "Python 3 (ipykernel)",
   "language": "python",
   "name": "python3"
  },
  "language_info": {
   "codemirror_mode": {
    "name": "ipython",
    "version": 3
   },
   "file_extension": ".py",
   "mimetype": "text/x-python",
   "name": "python",
   "nbconvert_exporter": "python",
   "pygments_lexer": "ipython3",
   "version": "3.9.7"
  }
 },
 "nbformat": 4,
 "nbformat_minor": 2
}
